{
 "cells": [
  {
   "cell_type": "code",
   "execution_count": 1,
   "metadata": {},
   "outputs": [],
   "source": [
    "import pandas as pd\n",
    "import numpy as np"
   ]
  },
  {
   "cell_type": "code",
   "execution_count": 75,
   "metadata": {},
   "outputs": [],
   "source": [
    "from sklearn.linear_model import LogisticRegression\n",
    "from sklearn.ensemble import ExtraTreesClassifier, GradientBoostingClassifier, RandomForestClassifier\n",
    "from sklearn.linear_model import LogisticRegression, Perceptron\n",
    "from sklearn.model_selection import RandomizedSearchCV, StratifiedKFold, train_test_split"
   ]
  },
  {
   "cell_type": "code",
   "execution_count": 3,
   "metadata": {},
   "outputs": [],
   "source": [
    "from sklearn.metrics import balanced_accuracy_score, accuracy_score"
   ]
  },
  {
   "cell_type": "code",
   "execution_count": 4,
   "metadata": {},
   "outputs": [],
   "source": [
    "import tensorflow as tf\n",
    "from tensorflow.keras import layers, models"
   ]
  },
  {
   "cell_type": "code",
   "execution_count": 5,
   "metadata": {},
   "outputs": [],
   "source": [
    "def map_feature_importance(alg, data):\n",
    "    try:\n",
    "        imp_list = list(alg.feature_importances_)\n",
    "    except AttributeError:\n",
    "        imp_list = list(alg.coef_)\n",
    "        imp_list = imp_list[0]\n",
    "    feat_list = data.columns.to_list()\n",
    "    to_sort = list(zip(feat_list, imp_list))\n",
    "    sorted_list = sorted(to_sort, key=lambda x: x[1], reverse=True)\n",
    "    return sorted_list"
   ]
  },
  {
   "cell_type": "code",
   "execution_count": 6,
   "metadata": {},
   "outputs": [],
   "source": [
    "def pick_overthreshold(seq, thresh):\n",
    "    if len(seq) == 1:\n",
    "        seq = seq[0]\n",
    "    picked = [i[0] for i in seq if i[1] > thresh]\n",
    "    return picked"
   ]
  },
  {
   "cell_type": "code",
   "execution_count": 7,
   "metadata": {},
   "outputs": [],
   "source": [
    "def choose_best_feats(algo, X_train, X_test, y_train, y_test):\n",
    "    best_feats = []\n",
    "    best_ba = 0\n",
    "    best_acc = 0\n",
    "    algo.fit(X_train, y_train)\n",
    "    #preds = random_forest_simples.predict(X_test)\n",
    "    mapped = map_feature_importance(algo, X_train)\n",
    "    for i in np.linspace(0.01, 0.1, 10):\n",
    "        feats = pick_overthreshold(mapped, i)\n",
    "        algo.fit(X_train[feats], y_train)\n",
    "        pr = algo.predict(X_test[feats])\n",
    "        ba = balanced_accuracy_score(y_test, pr)\n",
    "        acc = accuracy_score(y_test, pr)\n",
    "        if ba > best_ba:\n",
    "            best_feats = feats\n",
    "            best_ba = ba\n",
    "            best_acc = acc\n",
    "    print(f'features are: {best_feats}')\n",
    "    print(f'balanced accuracy is {best_ba}')\n",
    "    print(f'accuracy is {best_acc}')\n",
    "    print()"
   ]
  },
  {
   "cell_type": "code",
   "execution_count": 8,
   "metadata": {},
   "outputs": [],
   "source": [
    "def map_coefs(dataset, logit):\n",
    "    for pair in list(zip(dataset.columns, logit.coef_[0])):\n",
    "        print(pair)"
   ]
  },
  {
   "cell_type": "code",
   "execution_count": 9,
   "metadata": {},
   "outputs": [],
   "source": [
    "data = pd.read_csv('dataset_exp.csv', encoding = 'mac_cyrillic', sep=';')"
   ]
  },
  {
   "cell_type": "code",
   "execution_count": 10,
   "metadata": {},
   "outputs": [
    {
     "data": {
      "text/html": [
       "<div>\n",
       "<style scoped>\n",
       "    .dataframe tbody tr th:only-of-type {\n",
       "        vertical-align: middle;\n",
       "    }\n",
       "\n",
       "    .dataframe tbody tr th {\n",
       "        vertical-align: top;\n",
       "    }\n",
       "\n",
       "    .dataframe thead th {\n",
       "        text-align: right;\n",
       "    }\n",
       "</style>\n",
       "<table border=\"1\" class=\"dataframe\">\n",
       "  <thead>\n",
       "    <tr style=\"text-align: right;\">\n",
       "      <th></th>\n",
       "      <th>Word</th>\n",
       "      <th>Transcription</th>\n",
       "      <th>Syllables</th>\n",
       "      <th>frequency</th>\n",
       "      <th>IPM</th>\n",
       "      <th>TF</th>\n",
       "      <th>PoS</th>\n",
       "      <th>isPr</th>\n",
       "      <th>Type</th>\n",
       "      <th>is_compound</th>\n",
       "      <th>Reduced</th>\n",
       "    </tr>\n",
       "  </thead>\n",
       "  <tbody>\n",
       "    <tr>\n",
       "      <th>0</th>\n",
       "      <td>вижу</td>\n",
       "      <td>v'iZu</td>\n",
       "      <td>2</td>\n",
       "      <td>2817</td>\n",
       "      <td>216.670000</td>\n",
       "      <td>1</td>\n",
       "      <td>2</td>\n",
       "      <td>0</td>\n",
       "      <td>2</td>\n",
       "      <td>0</td>\n",
       "      <td>0</td>\n",
       "    </tr>\n",
       "    <tr>\n",
       "      <th>1</th>\n",
       "      <td>все</td>\n",
       "      <td>fs'e:</td>\n",
       "      <td>1</td>\n",
       "      <td>49301</td>\n",
       "      <td>3792.010000</td>\n",
       "      <td>7</td>\n",
       "      <td>9</td>\n",
       "      <td>0</td>\n",
       "      <td>2</td>\n",
       "      <td>0</td>\n",
       "      <td>0</td>\n",
       "    </tr>\n",
       "    <tr>\n",
       "      <th>2</th>\n",
       "      <td>руки</td>\n",
       "      <td>ruk'@</td>\n",
       "      <td>2</td>\n",
       "      <td>2599</td>\n",
       "      <td>199.900000</td>\n",
       "      <td>1</td>\n",
       "      <td>1</td>\n",
       "      <td>0</td>\n",
       "      <td>2</td>\n",
       "      <td>0</td>\n",
       "      <td>0</td>\n",
       "    </tr>\n",
       "    <tr>\n",
       "      <th>3</th>\n",
       "      <td>подняты</td>\n",
       "      <td>podn'itQ</td>\n",
       "      <td>3</td>\n",
       "      <td>11</td>\n",
       "      <td>0.850000</td>\n",
       "      <td>1</td>\n",
       "      <td>5</td>\n",
       "      <td>0</td>\n",
       "      <td>2</td>\n",
       "      <td>0</td>\n",
       "      <td>0</td>\n",
       "    </tr>\n",
       "    <tr>\n",
       "      <th>4</th>\n",
       "      <td>давайте</td>\n",
       "      <td>d@vaIt'i</td>\n",
       "      <td>3</td>\n",
       "      <td>7185</td>\n",
       "      <td>552.640000</td>\n",
       "      <td>2</td>\n",
       "      <td>2</td>\n",
       "      <td>0</td>\n",
       "      <td>2</td>\n",
       "      <td>0</td>\n",
       "      <td>1</td>\n",
       "    </tr>\n",
       "    <tr>\n",
       "      <th>...</th>\n",
       "      <td>...</td>\n",
       "      <td>...</td>\n",
       "      <td>...</td>\n",
       "      <td>...</td>\n",
       "      <td>...</td>\n",
       "      <td>...</td>\n",
       "      <td>...</td>\n",
       "      <td>...</td>\n",
       "      <td>...</td>\n",
       "      <td>...</td>\n",
       "      <td>...</td>\n",
       "    </tr>\n",
       "    <tr>\n",
       "      <th>15356</th>\n",
       "      <td>всего</td>\n",
       "      <td>fs'ivo</td>\n",
       "      <td>2</td>\n",
       "      <td>8146</td>\n",
       "      <td>626.550000</td>\n",
       "      <td>1</td>\n",
       "      <td>9</td>\n",
       "      <td>0</td>\n",
       "      <td>2</td>\n",
       "      <td>0</td>\n",
       "      <td>0</td>\n",
       "    </tr>\n",
       "    <tr>\n",
       "      <th>15357</th>\n",
       "      <td>повезло</td>\n",
       "      <td>pQv'izlo</td>\n",
       "      <td>3</td>\n",
       "      <td>540</td>\n",
       "      <td>41.534391</td>\n",
       "      <td>1</td>\n",
       "      <td>2</td>\n",
       "      <td>0</td>\n",
       "      <td>2</td>\n",
       "      <td>0</td>\n",
       "      <td>0</td>\n",
       "    </tr>\n",
       "    <tr>\n",
       "      <th>15358</th>\n",
       "      <td>Григоровичу</td>\n",
       "      <td>gr'igeroiCu:</td>\n",
       "      <td>5</td>\n",
       "      <td>0</td>\n",
       "      <td>0.000000</td>\n",
       "      <td>1</td>\n",
       "      <td>1</td>\n",
       "      <td>0</td>\n",
       "      <td>2</td>\n",
       "      <td>0</td>\n",
       "      <td>1</td>\n",
       "    </tr>\n",
       "    <tr>\n",
       "      <th>15359</th>\n",
       "      <td>и</td>\n",
       "      <td>Q</td>\n",
       "      <td>1</td>\n",
       "      <td>332602</td>\n",
       "      <td>25582.270000</td>\n",
       "      <td>49</td>\n",
       "      <td>8</td>\n",
       "      <td>1</td>\n",
       "      <td>2</td>\n",
       "      <td>0</td>\n",
       "      <td>0</td>\n",
       "    </tr>\n",
       "    <tr>\n",
       "      <th>15360</th>\n",
       "      <td>Макарову</td>\n",
       "      <td>makar@vo</td>\n",
       "      <td>4</td>\n",
       "      <td>3</td>\n",
       "      <td>0.230747</td>\n",
       "      <td>1</td>\n",
       "      <td>1</td>\n",
       "      <td>0</td>\n",
       "      <td>2</td>\n",
       "      <td>0</td>\n",
       "      <td>0</td>\n",
       "    </tr>\n",
       "  </tbody>\n",
       "</table>\n",
       "<p>15361 rows × 11 columns</p>\n",
       "</div>"
      ],
      "text/plain": [
       "              Word Transcription  Syllables frequency           IPM  TF  PoS  \\\n",
       "0             вижу         v'iZu          2      2817    216.670000   1    2   \n",
       "1              все         fs'e:          1     49301   3792.010000   7    9   \n",
       "2             руки         ruk'@          2      2599    199.900000   1    1   \n",
       "3          подняты      podn'itQ          3        11      0.850000   1    5   \n",
       "4          давайте      d@vaIt'i          3      7185    552.640000   2    2   \n",
       "...            ...           ...        ...       ...           ...  ..  ...   \n",
       "15356        всего        fs'ivo          2      8146    626.550000   1    9   \n",
       "15357      повезло      pQv'izlo          3       540     41.534391   1    2   \n",
       "15358  Григоровичу  gr'igeroiCu:          5         0      0.000000   1    1   \n",
       "15359            и             Q          1    332602  25582.270000  49    8   \n",
       "15360     Макарову      makar@vo          4         3      0.230747   1    1   \n",
       "\n",
       "       isPr  Type  is_compound  Reduced  \n",
       "0         0     2            0        0  \n",
       "1         0     2            0        0  \n",
       "2         0     2            0        0  \n",
       "3         0     2            0        0  \n",
       "4         0     2            0        1  \n",
       "...     ...   ...          ...      ...  \n",
       "15356     0     2            0        0  \n",
       "15357     0     2            0        0  \n",
       "15358     0     2            0        1  \n",
       "15359     1     2            0        0  \n",
       "15360     0     2            0        0  \n",
       "\n",
       "[15361 rows x 11 columns]"
      ]
     },
     "execution_count": 10,
     "metadata": {},
     "output_type": "execute_result"
    }
   ],
   "source": [
    "data"
   ]
  },
  {
   "cell_type": "code",
   "execution_count": 11,
   "metadata": {},
   "outputs": [],
   "source": [
    "data['PoS'] = data['PoS'].astype('category')\n",
    "data['Type'] = data['Type'].astype('category')"
   ]
  },
  {
   "cell_type": "code",
   "execution_count": 12,
   "metadata": {},
   "outputs": [],
   "source": [
    "data['IPM'] = data['IPM'].astype('float')"
   ]
  },
  {
   "cell_type": "code",
   "execution_count": 13,
   "metadata": {},
   "outputs": [],
   "source": [
    "parts_of_speech = {1: 'is_noun', 2: 'is_verb', 3: 'is_adj', 4: 'is_adv', 5: 'is_part', 6: 'is_pronoun', 7: 'is_prep',\n",
    "                  8: 'is_conj', 9: 'is_pr_adj', 10: 'is_deepr', 11: 'is_particle', 12: 'is_pr_adv', 13: 'is_stat', 14: 'is_numer',\n",
    "                  15: 'is_inter', 16: 'is_vvod', 17: 'is_pr_noun', 18: 'is_pr_num'}"
   ]
  },
  {
   "cell_type": "code",
   "execution_count": 14,
   "metadata": {},
   "outputs": [],
   "source": [
    "for i in parts_of_speech:\n",
    "    data[parts_of_speech[i]] = np.where(data['PoS'] == i, 1, 0)"
   ]
  },
  {
   "cell_type": "code",
   "execution_count": 15,
   "metadata": {},
   "outputs": [],
   "source": [
    "data = data.drop('PoS', axis=1)"
   ]
  },
  {
   "cell_type": "code",
   "execution_count": 16,
   "metadata": {},
   "outputs": [],
   "source": [
    "data = data.drop('Word', axis=1)\n",
    "data = data.drop('Transcription', axis=1)"
   ]
  },
  {
   "cell_type": "code",
   "execution_count": 17,
   "metadata": {},
   "outputs": [],
   "source": [
    "simples = data[data['is_compound']==0]"
   ]
  },
  {
   "cell_type": "code",
   "execution_count": 18,
   "metadata": {},
   "outputs": [],
   "source": [
    "simples_y = simples['Reduced']"
   ]
  },
  {
   "cell_type": "code",
   "execution_count": 19,
   "metadata": {},
   "outputs": [],
   "source": [
    "simples_X = simples.drop('Reduced', axis=1)"
   ]
  },
  {
   "cell_type": "code",
   "execution_count": 20,
   "metadata": {},
   "outputs": [],
   "source": [
    "simples_X = simples_X.drop('is_compound', axis=1)"
   ]
  },
  {
   "cell_type": "code",
   "execution_count": 21,
   "metadata": {},
   "outputs": [],
   "source": [
    "simples_X = simples_X.drop('frequency', axis=1)"
   ]
  },
  {
   "cell_type": "code",
   "execution_count": 22,
   "metadata": {},
   "outputs": [],
   "source": [
    "compounds = data[data['is_compound']==1]"
   ]
  },
  {
   "cell_type": "code",
   "execution_count": 23,
   "metadata": {},
   "outputs": [],
   "source": [
    "compounds_y = compounds['Reduced']"
   ]
  },
  {
   "cell_type": "code",
   "execution_count": 24,
   "metadata": {},
   "outputs": [],
   "source": [
    "compounds_X = compounds.drop('Reduced', axis=1)"
   ]
  },
  {
   "cell_type": "code",
   "execution_count": 25,
   "metadata": {},
   "outputs": [],
   "source": [
    "compounds_X = compounds_X.drop('is_compound', axis=1)"
   ]
  },
  {
   "cell_type": "code",
   "execution_count": 26,
   "metadata": {},
   "outputs": [],
   "source": [
    "compounds_X = compounds_X.drop('frequency', axis=1)"
   ]
  },
  {
   "cell_type": "code",
   "execution_count": 27,
   "metadata": {},
   "outputs": [],
   "source": [
    "X_simples_train, X_simples_test, y_simples_train, y_simples_test = train_test_split(simples_X, \n",
    "                                                                                    simples_y, test_size = 0.2, \n",
    "                                                                                    random_state = 0)"
   ]
  },
  {
   "cell_type": "code",
   "execution_count": 28,
   "metadata": {},
   "outputs": [],
   "source": [
    "X_compound_train, X_compound_test, y_compound_train, y_compound_test = train_test_split(compounds_X, \n",
    "                                                                                        compounds_y, test_size = 0.2, \n",
    "                                                                                        random_state = 0)"
   ]
  },
  {
   "cell_type": "code",
   "execution_count": 29,
   "metadata": {},
   "outputs": [],
   "source": [
    "data_normalized = data.copy()"
   ]
  },
  {
   "cell_type": "code",
   "execution_count": 30,
   "metadata": {},
   "outputs": [],
   "source": [
    "mean_IPM = data_normalized['IPM'].mean()"
   ]
  },
  {
   "cell_type": "code",
   "execution_count": 31,
   "metadata": {},
   "outputs": [],
   "source": [
    "std_IPM = data_normalized['IPM'].std()"
   ]
  },
  {
   "cell_type": "code",
   "execution_count": 32,
   "metadata": {},
   "outputs": [],
   "source": [
    "data_normalized['IPM'] -= mean_IPM\n",
    "data_normalized['IPM'] /= std_IPM"
   ]
  },
  {
   "cell_type": "code",
   "execution_count": 33,
   "metadata": {},
   "outputs": [],
   "source": [
    "mean_TF = data_normalized['TF'].mean()\n",
    "std_TF = data_normalized['TF'].std()"
   ]
  },
  {
   "cell_type": "code",
   "execution_count": 34,
   "metadata": {},
   "outputs": [],
   "source": [
    "data_normalized['TF'] -= mean_TF\n",
    "data_normalized['TF'] /= std_TF"
   ]
  },
  {
   "cell_type": "code",
   "execution_count": 35,
   "metadata": {},
   "outputs": [],
   "source": [
    "data_normalized = data_normalized.drop('frequency', axis=1)"
   ]
  },
  {
   "cell_type": "code",
   "execution_count": 36,
   "metadata": {},
   "outputs": [],
   "source": [
    "simple_norm = data_normalized[data_normalized['is_compound']==0]"
   ]
  },
  {
   "cell_type": "code",
   "execution_count": 37,
   "metadata": {},
   "outputs": [],
   "source": [
    "simple_norm_y = simple_norm['Reduced']"
   ]
  },
  {
   "cell_type": "code",
   "execution_count": 38,
   "metadata": {},
   "outputs": [],
   "source": [
    "simple_norm = simple_norm.drop('Reduced', axis=1)"
   ]
  },
  {
   "cell_type": "code",
   "execution_count": 39,
   "metadata": {},
   "outputs": [],
   "source": [
    "simple_norm = simple_norm.drop('is_compound', axis=1)"
   ]
  },
  {
   "cell_type": "code",
   "execution_count": 40,
   "metadata": {},
   "outputs": [],
   "source": [
    "compounds_norm = data_normalized[data_normalized['is_compound']==1]"
   ]
  },
  {
   "cell_type": "code",
   "execution_count": 41,
   "metadata": {},
   "outputs": [],
   "source": [
    "compounds_norm_y = compounds_norm['Reduced']"
   ]
  },
  {
   "cell_type": "code",
   "execution_count": 42,
   "metadata": {},
   "outputs": [],
   "source": [
    "compounds_norm = compounds_norm.drop('Reduced', axis=1)"
   ]
  },
  {
   "cell_type": "code",
   "execution_count": 43,
   "metadata": {},
   "outputs": [],
   "source": [
    "compounds_norm = compounds_norm.drop('is_compound', axis=1)"
   ]
  },
  {
   "cell_type": "code",
   "execution_count": 44,
   "metadata": {},
   "outputs": [],
   "source": [
    "X_simples_norm_train, X_simples_norm_test, y_simples_norm_train, y_simples_norm_test = train_test_split(simple_norm, \n",
    "                                                                                    simple_norm_y, test_size = 0.2, \n",
    "                                                                                    random_state = 0)"
   ]
  },
  {
   "cell_type": "code",
   "execution_count": 45,
   "metadata": {},
   "outputs": [],
   "source": [
    "X_compound_norm_train, X_compound_norm_test, y_compound_norm_train, y_compound_norm_test = train_test_split(\n",
    "    compounds_norm, compounds_norm_y, test_size = 0.2, random_state = 0)"
   ]
  },
  {
   "cell_type": "code",
   "execution_count": 46,
   "metadata": {},
   "outputs": [],
   "source": [
    "data_log = data.copy()"
   ]
  },
  {
   "cell_type": "code",
   "execution_count": 47,
   "metadata": {},
   "outputs": [
    {
     "name": "stderr",
     "output_type": "stream",
     "text": [
      "/Users/ruth/coding/env/lib/python3.8/site-packages/pandas/core/series.py:726: RuntimeWarning: divide by zero encountered in log\n",
      "  result = getattr(ufunc, method)(*inputs, **kwargs)\n"
     ]
    }
   ],
   "source": [
    "data_log['IPM'] = np.log(data_log['IPM'])\n",
    "data_log['TF'] = np.log(data_log['TF'])"
   ]
  },
  {
   "cell_type": "code",
   "execution_count": 49,
   "metadata": {},
   "outputs": [],
   "source": [
    "data_log = data_log.drop('frequency', axis=1)"
   ]
  },
  {
   "cell_type": "code",
   "execution_count": 50,
   "metadata": {},
   "outputs": [],
   "source": [
    "simple_log = data_log[data_log['is_compound']==0]"
   ]
  },
  {
   "cell_type": "code",
   "execution_count": 51,
   "metadata": {},
   "outputs": [],
   "source": [
    "simple_log_y = simple_log['Reduced']"
   ]
  },
  {
   "cell_type": "code",
   "execution_count": 52,
   "metadata": {},
   "outputs": [],
   "source": [
    "simple_log = simple_log.drop('Reduced', axis=1)"
   ]
  },
  {
   "cell_type": "code",
   "execution_count": 53,
   "metadata": {},
   "outputs": [],
   "source": [
    "simple_log = simple_log.drop('is_compound', axis=1)"
   ]
  },
  {
   "cell_type": "code",
   "execution_count": 54,
   "metadata": {},
   "outputs": [],
   "source": [
    "simple_log['IPM'] = np.where(simple_log['IPM'] == -np.inf, 0, simple_log['IPM'])"
   ]
  },
  {
   "cell_type": "code",
   "execution_count": 55,
   "metadata": {},
   "outputs": [],
   "source": [
    "X_simples_log_train, X_simples_log_test, y_simples_log_train, y_simples_log_test = train_test_split(simple_log, \n",
    "                                                                                    simple_log_y, test_size = 0.2, \n",
    "                                                                                    random_state = 0)"
   ]
  },
  {
   "cell_type": "code",
   "execution_count": 56,
   "metadata": {},
   "outputs": [],
   "source": [
    "compound_log = data_log[data_log['is_compound']==1]"
   ]
  },
  {
   "cell_type": "code",
   "execution_count": 57,
   "metadata": {},
   "outputs": [],
   "source": [
    "compound_log_y = compound_log['Reduced']"
   ]
  },
  {
   "cell_type": "code",
   "execution_count": 58,
   "metadata": {},
   "outputs": [],
   "source": [
    "compound_log = compound_log.drop('Reduced', axis=1)"
   ]
  },
  {
   "cell_type": "code",
   "execution_count": 59,
   "metadata": {},
   "outputs": [],
   "source": [
    "compound_log = compound_log.drop('is_compound', axis=1)"
   ]
  },
  {
   "cell_type": "code",
   "execution_count": 60,
   "metadata": {},
   "outputs": [],
   "source": [
    "compound_log['IPM'] = np.where(compound_log['IPM'] == -np.inf, 0, compound_log['IPM'])"
   ]
  },
  {
   "cell_type": "code",
   "execution_count": 61,
   "metadata": {},
   "outputs": [],
   "source": [
    "X_compound_log_train, X_compound_log_test, y_compound_log_train, y_compound_log_test = train_test_split(compound_log, \n",
    "                                                                                    compound_log_y, test_size = 0.2, \n",
    "                                                                                    random_state = 0)"
   ]
  },
  {
   "cell_type": "code",
   "execution_count": 63,
   "metadata": {},
   "outputs": [],
   "source": [
    "kf = StratifiedKFold(n_splits=10, shuffle=True, random_state=0)"
   ]
  },
  {
   "cell_type": "code",
   "execution_count": 70,
   "metadata": {},
   "outputs": [],
   "source": [
    "c = [0.0001, 0.001, 0.01, 0.1, 1, 10]"
   ]
  },
  {
   "cell_type": "markdown",
   "metadata": {},
   "source": [
    "# compound"
   ]
  },
  {
   "cell_type": "code",
   "execution_count": 64,
   "metadata": {},
   "outputs": [],
   "source": [
    "random_forest_compounds = RandomForestClassifier(n_estimators=300, random_state=0)"
   ]
  },
  {
   "cell_type": "code",
   "execution_count": 1089,
   "metadata": {},
   "outputs": [
    {
     "name": "stdout",
     "output_type": "stream",
     "text": [
      "is_vvod False\n",
      "isPr True\n",
      "Type True\n",
      "is_adj True\n",
      "Syllables True\n",
      "TF True\n",
      "is_prep True\n",
      "IPM True\n",
      "is_conj True\n",
      "is_verb False\n",
      "is_pr_adv False\n",
      "is_pronoun True\n",
      "is_adv False\n",
      "is_particle True\n"
     ]
    }
   ],
   "source": [
    "for i in nn_compound[1]:\n",
    "    print(i, i in nn_simple[1])"
   ]
  },
  {
   "cell_type": "code",
   "execution_count": 66,
   "metadata": {},
   "outputs": [
    {
     "data": {
      "text/plain": [
       "RandomForestClassifier(n_estimators=300, random_state=0)"
      ]
     },
     "execution_count": 66,
     "metadata": {},
     "output_type": "execute_result"
    }
   ],
   "source": [
    "random_forest_compounds.fit(X_compound_train, y_compound_train)"
   ]
  },
  {
   "cell_type": "code",
   "execution_count": 67,
   "metadata": {},
   "outputs": [],
   "source": [
    "random_forest_compounds_preds = random_forest_compounds.predict(X_compound_test)"
   ]
  },
  {
   "cell_type": "code",
   "execution_count": 68,
   "metadata": {},
   "outputs": [
    {
     "name": "stdout",
     "output_type": "stream",
     "text": [
      "features are: ['IPM', 'Syllables', 'TF', 'is_vvod']\n",
      "balanced accuracy is 0.8364130434782608\n",
      "accuracy is 0.8372093023255814\n",
      "\n"
     ]
    }
   ],
   "source": [
    "choose_best_feats(random_forest_compounds, X_compound_train, X_compound_test, \n",
    "                  y_compound_train, y_compound_test)"
   ]
  },
  {
   "cell_type": "code",
   "execution_count": 71,
   "metadata": {},
   "outputs": [],
   "source": [
    "list_of_lists = []\n",
    "for i in c:\n",
    "    per_sn = Perceptron(penalty='l1', alpha=i)\n",
    "    per_sn.fit(X_compound_log_train, y_compound_log_train)\n",
    "    preds = per_sn.predict(X_compound_log_test)\n",
    "    list_feats = sorted(map_feature_importance(per_sn, X_compound_log_train), key=lambda x: x[1], reverse=True)\n",
    "    feats = [i[0] for i in list_feats if i[1] != 0]\n",
    "    if feats:\n",
    "        list_of_lists.append(feats)\n"
   ]
  },
  {
   "cell_type": "code",
   "execution_count": 72,
   "metadata": {},
   "outputs": [
    {
     "name": "stdout",
     "output_type": "stream",
     "text": [
      "C is 0.0001\n",
      "Features are ['is_adj', 'isPr', 'is_vvod', 'TF', 'is_prep', 'is_numer', 'is_inter', 'is_pr_noun', 'Type', 'Syllables', 'is_pr_adj', 'is_noun', 'IPM', 'is_conj', 'is_verb', 'is_adv', 'is_pronoun', 'is_pr_adv', 'is_particle']\n",
      "ba is 0.5836956521739131\n",
      "0.5930232558139535\n",
      "\n",
      "C is 0.001\n",
      "Features are ['is_adj', 'isPr', 'is_vvod', 'TF', 'is_prep', 'is_numer', 'is_inter', 'is_pr_noun', 'Type', 'Syllables', 'is_pr_adj', 'is_noun', 'IPM', 'is_conj', 'is_verb', 'is_adv', 'is_pronoun', 'is_pr_adv', 'is_particle']\n",
      "ba is 0.6967391304347825\n",
      "0.686046511627907\n",
      "\n"
     ]
    }
   ],
   "source": [
    "max_ba = 0\n",
    "for feats in list_of_lists:\n",
    "    for i in c:\n",
    "        per = Perceptron(penalty='l1', alpha=i)\n",
    "        per.fit(X_compound_log_train[feats], y_compound_log_train)\n",
    "        preds = per.predict(X_compound_log_test[feats])\n",
    "        ba = balanced_accuracy_score(y_compound_log_test, preds)\n",
    "        if ba > max_ba:\n",
    "            max_ba = ba\n",
    "            print(f'C is {i}')\n",
    "            print(f'Features are {feats}')\n",
    "            print(f'ba is {ba}')\n",
    "            print(accuracy_score(y_compound_log_test, preds))\n",
    "            print()"
   ]
  },
  {
   "cell_type": "code",
   "execution_count": 76,
   "metadata": {},
   "outputs": [],
   "source": [
    "gb_compound = GradientBoostingClassifier(random_state=0, n_estimators=300)"
   ]
  },
  {
   "cell_type": "code",
   "execution_count": 77,
   "metadata": {},
   "outputs": [
    {
     "data": {
      "text/plain": [
       "GradientBoostingClassifier(n_estimators=300, random_state=0)"
      ]
     },
     "execution_count": 77,
     "metadata": {},
     "output_type": "execute_result"
    }
   ],
   "source": [
    "gb_compound.fit(X_compound_train, y_compound_train)"
   ]
  },
  {
   "cell_type": "code",
   "execution_count": 78,
   "metadata": {},
   "outputs": [
    {
     "name": "stdout",
     "output_type": "stream",
     "text": [
      "features are: ['IPM', 'Syllables', 'TF']\n",
      "balanced accuracy is 0.8130434782608695\n",
      "accuracy is 0.813953488372093\n",
      "\n"
     ]
    }
   ],
   "source": [
    "choose_best_feats(gb_compound, X_compound_train, X_compound_test, y_compound_train, y_compound_test)"
   ]
  },
  {
   "cell_type": "code",
   "execution_count": 79,
   "metadata": {},
   "outputs": [],
   "source": [
    "nn_compound = [['IPM', 'Syllables', 'TF', 'is_vvod'],\n",
    "['is_adj', 'isPr', 'is_vvod', 'TF', 'is_prep', 'is_numer', \n",
    " 'is_inter', 'is_pr_noun', 'Type', 'Syllables', 'is_pr_adj', \n",
    " 'is_noun', 'IPM', 'is_conj', 'is_verb', 'is_adv', 'is_pronoun', 'is_pr_adv', 'is_particle'],\n",
    "['IPM', 'Syllables', 'TF']]"
   ]
  },
  {
   "cell_type": "code",
   "execution_count": 145,
   "metadata": {},
   "outputs": [],
   "source": [
    "parameters_grid = {\n",
    "    'fit_intercept': [True, False],\n",
    "    'max_iter': np.linspace(100, 900, num=17, dtype=int),\n",
    "    'penalty': ['l1', 'l2'],   \n",
    "    'solver': ['liblinear', 'saga'], \n",
    "    'C': c,\n",
    "}"
   ]
  },
  {
   "cell_type": "code",
   "execution_count": 146,
   "metadata": {},
   "outputs": [],
   "source": [
    "log_compound = LogisticRegression(random_state=0)"
   ]
  },
  {
   "cell_type": "code",
   "execution_count": 147,
   "metadata": {},
   "outputs": [],
   "source": [
    "grid_compound4 = RandomizedSearchCV(log_compound, parameters_grid, scoring = 'balanced_accuracy', cv = kf, random_state=0)"
   ]
  },
  {
   "cell_type": "code",
   "execution_count": 148,
   "metadata": {},
   "outputs": [],
   "source": [
    "X_compound_4_train = X_compound_log_train[nn_compound[0]]\n",
    "X_compound_4_test = X_compound_log_test[nn_compound[0]]"
   ]
  },
  {
   "cell_type": "code",
   "execution_count": 149,
   "metadata": {},
   "outputs": [
    {
     "data": {
      "text/plain": [
       "RandomizedSearchCV(cv=StratifiedKFold(n_splits=10, random_state=0, shuffle=True),\n",
       "                   estimator=LogisticRegression(random_state=0),\n",
       "                   param_distributions={'C': [0.0001, 0.001, 0.01, 0.1, 1, 10],\n",
       "                                        'fit_intercept': [True, False],\n",
       "                                        'max_iter': array([100, 150, 200, 250, 300, 350, 400, 450, 500, 550, 600, 650, 700,\n",
       "       750, 800, 850, 900]),\n",
       "                                        'penalty': ['l1', 'l2'],\n",
       "                                        'solver': ['liblinear', 'saga']},\n",
       "                   random_state=0, scoring='balanced_accuracy')"
      ]
     },
     "execution_count": 149,
     "metadata": {},
     "output_type": "execute_result"
    }
   ],
   "source": [
    "grid_compound4.fit(X_compound_4_train, y_compound_log_train)"
   ]
  },
  {
   "cell_type": "code",
   "execution_count": 150,
   "metadata": {},
   "outputs": [
    {
     "data": {
      "text/plain": [
       "{'solver': 'saga',\n",
       " 'penalty': 'l2',\n",
       " 'max_iter': 600,\n",
       " 'fit_intercept': True,\n",
       " 'C': 0.1}"
      ]
     },
     "execution_count": 150,
     "metadata": {},
     "output_type": "execute_result"
    }
   ],
   "source": [
    "grid_compound4.best_params_"
   ]
  },
  {
   "cell_type": "code",
   "execution_count": 151,
   "metadata": {},
   "outputs": [],
   "source": [
    "log_compound4 = LogisticRegression(random_state=0, solver='saga', penalty='l2', max_iter=600, fit_intercept=True, C=0.1)"
   ]
  },
  {
   "cell_type": "code",
   "execution_count": 152,
   "metadata": {},
   "outputs": [
    {
     "data": {
      "text/plain": [
       "LogisticRegression(C=0.1, max_iter=600, random_state=0, solver='saga')"
      ]
     },
     "execution_count": 152,
     "metadata": {},
     "output_type": "execute_result"
    }
   ],
   "source": [
    "log_compound4.fit(X_compound_4_train, y_compound_log_train)"
   ]
  },
  {
   "cell_type": "code",
   "execution_count": 153,
   "metadata": {},
   "outputs": [],
   "source": [
    "preds_compound_4 = log_compound4.predict(X_compound_4_test)"
   ]
  },
  {
   "cell_type": "code",
   "execution_count": 154,
   "metadata": {},
   "outputs": [
    {
     "name": "stdout",
     "output_type": "stream",
     "text": [
      "('IPM', 0.03369022515099606)\n",
      "('Syllables', 0.4000754109048525)\n",
      "('TF', 0.19743211913736905)\n",
      "('is_vvod', 0.7813460957216112)\n"
     ]
    }
   ],
   "source": [
    "map_coefs(X_compound_4_train, log_compound4)"
   ]
  },
  {
   "cell_type": "code",
   "execution_count": 155,
   "metadata": {},
   "outputs": [
    {
     "data": {
      "text/plain": [
       "0.6777173913043478"
      ]
     },
     "execution_count": 155,
     "metadata": {},
     "output_type": "execute_result"
    }
   ],
   "source": [
    "balanced_accuracy_score(y_compound_log_test, preds_compound_4)"
   ]
  },
  {
   "cell_type": "code",
   "execution_count": 156,
   "metadata": {},
   "outputs": [
    {
     "data": {
      "text/plain": [
       "0.6744186046511628"
      ]
     },
     "execution_count": 156,
     "metadata": {},
     "output_type": "execute_result"
    }
   ],
   "source": [
    "accuracy_score(y_compound_log_test, preds_compound_4)"
   ]
  },
  {
   "cell_type": "code",
   "execution_count": 157,
   "metadata": {},
   "outputs": [],
   "source": [
    "X_compound_19_train = X_compound_log_train[nn_compound[1]]\n",
    "X_compound_19_test = X_compound_log_test[nn_compound[1]]"
   ]
  },
  {
   "cell_type": "code",
   "execution_count": 158,
   "metadata": {},
   "outputs": [],
   "source": [
    "grid_compound19 = RandomizedSearchCV(log_compound, parameters_grid, scoring = 'balanced_accuracy', cv = kf, random_state=0)"
   ]
  },
  {
   "cell_type": "code",
   "execution_count": 159,
   "metadata": {},
   "outputs": [
    {
     "data": {
      "text/plain": [
       "RandomizedSearchCV(cv=StratifiedKFold(n_splits=10, random_state=0, shuffle=True),\n",
       "                   estimator=LogisticRegression(random_state=0),\n",
       "                   param_distributions={'C': [0.0001, 0.001, 0.01, 0.1, 1, 10],\n",
       "                                        'fit_intercept': [True, False],\n",
       "                                        'max_iter': array([100, 150, 200, 250, 300, 350, 400, 450, 500, 550, 600, 650, 700,\n",
       "       750, 800, 850, 900]),\n",
       "                                        'penalty': ['l1', 'l2'],\n",
       "                                        'solver': ['liblinear', 'saga']},\n",
       "                   random_state=0, scoring='balanced_accuracy')"
      ]
     },
     "execution_count": 159,
     "metadata": {},
     "output_type": "execute_result"
    }
   ],
   "source": [
    "grid_compound19.fit(X_compound_19_train, y_compound_log_train)"
   ]
  },
  {
   "cell_type": "code",
   "execution_count": 160,
   "metadata": {},
   "outputs": [
    {
     "data": {
      "text/plain": [
       "{'solver': 'saga',\n",
       " 'penalty': 'l2',\n",
       " 'max_iter': 600,\n",
       " 'fit_intercept': True,\n",
       " 'C': 0.1}"
      ]
     },
     "execution_count": 160,
     "metadata": {},
     "output_type": "execute_result"
    }
   ],
   "source": [
    "grid_compound19.best_params_"
   ]
  },
  {
   "cell_type": "code",
   "execution_count": 161,
   "metadata": {},
   "outputs": [],
   "source": [
    "log_compound19 = LogisticRegression(random_state=0, solver='saga', penalty='l2', max_iter=350, fit_intercept=True, C=0.1)"
   ]
  },
  {
   "cell_type": "code",
   "execution_count": 162,
   "metadata": {},
   "outputs": [
    {
     "data": {
      "text/plain": [
       "LogisticRegression(C=0.1, max_iter=350, random_state=0, solver='saga')"
      ]
     },
     "execution_count": 162,
     "metadata": {},
     "output_type": "execute_result"
    }
   ],
   "source": [
    "log_compound19.fit(X_compound_19_train, y_compound_log_train)"
   ]
  },
  {
   "cell_type": "code",
   "execution_count": 163,
   "metadata": {},
   "outputs": [],
   "source": [
    "preds_compound_19 = log_compound19.predict(X_compound_19_test)"
   ]
  },
  {
   "cell_type": "code",
   "execution_count": 164,
   "metadata": {},
   "outputs": [
    {
     "name": "stdout",
     "output_type": "stream",
     "text": [
      "('is_adj', 0.1298912484926274)\n",
      "('isPr', 0.2938933155793754)\n",
      "('is_vvod', 0.6707690967582922)\n",
      "('TF', 0.24989368507586013)\n",
      "('is_prep', 0.1503735881755562)\n",
      "('is_numer', 0.055563756519695515)\n",
      "('is_inter', 0.0934286794975457)\n",
      "('is_pr_noun', 0.06431368522252282)\n",
      "('Type', 0.39380368373171576)\n",
      "('Syllables', 0.390571910336091)\n",
      "('is_pr_adj', 0.007068752560193474)\n",
      "('is_noun', 0.07236935243378098)\n",
      "('IPM', 0.03500017913213787)\n",
      "('is_conj', -0.1656317488391209)\n",
      "('is_verb', -0.12435543257569677)\n",
      "('is_adv', -0.38350720624915785)\n",
      "('is_pronoun', -0.10779481322572254)\n",
      "('is_pr_adv', -0.11100096828632966)\n",
      "('is_particle', -0.3547966592201097)\n"
     ]
    }
   ],
   "source": [
    "map_coefs(X_compound_19_train, log_compound19)"
   ]
  },
  {
   "cell_type": "code",
   "execution_count": 194,
   "metadata": {},
   "outputs": [
    {
     "data": {
      "text/plain": [
       "0.7027173913043478"
      ]
     },
     "execution_count": 194,
     "metadata": {},
     "output_type": "execute_result"
    }
   ],
   "source": [
    "balanced_accuracy_score(y_compound_log_test, preds_compound_19)"
   ]
  },
  {
   "cell_type": "code",
   "execution_count": 166,
   "metadata": {},
   "outputs": [
    {
     "data": {
      "text/plain": [
       "0.6976744186046512"
      ]
     },
     "execution_count": 166,
     "metadata": {},
     "output_type": "execute_result"
    }
   ],
   "source": [
    "accuracy_score(y_compound_log_test, preds_compound_19)"
   ]
  },
  {
   "cell_type": "code",
   "execution_count": 167,
   "metadata": {},
   "outputs": [],
   "source": [
    "X_compound_3_train = X_compound_log_train[nn_compound[-1]]\n",
    "X_compound_3_test = X_compound_log_test[nn_compound[-1]]"
   ]
  },
  {
   "cell_type": "code",
   "execution_count": 170,
   "metadata": {},
   "outputs": [],
   "source": [
    "grid_compound3 = RandomizedSearchCV(log_compound, parameters_grid, scoring = 'balanced_accuracy', cv = kf, random_state=0)"
   ]
  },
  {
   "cell_type": "code",
   "execution_count": 171,
   "metadata": {},
   "outputs": [
    {
     "data": {
      "text/plain": [
       "RandomizedSearchCV(cv=StratifiedKFold(n_splits=10, random_state=0, shuffle=True),\n",
       "                   estimator=LogisticRegression(random_state=0),\n",
       "                   param_distributions={'C': [0.0001, 0.001, 0.01, 0.1, 1, 10],\n",
       "                                        'fit_intercept': [True, False],\n",
       "                                        'max_iter': array([100, 150, 200, 250, 300, 350, 400, 450, 500, 550, 600, 650, 700,\n",
       "       750, 800, 850, 900]),\n",
       "                                        'penalty': ['l1', 'l2'],\n",
       "                                        'solver': ['liblinear', 'saga']},\n",
       "                   random_state=0, scoring='balanced_accuracy')"
      ]
     },
     "execution_count": 171,
     "metadata": {},
     "output_type": "execute_result"
    }
   ],
   "source": [
    "grid_compound3.fit(X_compound_3_train, y_compound_log_train)"
   ]
  },
  {
   "cell_type": "code",
   "execution_count": 172,
   "metadata": {},
   "outputs": [
    {
     "data": {
      "text/plain": [
       "{'solver': 'saga',\n",
       " 'penalty': 'l2',\n",
       " 'max_iter': 600,\n",
       " 'fit_intercept': True,\n",
       " 'C': 0.1}"
      ]
     },
     "execution_count": 172,
     "metadata": {},
     "output_type": "execute_result"
    }
   ],
   "source": [
    "grid_compound3.best_params_"
   ]
  },
  {
   "cell_type": "code",
   "execution_count": 173,
   "metadata": {},
   "outputs": [],
   "source": [
    "log_compound3 = LogisticRegression(random_state=0, solver='saga', penalty='l2', max_iter=600, fit_intercept=True, C=0.1)"
   ]
  },
  {
   "cell_type": "code",
   "execution_count": 174,
   "metadata": {},
   "outputs": [
    {
     "data": {
      "text/plain": [
       "LogisticRegression(C=0.1, max_iter=600, random_state=0, solver='saga')"
      ]
     },
     "execution_count": 174,
     "metadata": {},
     "output_type": "execute_result"
    }
   ],
   "source": [
    "log_compound3.fit(X_compound_3_train, y_compound_log_train)"
   ]
  },
  {
   "cell_type": "code",
   "execution_count": 175,
   "metadata": {},
   "outputs": [],
   "source": [
    "preds_compound_3 = log_compound3.predict(X_compound_3_test)"
   ]
  },
  {
   "cell_type": "code",
   "execution_count": 176,
   "metadata": {},
   "outputs": [
    {
     "name": "stdout",
     "output_type": "stream",
     "text": [
      "('IPM', 0.051363718609410663)\n",
      "('Syllables', 0.4174419739068904)\n",
      "('TF', 0.2491663261968389)\n"
     ]
    }
   ],
   "source": [
    "map_coefs(X_compound_3_train, log_compound3)"
   ]
  },
  {
   "cell_type": "code",
   "execution_count": 177,
   "metadata": {},
   "outputs": [
    {
     "data": {
      "text/plain": [
       "0.6309782608695653"
      ]
     },
     "execution_count": 177,
     "metadata": {},
     "output_type": "execute_result"
    }
   ],
   "source": [
    "balanced_accuracy_score(y_compound_log_test, preds_compound_3)"
   ]
  },
  {
   "cell_type": "code",
   "execution_count": 178,
   "metadata": {},
   "outputs": [
    {
     "data": {
      "text/plain": [
       "0.627906976744186"
      ]
     },
     "execution_count": 178,
     "metadata": {},
     "output_type": "execute_result"
    }
   ],
   "source": [
    "accuracy_score(y_compound_log_test, preds_compound_3)"
   ]
  },
  {
   "cell_type": "code",
   "execution_count": 179,
   "metadata": {},
   "outputs": [],
   "source": [
    "from numpy.random import seed\n",
    "seed(1)\n",
    "tf.random.set_seed(1)"
   ]
  },
  {
   "cell_type": "code",
   "execution_count": 180,
   "metadata": {},
   "outputs": [],
   "source": [
    "keras_compound_4_train = np.array(X_compound_log_train[nn_compound[0]]) \n",
    "keras_compound_4_test = np.array(X_compound_log_test[nn_compound[0]])"
   ]
  },
  {
   "cell_type": "code",
   "execution_count": 181,
   "metadata": {},
   "outputs": [],
   "source": [
    "nn_compound_4 = models.Sequential()"
   ]
  },
  {
   "cell_type": "code",
   "execution_count": 182,
   "metadata": {},
   "outputs": [],
   "source": [
    "nn_compound_4.add(layers.Dense(256, activation='relu'))\n",
    "nn_compound_4.add(layers.Dense(256, activation='relu'))\n",
    "nn_compound_4.add(layers.Dense(256, activation='relu'))\n",
    "nn_compound_4.add(layers.Dense(128, activation='relu'))\n",
    "nn_compound_4.add(layers.Dense(128, activation='relu'))\n",
    "nn_compound_4.add(layers.Dense(128, activation='relu'))\n",
    "nn_compound_4.add(layers.Dense(64, activation='relu'))\n",
    "nn_compound_4.add(layers.Dense(1, activation='sigmoid'))"
   ]
  },
  {
   "cell_type": "code",
   "execution_count": 183,
   "metadata": {},
   "outputs": [],
   "source": [
    "nn_compound_4.compile(optimizer='rmsprop', loss = 'binary_crossentropy', metrics=['binary_accuracy'])"
   ]
  },
  {
   "cell_type": "code",
   "execution_count": 184,
   "metadata": {},
   "outputs": [
    {
     "name": "stdout",
     "output_type": "stream",
     "text": [
      "Epoch 1/50\n",
      "1/1 [==============================] - 1s 769ms/step - loss: 0.6913 - binary_accuracy: 0.4971\n",
      "Epoch 2/50\n",
      "1/1 [==============================] - 0s 6ms/step - loss: 0.6832 - binary_accuracy: 0.6374\n",
      "Epoch 3/50\n",
      "1/1 [==============================] - 0s 5ms/step - loss: 0.6713 - binary_accuracy: 0.5409\n",
      "Epoch 4/50\n",
      "1/1 [==============================] - 0s 5ms/step - loss: 0.7863 - binary_accuracy: 0.5029\n",
      "Epoch 5/50\n",
      "1/1 [==============================] - 0s 5ms/step - loss: 0.6743 - binary_accuracy: 0.5029\n",
      "Epoch 6/50\n",
      "1/1 [==============================] - 0s 5ms/step - loss: 0.6729 - binary_accuracy: 0.6871\n",
      "Epoch 7/50\n",
      "1/1 [==============================] - 0s 5ms/step - loss: 0.6884 - binary_accuracy: 0.5088\n",
      "Epoch 8/50\n",
      "1/1 [==============================] - 0s 5ms/step - loss: 0.6859 - binary_accuracy: 0.5322\n",
      "Epoch 9/50\n",
      "1/1 [==============================] - 0s 5ms/step - loss: 0.6645 - binary_accuracy: 0.5819\n",
      "Epoch 10/50\n",
      "1/1 [==============================] - 0s 5ms/step - loss: 0.6477 - binary_accuracy: 0.6374\n",
      "Epoch 11/50\n",
      "1/1 [==============================] - 0s 5ms/step - loss: 0.6338 - binary_accuracy: 0.6959\n",
      "Epoch 12/50\n",
      "1/1 [==============================] - 0s 5ms/step - loss: 0.6561 - binary_accuracy: 0.5877\n",
      "Epoch 13/50\n",
      "1/1 [==============================] - 0s 5ms/step - loss: 0.6806 - binary_accuracy: 0.5497\n",
      "Epoch 14/50\n",
      "1/1 [==============================] - 0s 6ms/step - loss: 0.6353 - binary_accuracy: 0.6754\n",
      "Epoch 15/50\n",
      "1/1 [==============================] - 0s 6ms/step - loss: 0.6184 - binary_accuracy: 0.6784\n",
      "Epoch 16/50\n",
      "1/1 [==============================] - 0s 6ms/step - loss: 0.6074 - binary_accuracy: 0.6433\n",
      "Epoch 17/50\n",
      "1/1 [==============================] - 0s 6ms/step - loss: 0.6013 - binary_accuracy: 0.6784\n",
      "Epoch 18/50\n",
      "1/1 [==============================] - 0s 5ms/step - loss: 0.6358 - binary_accuracy: 0.6053\n",
      "Epoch 19/50\n",
      "1/1 [==============================] - 0s 5ms/step - loss: 0.6848 - binary_accuracy: 0.5702\n",
      "Epoch 20/50\n",
      "1/1 [==============================] - 0s 5ms/step - loss: 0.6498 - binary_accuracy: 0.6520\n",
      "Epoch 21/50\n",
      "1/1 [==============================] - 0s 5ms/step - loss: 0.6154 - binary_accuracy: 0.6404\n",
      "Epoch 22/50\n",
      "1/1 [==============================] - 0s 5ms/step - loss: 0.5947 - binary_accuracy: 0.6433\n",
      "Epoch 23/50\n",
      "1/1 [==============================] - 0s 6ms/step - loss: 0.5799 - binary_accuracy: 0.7018\n",
      "Epoch 24/50\n",
      "1/1 [==============================] - 0s 5ms/step - loss: 0.5684 - binary_accuracy: 0.7018\n",
      "Epoch 25/50\n",
      "1/1 [==============================] - 0s 5ms/step - loss: 0.5697 - binary_accuracy: 0.7105\n",
      "Epoch 26/50\n",
      "1/1 [==============================] - 0s 5ms/step - loss: 0.7117 - binary_accuracy: 0.5643\n",
      "Epoch 27/50\n",
      "1/1 [==============================] - 0s 5ms/step - loss: 0.6549 - binary_accuracy: 0.6111\n",
      "Epoch 28/50\n",
      "1/1 [==============================] - 0s 5ms/step - loss: 0.6086 - binary_accuracy: 0.6550\n",
      "Epoch 29/50\n",
      "1/1 [==============================] - 0s 5ms/step - loss: 0.5768 - binary_accuracy: 0.7047\n",
      "Epoch 30/50\n",
      "1/1 [==============================] - 0s 6ms/step - loss: 0.5616 - binary_accuracy: 0.7105\n",
      "Epoch 31/50\n",
      "1/1 [==============================] - 0s 6ms/step - loss: 0.5511 - binary_accuracy: 0.7105\n",
      "Epoch 32/50\n",
      "1/1 [==============================] - 0s 6ms/step - loss: 0.5436 - binary_accuracy: 0.7164\n",
      "Epoch 33/50\n",
      "1/1 [==============================] - 0s 6ms/step - loss: 0.5405 - binary_accuracy: 0.7135\n",
      "Epoch 34/50\n",
      "1/1 [==============================] - 0s 8ms/step - loss: 0.5528 - binary_accuracy: 0.7135\n",
      "Epoch 35/50\n",
      "1/1 [==============================] - 0s 7ms/step - loss: 0.6250 - binary_accuracy: 0.6550\n",
      "Epoch 36/50\n",
      "1/1 [==============================] - 0s 7ms/step - loss: 0.7442 - binary_accuracy: 0.5439\n",
      "Epoch 37/50\n",
      "1/1 [==============================] - 0s 6ms/step - loss: 0.5815 - binary_accuracy: 0.7251\n",
      "Epoch 38/50\n",
      "1/1 [==============================] - 0s 7ms/step - loss: 0.5555 - binary_accuracy: 0.7164\n",
      "Epoch 39/50\n",
      "1/1 [==============================] - 0s 8ms/step - loss: 0.5424 - binary_accuracy: 0.7222\n",
      "Epoch 40/50\n",
      "1/1 [==============================] - 0s 8ms/step - loss: 0.5324 - binary_accuracy: 0.7076\n",
      "Epoch 41/50\n",
      "1/1 [==============================] - 0s 7ms/step - loss: 0.5269 - binary_accuracy: 0.7135\n",
      "Epoch 42/50\n",
      "1/1 [==============================] - 0s 5ms/step - loss: 0.5328 - binary_accuracy: 0.7222\n",
      "Epoch 43/50\n",
      "1/1 [==============================] - 0s 5ms/step - loss: 0.5513 - binary_accuracy: 0.6813\n",
      "Epoch 44/50\n",
      "1/1 [==============================] - 0s 6ms/step - loss: 0.5855 - binary_accuracy: 0.7135\n",
      "Epoch 45/50\n",
      "1/1 [==============================] - 0s 5ms/step - loss: 0.5769 - binary_accuracy: 0.6725\n",
      "Epoch 46/50\n",
      "1/1 [==============================] - 0s 5ms/step - loss: 0.5660 - binary_accuracy: 0.7164\n",
      "Epoch 47/50\n",
      "1/1 [==============================] - 0s 6ms/step - loss: 0.5237 - binary_accuracy: 0.7222\n",
      "Epoch 48/50\n",
      "1/1 [==============================] - 0s 6ms/step - loss: 0.5132 - binary_accuracy: 0.7251\n",
      "Epoch 49/50\n",
      "1/1 [==============================] - 0s 6ms/step - loss: 0.5068 - binary_accuracy: 0.7281\n",
      "Epoch 50/50\n",
      "1/1 [==============================] - 0s 8ms/step - loss: 0.5068 - binary_accuracy: 0.7690\n"
     ]
    },
    {
     "data": {
      "text/plain": [
       "<tensorflow.python.keras.callbacks.History at 0x1491175e0>"
      ]
     },
     "execution_count": 184,
     "metadata": {},
     "output_type": "execute_result"
    }
   ],
   "source": [
    "from numpy.random import seed\n",
    "seed(1)\n",
    "tf.random.set_seed(1)\n",
    "nn_compound_4.fit(keras_compound_4_train, y_compound_log_train, epochs=50, batch_size=512)"
   ]
  },
  {
   "cell_type": "code",
   "execution_count": 185,
   "metadata": {},
   "outputs": [
    {
     "name": "stdout",
     "output_type": "stream",
     "text": [
      "3/3 [==============================] - 0s 2ms/step - loss: 0.5086 - binary_accuracy: 0.7442\n"
     ]
    }
   ],
   "source": [
    "results_compound4 = nn_compound_4.evaluate(keras_compound_4_test, y_compound_log_test)"
   ]
  },
  {
   "cell_type": "code",
   "execution_count": 195,
   "metadata": {},
   "outputs": [],
   "source": [
    "keras_compound_19_train = np.array(X_compound_log_train[nn_compound[1]]) \n",
    "keras_compound_19_test = np.array(X_compound_log_test[nn_compound[1]])"
   ]
  },
  {
   "cell_type": "code",
   "execution_count": 196,
   "metadata": {},
   "outputs": [],
   "source": [
    "nn_compound_19 = models.Sequential()"
   ]
  },
  {
   "cell_type": "code",
   "execution_count": 197,
   "metadata": {},
   "outputs": [],
   "source": [
    "nn_compound_19.add(layers.Dense(128, activation='relu'))\n",
    "nn_compound_19.add(layers.Dense(128, activation='relu'))\n",
    "nn_compound_19.add(layers.Dense(128, activation='relu'))\n",
    "nn_compound_19.add(layers.Dense(128, activation='relu'))\n",
    "nn_compound_19.add(layers.Dense(128, activation='relu'))\n",
    "nn_compound_19.add(layers.Dense(128, activation='relu'))\n",
    "nn_compound_19.add(layers.Dense(64, activation='relu'))\n",
    "nn_compound_19.add(layers.Dense(1, activation='sigmoid'))"
   ]
  },
  {
   "cell_type": "code",
   "execution_count": 198,
   "metadata": {},
   "outputs": [],
   "source": [
    "nn_compound_19.compile(optimizer='rmsprop', loss = 'binary_crossentropy', metrics=['binary_accuracy'])"
   ]
  },
  {
   "cell_type": "code",
   "execution_count": 199,
   "metadata": {},
   "outputs": [
    {
     "name": "stdout",
     "output_type": "stream",
     "text": [
      "Epoch 1/50\n",
      "1/1 [==============================] - 1s 721ms/step - loss: 0.6909 - binary_accuracy: 0.4883\n",
      "Epoch 2/50\n",
      "1/1 [==============================] - 0s 5ms/step - loss: 0.6792 - binary_accuracy: 0.6023\n",
      "Epoch 3/50\n",
      "1/1 [==============================] - 0s 4ms/step - loss: 0.7297 - binary_accuracy: 0.5029\n",
      "Epoch 4/50\n",
      "1/1 [==============================] - 0s 5ms/step - loss: 0.6922 - binary_accuracy: 0.5029\n",
      "Epoch 5/50\n",
      "1/1 [==============================] - 0s 4ms/step - loss: 0.6775 - binary_accuracy: 0.6637\n",
      "Epoch 6/50\n",
      "1/1 [==============================] - 0s 4ms/step - loss: 0.6665 - binary_accuracy: 0.5556\n",
      "Epoch 7/50\n",
      "1/1 [==============================] - 0s 4ms/step - loss: 0.6733 - binary_accuracy: 0.5877\n",
      "Epoch 8/50\n",
      "1/1 [==============================] - 0s 4ms/step - loss: 0.6580 - binary_accuracy: 0.5731\n",
      "Epoch 9/50\n",
      "1/1 [==============================] - 0s 4ms/step - loss: 0.6742 - binary_accuracy: 0.5526\n",
      "Epoch 10/50\n",
      "1/1 [==============================] - 0s 4ms/step - loss: 0.6643 - binary_accuracy: 0.5468\n",
      "Epoch 11/50\n",
      "1/1 [==============================] - 0s 4ms/step - loss: 0.6409 - binary_accuracy: 0.5936\n",
      "Epoch 12/50\n",
      "1/1 [==============================] - 0s 4ms/step - loss: 0.6077 - binary_accuracy: 0.6871\n",
      "Epoch 13/50\n",
      "1/1 [==============================] - 0s 4ms/step - loss: 0.5869 - binary_accuracy: 0.6813\n",
      "Epoch 14/50\n",
      "1/1 [==============================] - 0s 4ms/step - loss: 0.6275 - binary_accuracy: 0.6140\n",
      "Epoch 15/50\n",
      "1/1 [==============================] - 0s 4ms/step - loss: 0.9969 - binary_accuracy: 0.5117\n",
      "Epoch 16/50\n",
      "1/1 [==============================] - 0s 5ms/step - loss: 0.6280 - binary_accuracy: 0.6345\n",
      "Epoch 17/50\n",
      "1/1 [==============================] - 0s 5ms/step - loss: 0.6067 - binary_accuracy: 0.7251\n",
      "Epoch 18/50\n",
      "1/1 [==============================] - 0s 4ms/step - loss: 0.5860 - binary_accuracy: 0.7281\n",
      "Epoch 19/50\n",
      "1/1 [==============================] - 0s 4ms/step - loss: 0.5687 - binary_accuracy: 0.7193\n",
      "Epoch 20/50\n",
      "1/1 [==============================] - 0s 4ms/step - loss: 0.5572 - binary_accuracy: 0.7251\n",
      "Epoch 21/50\n",
      "1/1 [==============================] - 0s 5ms/step - loss: 0.5743 - binary_accuracy: 0.7135\n",
      "Epoch 22/50\n",
      "1/1 [==============================] - 0s 4ms/step - loss: 0.6235 - binary_accuracy: 0.6257\n",
      "Epoch 23/50\n",
      "1/1 [==============================] - 0s 4ms/step - loss: 0.6564 - binary_accuracy: 0.6140\n",
      "Epoch 24/50\n",
      "1/1 [==============================] - 0s 4ms/step - loss: 0.5610 - binary_accuracy: 0.7368\n",
      "Epoch 25/50\n",
      "1/1 [==============================] - 0s 4ms/step - loss: 0.5365 - binary_accuracy: 0.7602\n",
      "Epoch 26/50\n",
      "1/1 [==============================] - 0s 4ms/step - loss: 0.5200 - binary_accuracy: 0.7573\n",
      "Epoch 27/50\n",
      "1/1 [==============================] - 0s 4ms/step - loss: 0.5090 - binary_accuracy: 0.7661\n",
      "Epoch 28/50\n",
      "1/1 [==============================] - 0s 4ms/step - loss: 0.5073 - binary_accuracy: 0.7544\n",
      "Epoch 29/50\n",
      "1/1 [==============================] - 0s 5ms/step - loss: 0.5614 - binary_accuracy: 0.7164\n",
      "Epoch 30/50\n",
      "1/1 [==============================] - 0s 4ms/step - loss: 0.6263 - binary_accuracy: 0.6111\n",
      "Epoch 31/50\n",
      "1/1 [==============================] - 0s 4ms/step - loss: 0.6214 - binary_accuracy: 0.6257\n",
      "Epoch 32/50\n",
      "1/1 [==============================] - 0s 4ms/step - loss: 0.5139 - binary_accuracy: 0.7953\n",
      "Epoch 33/50\n",
      "1/1 [==============================] - 0s 5ms/step - loss: 0.4890 - binary_accuracy: 0.7895\n",
      "Epoch 34/50\n",
      "1/1 [==============================] - 0s 5ms/step - loss: 0.4744 - binary_accuracy: 0.7865\n",
      "Epoch 35/50\n",
      "1/1 [==============================] - 0s 5ms/step - loss: 0.4644 - binary_accuracy: 0.7807\n",
      "Epoch 36/50\n",
      "1/1 [==============================] - 0s 4ms/step - loss: 0.4612 - binary_accuracy: 0.7865\n",
      "Epoch 37/50\n",
      "1/1 [==============================] - 0s 4ms/step - loss: 0.4764 - binary_accuracy: 0.7602\n",
      "Epoch 38/50\n",
      "1/1 [==============================] - 0s 4ms/step - loss: 0.5238 - binary_accuracy: 0.7310\n",
      "Epoch 39/50\n",
      "1/1 [==============================] - 0s 4ms/step - loss: 0.5240 - binary_accuracy: 0.6901\n",
      "Epoch 40/50\n",
      "1/1 [==============================] - 0s 5ms/step - loss: 0.6170 - binary_accuracy: 0.6550\n",
      "Epoch 41/50\n",
      "1/1 [==============================] - 0s 5ms/step - loss: 0.5731 - binary_accuracy: 0.6842\n",
      "Epoch 42/50\n",
      "1/1 [==============================] - 0s 5ms/step - loss: 0.5097 - binary_accuracy: 0.7281\n",
      "Epoch 43/50\n",
      "1/1 [==============================] - 0s 4ms/step - loss: 0.4524 - binary_accuracy: 0.7924\n",
      "Epoch 44/50\n",
      "1/1 [==============================] - 0s 4ms/step - loss: 0.4385 - binary_accuracy: 0.7807\n",
      "Epoch 45/50\n",
      "1/1 [==============================] - 0s 4ms/step - loss: 0.4303 - binary_accuracy: 0.7836\n",
      "Epoch 46/50\n",
      "1/1 [==============================] - 0s 4ms/step - loss: 0.4265 - binary_accuracy: 0.7865\n",
      "Epoch 47/50\n",
      "1/1 [==============================] - 0s 4ms/step - loss: 0.4328 - binary_accuracy: 0.8041\n",
      "Epoch 48/50\n",
      "1/1 [==============================] - 0s 5ms/step - loss: 0.4715 - binary_accuracy: 0.7690\n",
      "Epoch 49/50\n",
      "1/1 [==============================] - 0s 4ms/step - loss: 0.5536 - binary_accuracy: 0.6959\n",
      "Epoch 50/50\n",
      "1/1 [==============================] - 0s 4ms/step - loss: 0.5277 - binary_accuracy: 0.7018\n"
     ]
    },
    {
     "data": {
      "text/plain": [
       "<tensorflow.python.keras.callbacks.History at 0x14acc45b0>"
      ]
     },
     "execution_count": 199,
     "metadata": {},
     "output_type": "execute_result"
    }
   ],
   "source": [
    "from numpy.random import seed\n",
    "seed(1)\n",
    "tf.random.set_seed(1)\n",
    "nn_compound_19.fit(keras_compound_19_train, y_compound_log_train, epochs=50, batch_size=512)"
   ]
  },
  {
   "cell_type": "code",
   "execution_count": 200,
   "metadata": {},
   "outputs": [
    {
     "name": "stdout",
     "output_type": "stream",
     "text": [
      "3/3 [==============================] - 0s 2ms/step - loss: 0.4830 - binary_accuracy: 0.7674\n"
     ]
    }
   ],
   "source": [
    "results_compound19 = nn_compound_19.evaluate(keras_compound_19_test, y_compound_log_test)"
   ]
  },
  {
   "cell_type": "code",
   "execution_count": 201,
   "metadata": {},
   "outputs": [],
   "source": [
    "keras_compound_3_train = np.array(X_compound_log_train[nn_compound[-1]]) \n",
    "keras_compound_3_test = np.array(X_compound_log_test[nn_compound[-1]])"
   ]
  },
  {
   "cell_type": "code",
   "execution_count": 202,
   "metadata": {},
   "outputs": [],
   "source": [
    "nn_compound_3 = models.Sequential()"
   ]
  },
  {
   "cell_type": "code",
   "execution_count": 203,
   "metadata": {},
   "outputs": [],
   "source": [
    "nn_compound_3.add(layers.Dense(256, activation='relu'))\n",
    "nn_compound_3.add(layers.Dense(256, activation='relu'))\n",
    "nn_compound_3.add(layers.Dense(256, activation='relu'))\n",
    "nn_compound_3.add(layers.Dense(256, activation='relu'))\n",
    "nn_compound_3.add(layers.Dense(128, activation='relu'))\n",
    "nn_compound_3.add(layers.Dense(128, activation='relu'))\n",
    "nn_compound_3.add(layers.Dense(128, activation='relu'))\n",
    "nn_compound_3.add(layers.Dense(128, activation='relu'))\n",
    "nn_compound_3.add(layers.Dense(128, activation='relu'))\n",
    "nn_compound_3.add(layers.Dense(64, activation='relu'))\n",
    "nn_compound_3.add(layers.Dense(1, activation='sigmoid'))"
   ]
  },
  {
   "cell_type": "code",
   "execution_count": 204,
   "metadata": {},
   "outputs": [],
   "source": [
    "nn_compound_3.compile(optimizer='rmsprop', loss = 'binary_crossentropy', metrics=['binary_accuracy'])"
   ]
  },
  {
   "cell_type": "code",
   "execution_count": 205,
   "metadata": {},
   "outputs": [
    {
     "name": "stdout",
     "output_type": "stream",
     "text": [
      "Epoch 1/50\n",
      "1/1 [==============================] - 1s 953ms/step - loss: 0.6930 - binary_accuracy: 0.5117\n",
      "Epoch 2/50\n",
      "1/1 [==============================] - 0s 7ms/step - loss: 0.6905 - binary_accuracy: 0.4971\n",
      "Epoch 3/50\n",
      "1/1 [==============================] - 0s 7ms/step - loss: 0.6923 - binary_accuracy: 0.5380\n",
      "Epoch 4/50\n",
      "1/1 [==============================] - 0s 7ms/step - loss: 0.7059 - binary_accuracy: 0.4971\n",
      "Epoch 5/50\n",
      "1/1 [==============================] - 0s 7ms/step - loss: 0.6908 - binary_accuracy: 0.5556\n",
      "Epoch 6/50\n",
      "1/1 [==============================] - 0s 7ms/step - loss: 0.6854 - binary_accuracy: 0.5965\n",
      "Epoch 7/50\n",
      "1/1 [==============================] - 0s 7ms/step - loss: 0.6788 - binary_accuracy: 0.5409\n",
      "Epoch 8/50\n",
      "1/1 [==============================] - 0s 7ms/step - loss: 0.6805 - binary_accuracy: 0.5292\n",
      "Epoch 9/50\n",
      "1/1 [==============================] - 0s 7ms/step - loss: 0.6714 - binary_accuracy: 0.5877\n",
      "Epoch 10/50\n",
      "1/1 [==============================] - 0s 7ms/step - loss: 0.6585 - binary_accuracy: 0.6550\n",
      "Epoch 11/50\n",
      "1/1 [==============================] - 0s 7ms/step - loss: 0.6744 - binary_accuracy: 0.5994\n",
      "Epoch 12/50\n",
      "1/1 [==============================] - 0s 7ms/step - loss: 0.8774 - binary_accuracy: 0.5029\n",
      "Epoch 13/50\n",
      "1/1 [==============================] - 0s 8ms/step - loss: 0.6757 - binary_accuracy: 0.5497\n",
      "Epoch 14/50\n",
      "1/1 [==============================] - 0s 7ms/step - loss: 0.6641 - binary_accuracy: 0.6228\n",
      "Epoch 15/50\n",
      "1/1 [==============================] - 0s 7ms/step - loss: 0.6522 - binary_accuracy: 0.6491\n",
      "Epoch 16/50\n",
      "1/1 [==============================] - 0s 7ms/step - loss: 0.6411 - binary_accuracy: 0.6637\n",
      "Epoch 17/50\n",
      "1/1 [==============================] - 0s 7ms/step - loss: 0.6436 - binary_accuracy: 0.6287\n",
      "Epoch 18/50\n",
      "1/1 [==============================] - 0s 7ms/step - loss: 0.6532 - binary_accuracy: 0.6228\n",
      "Epoch 19/50\n",
      "1/1 [==============================] - 0s 7ms/step - loss: 0.6339 - binary_accuracy: 0.6374\n",
      "Epoch 20/50\n",
      "1/1 [==============================] - 0s 7ms/step - loss: 0.6282 - binary_accuracy: 0.6520\n",
      "Epoch 21/50\n",
      "1/1 [==============================] - 0s 7ms/step - loss: 0.6336 - binary_accuracy: 0.6170\n",
      "Epoch 22/50\n",
      "1/1 [==============================] - 0s 7ms/step - loss: 0.6627 - binary_accuracy: 0.5673\n",
      "Epoch 23/50\n",
      "1/1 [==============================] - 0s 6ms/step - loss: 0.6360 - binary_accuracy: 0.6462\n",
      "Epoch 24/50\n",
      "1/1 [==============================] - 0s 7ms/step - loss: 0.6208 - binary_accuracy: 0.6725\n",
      "Epoch 25/50\n",
      "1/1 [==============================] - 0s 7ms/step - loss: 0.6148 - binary_accuracy: 0.6637\n",
      "Epoch 26/50\n",
      "1/1 [==============================] - 0s 7ms/step - loss: 0.6231 - binary_accuracy: 0.6696\n",
      "Epoch 27/50\n",
      "1/1 [==============================] - 0s 7ms/step - loss: 0.6310 - binary_accuracy: 0.6491\n",
      "Epoch 28/50\n",
      "1/1 [==============================] - 0s 8ms/step - loss: 0.6449 - binary_accuracy: 0.6053\n",
      "Epoch 29/50\n",
      "1/1 [==============================] - 0s 11ms/step - loss: 0.6218 - binary_accuracy: 0.6637\n",
      "Epoch 30/50\n",
      "1/1 [==============================] - 0s 10ms/step - loss: 0.6131 - binary_accuracy: 0.6754\n",
      "Epoch 31/50\n",
      "1/1 [==============================] - 0s 8ms/step - loss: 0.6193 - binary_accuracy: 0.6374\n",
      "Epoch 32/50\n",
      "1/1 [==============================] - 0s 10ms/step - loss: 0.6425 - binary_accuracy: 0.6082\n",
      "Epoch 33/50\n",
      "1/1 [==============================] - 0s 8ms/step - loss: 0.6254 - binary_accuracy: 0.6667\n",
      "Epoch 34/50\n",
      "1/1 [==============================] - 0s 9ms/step - loss: 0.6186 - binary_accuracy: 0.6754\n",
      "Epoch 35/50\n",
      "1/1 [==============================] - 0s 9ms/step - loss: 0.6113 - binary_accuracy: 0.6959\n",
      "Epoch 36/50\n",
      "1/1 [==============================] - 0s 8ms/step - loss: 0.6320 - binary_accuracy: 0.6667\n",
      "Epoch 37/50\n",
      "1/1 [==============================] - 0s 7ms/step - loss: 0.6308 - binary_accuracy: 0.6579\n",
      "Epoch 38/50\n",
      "1/1 [==============================] - 0s 8ms/step - loss: 0.6203 - binary_accuracy: 0.6696\n",
      "Epoch 39/50\n",
      "1/1 [==============================] - 0s 8ms/step - loss: 0.6118 - binary_accuracy: 0.6550\n",
      "Epoch 40/50\n",
      "1/1 [==============================] - 0s 8ms/step - loss: 0.6145 - binary_accuracy: 0.6667\n",
      "Epoch 41/50\n",
      "1/1 [==============================] - 0s 8ms/step - loss: 0.6518 - binary_accuracy: 0.5994\n",
      "Epoch 42/50\n",
      "1/1 [==============================] - 0s 8ms/step - loss: 0.6469 - binary_accuracy: 0.5936\n",
      "Epoch 43/50\n",
      "1/1 [==============================] - 0s 9ms/step - loss: 0.6189 - binary_accuracy: 0.6784\n",
      "Epoch 44/50\n",
      "1/1 [==============================] - 0s 11ms/step - loss: 0.6045 - binary_accuracy: 0.6696\n",
      "Epoch 45/50\n",
      "1/1 [==============================] - 0s 9ms/step - loss: 0.6013 - binary_accuracy: 0.6725\n",
      "Epoch 46/50\n",
      "1/1 [==============================] - 0s 9ms/step - loss: 0.6119 - binary_accuracy: 0.6725\n",
      "Epoch 47/50\n",
      "1/1 [==============================] - 0s 9ms/step - loss: 0.6177 - binary_accuracy: 0.6871\n",
      "Epoch 48/50\n",
      "1/1 [==============================] - 0s 9ms/step - loss: 0.6219 - binary_accuracy: 0.6550\n",
      "Epoch 49/50\n",
      "1/1 [==============================] - 0s 9ms/step - loss: 0.6253 - binary_accuracy: 0.7135\n",
      "Epoch 50/50\n",
      "1/1 [==============================] - 0s 10ms/step - loss: 0.6129 - binary_accuracy: 0.6725\n"
     ]
    },
    {
     "data": {
      "text/plain": [
       "<tensorflow.python.keras.callbacks.History at 0x14adb5310>"
      ]
     },
     "execution_count": 205,
     "metadata": {},
     "output_type": "execute_result"
    }
   ],
   "source": [
    "from numpy.random import seed\n",
    "seed(1)\n",
    "tf.random.set_seed(1)\n",
    "nn_compound_3.fit(keras_compound_3_train, y_compound_log_train, epochs=50, batch_size=512)"
   ]
  },
  {
   "cell_type": "code",
   "execution_count": 206,
   "metadata": {},
   "outputs": [
    {
     "name": "stdout",
     "output_type": "stream",
     "text": [
      "3/3 [==============================] - 0s 2ms/step - loss: 0.6005 - binary_accuracy: 0.6744\n"
     ]
    }
   ],
   "source": [
    "results_compound3 = nn_compound_3.evaluate(keras_compound_3_test, y_compound_log_test)\n"
   ]
  },
  {
   "cell_type": "markdown",
   "metadata": {},
   "source": [
    "# Simple"
   ]
  },
  {
   "cell_type": "code",
   "execution_count": 207,
   "metadata": {},
   "outputs": [],
   "source": [
    "random_forest_simples = RandomForestClassifier(n_estimators=300, random_state=0)"
   ]
  },
  {
   "cell_type": "code",
   "execution_count": 208,
   "metadata": {},
   "outputs": [
    {
     "data": {
      "text/plain": [
       "RandomForestClassifier(n_estimators=300, random_state=0)"
      ]
     },
     "execution_count": 208,
     "metadata": {},
     "output_type": "execute_result"
    }
   ],
   "source": [
    "random_forest_simples.fit(X_simples_train, y_simples_train)"
   ]
  },
  {
   "cell_type": "code",
   "execution_count": 209,
   "metadata": {},
   "outputs": [],
   "source": [
    "random_forest_simples_preds = random_forest_simples.predict(X_simples_test)"
   ]
  },
  {
   "cell_type": "code",
   "execution_count": 210,
   "metadata": {},
   "outputs": [
    {
     "name": "stdout",
     "output_type": "stream",
     "text": [
      "features are: ['IPM', 'Syllables', 'TF', 'is_adj']\n",
      "balanced accuracy is 0.7606779515941013\n",
      "accuracy is 0.7984599933043187\n",
      "\n"
     ]
    }
   ],
   "source": [
    "choose_best_feats(random_forest_simples, X_simples_train, X_simples_test, y_simples_train, y_simples_test)"
   ]
  },
  {
   "cell_type": "code",
   "execution_count": 213,
   "metadata": {},
   "outputs": [],
   "source": [
    "list_of_lists = []\n",
    "for i in c:\n",
    "    per_sn = Perceptron(penalty='l1', alpha=i)\n",
    "    per_sn.fit(X_simples_log_train, y_simples_log_train)\n",
    "    preds = per_sn.predict(X_simples_log_test)\n",
    "    list_feats = sorted(map_feature_importance(per_sn, X_simples_log_train), key=lambda x: x[1], reverse=True)\n",
    "    feats = [i[0] for i in list_feats if i[1] != 0]\n",
    "    if feats:\n",
    "        list_of_lists.append(feats)"
   ]
  },
  {
   "cell_type": "code",
   "execution_count": 214,
   "metadata": {},
   "outputs": [
    {
     "name": "stdout",
     "output_type": "stream",
     "text": [
      "Alpha is 0.0001\n",
      "Features are ['is_pr_adj', 'Syllables', 'is_adj', 'isPr', 'is_numer', 'is_pronoun', 'is_deepr', 'is_pr_adv', 'is_conj', 'is_noun', 'is_particle', 'is_pr_noun', 'is_inter', 'is_prep']\n",
      "ba is 0.7290221405222098\n",
      "0.7870773351188484\n",
      "\n",
      "Alpha is 0.0001\n",
      "Features are ['Syllables', 'is_pronoun', 'is_adj', 'is_pr_adj', 'is_noun', 'is_prep']\n",
      "ba is 0.7476576065247695\n",
      "0.771342484097757\n",
      "\n"
     ]
    }
   ],
   "source": [
    "max_ba = 0\n",
    "for feats in list_of_lists:\n",
    "    for i in c:\n",
    "        per_sn = Perceptron(penalty='l1', alpha=i)\n",
    "        per_sn.fit(X_simples_log_train[feats], y_simples_log_train)\n",
    "        preds = per_sn.predict(X_simples_log_test[feats])\n",
    "        ba = balanced_accuracy_score(y_simples_log_test, preds)\n",
    "        if ba > max_ba:\n",
    "            max_ba = ba\n",
    "            print(f'Alpha is {i}')\n",
    "            print(f'Features are {feats}')\n",
    "            print(f'ba is {ba}')\n",
    "            print(accuracy_score(y_simples_log_test, preds))\n",
    "            print()"
   ]
  },
  {
   "cell_type": "code",
   "execution_count": 215,
   "metadata": {},
   "outputs": [],
   "source": [
    "gb_simples = GradientBoostingClassifier(random_state=0, n_estimators=300)"
   ]
  },
  {
   "cell_type": "code",
   "execution_count": 216,
   "metadata": {},
   "outputs": [
    {
     "data": {
      "text/plain": [
       "GradientBoostingClassifier(n_estimators=300, random_state=0)"
      ]
     },
     "execution_count": 216,
     "metadata": {},
     "output_type": "execute_result"
    }
   ],
   "source": [
    "gb_simples.fit(X_simples_train, y_simples_train)"
   ]
  },
  {
   "cell_type": "code",
   "execution_count": 218,
   "metadata": {},
   "outputs": [
    {
     "name": "stdout",
     "output_type": "stream",
     "text": [
      "features are: ['Syllables', 'IPM', 'is_adj', 'is_noun', 'TF', 'is_pr_adj', 'is_adv']\n",
      "balanced accuracy is 0.7620044162842073\n",
      "accuracy is 0.8041513223970539\n",
      "\n"
     ]
    }
   ],
   "source": [
    "choose_best_feats(gb_simples, X_simples_train, X_simples_test, y_simples_train, y_simples_test)"
   ]
  },
  {
   "cell_type": "code",
   "execution_count": 219,
   "metadata": {},
   "outputs": [],
   "source": [
    "nn_simple = [['IPM', 'Syllables', 'TF', 'is_adj'],\n",
    "             ['Syllables', 'is_pronoun', 'is_adj', 'is_pr_adj', 'is_noun', 'is_prep'],\n",
    "             ['Syllables', 'IPM', 'is_adj', 'is_noun', 'TF', 'is_pr_adj', 'is_adv'],\n",
    "            ]"
   ]
  },
  {
   "cell_type": "code",
   "execution_count": 220,
   "metadata": {},
   "outputs": [],
   "source": [
    "keras_simple_4_train = np.array(X_simples_train[nn_simple[0]]) \n",
    "keras_simple_4_test = np.array(X_simples_test[nn_simple[0]])"
   ]
  },
  {
   "cell_type": "code",
   "execution_count": 221,
   "metadata": {},
   "outputs": [],
   "source": [
    "log_simple = LogisticRegression(random_state=0)"
   ]
  },
  {
   "cell_type": "code",
   "execution_count": 222,
   "metadata": {},
   "outputs": [],
   "source": [
    "grid_simple = RandomizedSearchCV(log_simple, parameters_grid, scoring = 'balanced_accuracy', cv = kf, random_state=0)"
   ]
  },
  {
   "cell_type": "code",
   "execution_count": 223,
   "metadata": {},
   "outputs": [],
   "source": [
    "X_simples_4_train = X_simples_log_train[nn_simple[0]]\n",
    "X_simples_4_test = X_simples_log_test[nn_simple[0]]"
   ]
  },
  {
   "cell_type": "code",
   "execution_count": 224,
   "metadata": {},
   "outputs": [
    {
     "data": {
      "text/plain": [
       "RandomizedSearchCV(cv=StratifiedKFold(n_splits=10, random_state=0, shuffle=True),\n",
       "                   estimator=LogisticRegression(random_state=0),\n",
       "                   param_distributions={'C': [0.0001, 0.001, 0.01, 0.1, 1, 10],\n",
       "                                        'fit_intercept': [True, False],\n",
       "                                        'max_iter': array([100, 150, 200, 250, 300, 350, 400, 450, 500, 550, 600, 650, 700,\n",
       "       750, 800, 850, 900]),\n",
       "                                        'penalty': ['l1', 'l2'],\n",
       "                                        'solver': ['liblinear', 'saga']},\n",
       "                   random_state=0, scoring='balanced_accuracy')"
      ]
     },
     "execution_count": 224,
     "metadata": {},
     "output_type": "execute_result"
    }
   ],
   "source": [
    "grid_simple.fit(X_simples_4_train, y_simples_log_train)"
   ]
  },
  {
   "cell_type": "code",
   "execution_count": 225,
   "metadata": {},
   "outputs": [
    {
     "data": {
      "text/plain": [
       "{'solver': 'saga',\n",
       " 'penalty': 'l2',\n",
       " 'max_iter': 600,\n",
       " 'fit_intercept': True,\n",
       " 'C': 0.1}"
      ]
     },
     "execution_count": 225,
     "metadata": {},
     "output_type": "execute_result"
    }
   ],
   "source": [
    "grid_simple.best_params_"
   ]
  },
  {
   "cell_type": "code",
   "execution_count": 226,
   "metadata": {},
   "outputs": [],
   "source": [
    "log_simple4 = LogisticRegression(random_state=0, solver='liblinear', penalty='l2', max_iter=600, fit_intercept=True, C=0.1)"
   ]
  },
  {
   "cell_type": "code",
   "execution_count": 227,
   "metadata": {},
   "outputs": [
    {
     "data": {
      "text/plain": [
       "LogisticRegression(C=0.1, max_iter=600, random_state=0, solver='liblinear')"
      ]
     },
     "execution_count": 227,
     "metadata": {},
     "output_type": "execute_result"
    }
   ],
   "source": [
    "log_simple4.fit(X_simples_4_train, y_simples_log_train)"
   ]
  },
  {
   "cell_type": "code",
   "execution_count": 228,
   "metadata": {},
   "outputs": [],
   "source": [
    "preds_simple_4 = log_compound4.predict(X_simples_4_test)"
   ]
  },
  {
   "cell_type": "code",
   "execution_count": 229,
   "metadata": {},
   "outputs": [
    {
     "data": {
      "text/plain": [
       "0.666703774730784"
      ]
     },
     "execution_count": 229,
     "metadata": {},
     "output_type": "execute_result"
    }
   ],
   "source": [
    "balanced_accuracy_score(y_simples_log_test, preds_simple_4)"
   ]
  },
  {
   "cell_type": "code",
   "execution_count": 230,
   "metadata": {},
   "outputs": [
    {
     "data": {
      "text/plain": [
       "0.7539337127552729"
      ]
     },
     "execution_count": 230,
     "metadata": {},
     "output_type": "execute_result"
    }
   ],
   "source": [
    "accuracy_score(y_simples_log_test, preds_simple_4)"
   ]
  },
  {
   "cell_type": "code",
   "execution_count": 231,
   "metadata": {},
   "outputs": [
    {
     "name": "stdout",
     "output_type": "stream",
     "text": [
      "('IPM', 0.02549209325596713)\n",
      "('Syllables', 0.9386286942695315)\n",
      "('TF', -0.06824970470519526)\n",
      "('is_adj', 1.2363856134869164)\n"
     ]
    }
   ],
   "source": [
    "map_coefs(X_simples_4_train, log_simple4)"
   ]
  },
  {
   "cell_type": "code",
   "execution_count": 234,
   "metadata": {},
   "outputs": [],
   "source": [
    "X_simples_6_train = X_simples_log_train[nn_simple[1]]\n",
    "X_simples_6_test = X_simples_log_test[nn_simple[1]]"
   ]
  },
  {
   "cell_type": "code",
   "execution_count": 235,
   "metadata": {},
   "outputs": [
    {
     "data": {
      "text/plain": [
       "RandomizedSearchCV(cv=StratifiedKFold(n_splits=10, random_state=0, shuffle=True),\n",
       "                   estimator=LogisticRegression(random_state=0),\n",
       "                   param_distributions={'C': [0.0001, 0.001, 0.01, 0.1, 1, 10],\n",
       "                                        'fit_intercept': [True, False],\n",
       "                                        'max_iter': array([100, 150, 200, 250, 300, 350, 400, 450, 500, 550, 600, 650, 700,\n",
       "       750, 800, 850, 900]),\n",
       "                                        'penalty': ['l1', 'l2'],\n",
       "                                        'solver': ['liblinear', 'saga']},\n",
       "                   random_state=0, scoring='balanced_accuracy')"
      ]
     },
     "execution_count": 235,
     "metadata": {},
     "output_type": "execute_result"
    }
   ],
   "source": [
    "grid_simple.fit(X_simples_6_train, y_simples_log_train)"
   ]
  },
  {
   "cell_type": "code",
   "execution_count": 236,
   "metadata": {},
   "outputs": [
    {
     "data": {
      "text/plain": [
       "{'solver': 'saga',\n",
       " 'penalty': 'l2',\n",
       " 'max_iter': 600,\n",
       " 'fit_intercept': True,\n",
       " 'C': 0.1}"
      ]
     },
     "execution_count": 236,
     "metadata": {},
     "output_type": "execute_result"
    }
   ],
   "source": [
    "grid_simple.best_params_"
   ]
  },
  {
   "cell_type": "code",
   "execution_count": 237,
   "metadata": {},
   "outputs": [],
   "source": [
    "log_simple6 = LogisticRegression(random_state=0, solver='saga', penalty='l2', max_iter=600, fit_intercept=True, C=0.1)"
   ]
  },
  {
   "cell_type": "code",
   "execution_count": 238,
   "metadata": {},
   "outputs": [
    {
     "data": {
      "text/plain": [
       "LogisticRegression(C=0.1, max_iter=600, random_state=0, solver='saga')"
      ]
     },
     "execution_count": 238,
     "metadata": {},
     "output_type": "execute_result"
    }
   ],
   "source": [
    "log_simple6.fit(X_simples_13_train, y_simples_log_train)"
   ]
  },
  {
   "cell_type": "code",
   "execution_count": 239,
   "metadata": {},
   "outputs": [],
   "source": [
    "preds_simple_6 = log_simple6.predict(X_simples_13_test)"
   ]
  },
  {
   "cell_type": "code",
   "execution_count": 241,
   "metadata": {},
   "outputs": [
    {
     "data": {
      "text/plain": [
       "0.7212926241736026"
      ]
     },
     "execution_count": 241,
     "metadata": {},
     "output_type": "execute_result"
    }
   ],
   "source": [
    "balanced_accuracy_score(y_simples_log_test, preds_simple_6)"
   ]
  },
  {
   "cell_type": "code",
   "execution_count": 242,
   "metadata": {},
   "outputs": [
    {
     "data": {
      "text/plain": [
       "0.7830599263475059"
      ]
     },
     "execution_count": 242,
     "metadata": {},
     "output_type": "execute_result"
    }
   ],
   "source": [
    "accuracy_score(y_simples_log_test, preds_simple_6)"
   ]
  },
  {
   "cell_type": "code",
   "execution_count": 245,
   "metadata": {},
   "outputs": [
    {
     "name": "stdout",
     "output_type": "stream",
     "text": [
      "('Syllables', 1.0411168655321794)\n",
      "('is_pronoun', 0.29600925091435426)\n",
      "('is_adj', 1.1049702405999002)\n",
      "('is_pr_adj', 0.5381738548541988)\n",
      "('is_noun', -0.549106113277044)\n",
      "('is_prep', -0.9969025823403015)\n"
     ]
    }
   ],
   "source": [
    "map_coefs(X_simples_13_train, log_simple6)"
   ]
  },
  {
   "cell_type": "code",
   "execution_count": 246,
   "metadata": {},
   "outputs": [],
   "source": [
    "X_simples_7_train = X_simples_log_train[nn_simple[-1]]\n",
    "X_simples_7_test = X_simples_log_test[nn_simple[-1]]"
   ]
  },
  {
   "cell_type": "code",
   "execution_count": 247,
   "metadata": {},
   "outputs": [
    {
     "data": {
      "text/plain": [
       "RandomizedSearchCV(cv=StratifiedKFold(n_splits=10, random_state=0, shuffle=True),\n",
       "                   estimator=LogisticRegression(random_state=0),\n",
       "                   param_distributions={'C': [0.0001, 0.001, 0.01, 0.1, 1, 10],\n",
       "                                        'fit_intercept': [True, False],\n",
       "                                        'max_iter': array([100, 150, 200, 250, 300, 350, 400, 450, 500, 550, 600, 650, 700,\n",
       "       750, 800, 850, 900]),\n",
       "                                        'penalty': ['l1', 'l2'],\n",
       "                                        'solver': ['liblinear', 'saga']},\n",
       "                   random_state=0, scoring='balanced_accuracy')"
      ]
     },
     "execution_count": 247,
     "metadata": {},
     "output_type": "execute_result"
    }
   ],
   "source": [
    "grid_simple.fit(X_simples_7_train, y_simples_log_train)"
   ]
  },
  {
   "cell_type": "code",
   "execution_count": 248,
   "metadata": {},
   "outputs": [
    {
     "data": {
      "text/plain": [
       "{'solver': 'saga',\n",
       " 'penalty': 'l2',\n",
       " 'max_iter': 600,\n",
       " 'fit_intercept': True,\n",
       " 'C': 0.1}"
      ]
     },
     "execution_count": 248,
     "metadata": {},
     "output_type": "execute_result"
    }
   ],
   "source": [
    "grid_simple.best_params_"
   ]
  },
  {
   "cell_type": "code",
   "execution_count": 249,
   "metadata": {},
   "outputs": [],
   "source": [
    "log_simple7 = LogisticRegression(random_state=0, solver='liblinear', penalty='l2', max_iter=600, fit_intercept=True, C=0.1)"
   ]
  },
  {
   "cell_type": "code",
   "execution_count": 250,
   "metadata": {},
   "outputs": [
    {
     "data": {
      "text/plain": [
       "LogisticRegression(C=0.1, max_iter=600, random_state=0, solver='liblinear')"
      ]
     },
     "execution_count": 250,
     "metadata": {},
     "output_type": "execute_result"
    }
   ],
   "source": [
    "log_simple7.fit(X_simples_7_train, y_simples_log_train)"
   ]
  },
  {
   "cell_type": "code",
   "execution_count": 251,
   "metadata": {},
   "outputs": [],
   "source": [
    "preds_simple_7 = log_simple7.predict(X_simples_7_test)"
   ]
  },
  {
   "cell_type": "code",
   "execution_count": 252,
   "metadata": {},
   "outputs": [
    {
     "data": {
      "text/plain": [
       "0.7207803290916354"
      ]
     },
     "execution_count": 252,
     "metadata": {},
     "output_type": "execute_result"
    }
   ],
   "source": [
    "balanced_accuracy_score(y_simples_log_test, preds_simple_7)"
   ]
  },
  {
   "cell_type": "code",
   "execution_count": 253,
   "metadata": {},
   "outputs": [
    {
     "data": {
      "text/plain": [
       "0.7827251422832273"
      ]
     },
     "execution_count": 253,
     "metadata": {},
     "output_type": "execute_result"
    }
   ],
   "source": [
    "accuracy_score(y_simples_log_test, preds_simple_7)"
   ]
  },
  {
   "cell_type": "code",
   "execution_count": 254,
   "metadata": {},
   "outputs": [
    {
     "name": "stdout",
     "output_type": "stream",
     "text": [
      "('Syllables', 0.9863263211753793)\n",
      "('IPM', 0.005001358613569071)\n",
      "('is_adj', 1.048385533297452)\n",
      "('is_noun', -0.5596129289594934)\n",
      "('TF', -0.08166387943609986)\n",
      "('is_pr_adj', 0.5299716336785135)\n",
      "('is_adv', 0.0588698768648131)\n"
     ]
    }
   ],
   "source": [
    "map_coefs(X_simples_7_train, log_simple7)"
   ]
  },
  {
   "cell_type": "code",
   "execution_count": 255,
   "metadata": {},
   "outputs": [],
   "source": [
    "keras_simple_4_train = np.array(X_simples_log_train[nn_simple[0]]) \n",
    "keras_simple_4_test = np.array(X_simples_log_test[nn_simple[0]])"
   ]
  },
  {
   "cell_type": "code",
   "execution_count": 256,
   "metadata": {},
   "outputs": [],
   "source": [
    "nn_simple4 = models.Sequential()"
   ]
  },
  {
   "cell_type": "code",
   "execution_count": 257,
   "metadata": {},
   "outputs": [],
   "source": [
    "nn_simple4.add(layers.Dense(256, activation='relu'))\n",
    "nn_simple4.add(layers.Dense(256, activation='relu'))\n",
    "nn_simple4.add(layers.Dense(256, activation='relu'))\n",
    "nn_simple4.add(layers.Dense(256, activation='relu'))\n",
    "nn_simple4.add(layers.Dense(128, activation='relu'))\n",
    "nn_simple4.add(layers.Dense(128, activation='relu'))\n",
    "nn_simple4.add(layers.Dense(128, activation='relu'))\n",
    "nn_simple4.add(layers.Dense(64, activation='relu'))\n",
    "nn_simple4.add(layers.Dense(1, activation='sigmoid'))"
   ]
  },
  {
   "cell_type": "code",
   "execution_count": 258,
   "metadata": {},
   "outputs": [],
   "source": [
    "nn_simple4.compile(optimizer='rmsprop', loss = 'binary_crossentropy', metrics=['binary_accuracy'])"
   ]
  },
  {
   "cell_type": "code",
   "execution_count": 259,
   "metadata": {},
   "outputs": [
    {
     "name": "stdout",
     "output_type": "stream",
     "text": [
      "Epoch 1/30\n",
      "24/24 [==============================] - 1s 7ms/step - loss: 0.5999 - binary_accuracy: 0.6825\n",
      "Epoch 2/30\n",
      "24/24 [==============================] - 0s 7ms/step - loss: 0.5168 - binary_accuracy: 0.7245\n",
      "Epoch 3/30\n",
      "24/24 [==============================] - 0s 9ms/step - loss: 0.4997 - binary_accuracy: 0.7490\n",
      "Epoch 4/30\n",
      "24/24 [==============================] - 0s 9ms/step - loss: 0.4885 - binary_accuracy: 0.7680\n",
      "Epoch 5/30\n",
      "24/24 [==============================] - 0s 9ms/step - loss: 0.4629 - binary_accuracy: 0.7802\n",
      "Epoch 6/30\n",
      "24/24 [==============================] - 0s 9ms/step - loss: 0.4686 - binary_accuracy: 0.7708\n",
      "Epoch 7/30\n",
      "24/24 [==============================] - 0s 8ms/step - loss: 0.4665 - binary_accuracy: 0.7736\n",
      "Epoch 8/30\n",
      "24/24 [==============================] - 0s 9ms/step - loss: 0.4597 - binary_accuracy: 0.7767\n",
      "Epoch 9/30\n",
      "24/24 [==============================] - 0s 9ms/step - loss: 0.4572 - binary_accuracy: 0.7831\n",
      "Epoch 10/30\n",
      "24/24 [==============================] - 0s 9ms/step - loss: 0.4516 - binary_accuracy: 0.7852\n",
      "Epoch 11/30\n",
      "24/24 [==============================] - 0s 9ms/step - loss: 0.4472 - binary_accuracy: 0.7914\n",
      "Epoch 12/30\n",
      "24/24 [==============================] - 0s 9ms/step - loss: 0.4537 - binary_accuracy: 0.7810\n",
      "Epoch 13/30\n",
      "24/24 [==============================] - 0s 9ms/step - loss: 0.4514 - binary_accuracy: 0.7877\n",
      "Epoch 14/30\n",
      "24/24 [==============================] - 0s 9ms/step - loss: 0.4519 - binary_accuracy: 0.7823\n",
      "Epoch 15/30\n",
      "24/24 [==============================] - 0s 9ms/step - loss: 0.4517 - binary_accuracy: 0.7865\n",
      "Epoch 16/30\n",
      "24/24 [==============================] - 0s 9ms/step - loss: 0.4445 - binary_accuracy: 0.7890\n",
      "Epoch 17/30\n",
      "24/24 [==============================] - 0s 10ms/step - loss: 0.4437 - binary_accuracy: 0.7881\n",
      "Epoch 18/30\n",
      "24/24 [==============================] - 0s 9ms/step - loss: 0.4464 - binary_accuracy: 0.7921\n",
      "Epoch 19/30\n",
      "24/24 [==============================] - 0s 9ms/step - loss: 0.4456 - binary_accuracy: 0.7876\n",
      "Epoch 20/30\n",
      "24/24 [==============================] - 0s 9ms/step - loss: 0.4452 - binary_accuracy: 0.7904\n",
      "Epoch 21/30\n",
      "24/24 [==============================] - 0s 10ms/step - loss: 0.4446 - binary_accuracy: 0.7941\n",
      "Epoch 22/30\n",
      "24/24 [==============================] - 0s 9ms/step - loss: 0.4353 - binary_accuracy: 0.7940\n",
      "Epoch 23/30\n",
      "24/24 [==============================] - 0s 10ms/step - loss: 0.4468 - binary_accuracy: 0.7880\n",
      "Epoch 24/30\n",
      "24/24 [==============================] - 0s 10ms/step - loss: 0.4460 - binary_accuracy: 0.7941\n",
      "Epoch 25/30\n",
      "24/24 [==============================] - 0s 10ms/step - loss: 0.4418 - binary_accuracy: 0.7952\n",
      "Epoch 26/30\n",
      "24/24 [==============================] - 0s 10ms/step - loss: 0.4398 - binary_accuracy: 0.7912\n",
      "Epoch 27/30\n",
      "24/24 [==============================] - 0s 10ms/step - loss: 0.4390 - binary_accuracy: 0.7932\n",
      "Epoch 28/30\n",
      "24/24 [==============================] - 0s 10ms/step - loss: 0.4378 - binary_accuracy: 0.7972\n",
      "Epoch 29/30\n",
      "24/24 [==============================] - 0s 10ms/step - loss: 0.4473 - binary_accuracy: 0.7918\n",
      "Epoch 30/30\n",
      "24/24 [==============================] - 0s 10ms/step - loss: 0.4604 - binary_accuracy: 0.7816\n"
     ]
    },
    {
     "data": {
      "text/plain": [
       "<tensorflow.python.keras.callbacks.History at 0x14b09c550>"
      ]
     },
     "execution_count": 259,
     "metadata": {},
     "output_type": "execute_result"
    }
   ],
   "source": [
    "from numpy.random import seed\n",
    "seed(1)\n",
    "tf.random.set_seed(1)\n",
    "nn_simple4.fit(keras_simple_4_train, y_simples_log_train, epochs=30, batch_size=512)"
   ]
  },
  {
   "cell_type": "code",
   "execution_count": 260,
   "metadata": {},
   "outputs": [
    {
     "name": "stdout",
     "output_type": "stream",
     "text": [
      "WARNING:tensorflow:5 out of the last 13 calls to <function Model.make_test_function.<locals>.test_function at 0x14b123940> triggered tf.function retracing. Tracing is expensive and the excessive number of tracings could be due to (1) creating @tf.function repeatedly in a loop, (2) passing tensors with different shapes, (3) passing Python objects instead of tensors. For (1), please define your @tf.function outside of the loop. For (2), @tf.function has experimental_relax_shapes=True option that relaxes argument shapes that can avoid unnecessary retracing. For (3), please refer to https://www.tensorflow.org/guide/function#controlling_retracing and https://www.tensorflow.org/api_docs/python/tf/function for  more details.\n",
      "94/94 [==============================] - 0s 1ms/step - loss: 0.4713 - binary_accuracy: 0.7874\n"
     ]
    }
   ],
   "source": [
    "results_simple4 = nn_simple4.evaluate(keras_simple_4_test, y_simples_log_test)"
   ]
  },
  {
   "cell_type": "code",
   "execution_count": 262,
   "metadata": {},
   "outputs": [],
   "source": [
    "keras_simple_6_train = np.array(X_simples_log_train[nn_simple[1]]) \n",
    "keras_simple_6_test = np.array(X_simples_log_test[nn_simple[1]])"
   ]
  },
  {
   "cell_type": "code",
   "execution_count": 280,
   "metadata": {},
   "outputs": [],
   "source": [
    "nn_simple6 = models.Sequential()"
   ]
  },
  {
   "cell_type": "code",
   "execution_count": 281,
   "metadata": {},
   "outputs": [],
   "source": [
    "nn_simple6.add(layers.Dense(256, activation='relu'))\n",
    "nn_simple6.add(layers.Dense(256, activation='relu'))\n",
    "nn_simple6.add(layers.Dense(128, activation='relu'))\n",
    "nn_simple6.add(layers.Dense(128, activation='relu'))\n",
    "nn_simple6.add(layers.Dense(128, activation='relu'))\n",
    "nn_simple6.add(layers.Dense(64, activation='relu'))\n",
    "nn_simple6.add(layers.Dense(1, activation='sigmoid'))"
   ]
  },
  {
   "cell_type": "code",
   "execution_count": 282,
   "metadata": {},
   "outputs": [],
   "source": [
    "nn_simple6.compile(optimizer='rmsprop', loss = 'binary_crossentropy', metrics=['binary_accuracy'])"
   ]
  },
  {
   "cell_type": "code",
   "execution_count": 283,
   "metadata": {},
   "outputs": [
    {
     "name": "stdout",
     "output_type": "stream",
     "text": [
      "Epoch 1/30\n",
      "24/24 [==============================] - 1s 5ms/step - loss: 0.6239 - binary_accuracy: 0.6583\n",
      "Epoch 2/30\n",
      "24/24 [==============================] - 0s 6ms/step - loss: 0.5053 - binary_accuracy: 0.7561\n",
      "Epoch 3/30\n",
      "24/24 [==============================] - 0s 7ms/step - loss: 0.4759 - binary_accuracy: 0.7646\n",
      "Epoch 4/30\n",
      "24/24 [==============================] - 0s 6ms/step - loss: 0.4694 - binary_accuracy: 0.7666\n",
      "Epoch 5/30\n",
      "24/24 [==============================] - 0s 7ms/step - loss: 0.4542 - binary_accuracy: 0.7771\n",
      "Epoch 6/30\n",
      "24/24 [==============================] - 0s 7ms/step - loss: 0.4537 - binary_accuracy: 0.7842\n",
      "Epoch 7/30\n",
      "24/24 [==============================] - 0s 7ms/step - loss: 0.4601 - binary_accuracy: 0.7791\n",
      "Epoch 8/30\n",
      "24/24 [==============================] - 0s 8ms/step - loss: 0.4558 - binary_accuracy: 0.7788\n",
      "Epoch 9/30\n",
      "24/24 [==============================] - 0s 7ms/step - loss: 0.4532 - binary_accuracy: 0.7865\n",
      "Epoch 10/30\n",
      "24/24 [==============================] - 0s 6ms/step - loss: 0.4482 - binary_accuracy: 0.7896\n",
      "Epoch 11/30\n",
      "24/24 [==============================] - 0s 7ms/step - loss: 0.4456 - binary_accuracy: 0.7903\n",
      "Epoch 12/30\n",
      "24/24 [==============================] - 0s 7ms/step - loss: 0.4558 - binary_accuracy: 0.7811\n",
      "Epoch 13/30\n",
      "24/24 [==============================] - 0s 8ms/step - loss: 0.4523 - binary_accuracy: 0.7877\n",
      "Epoch 14/30\n",
      "24/24 [==============================] - 0s 8ms/step - loss: 0.4517 - binary_accuracy: 0.7870\n",
      "Epoch 15/30\n",
      "24/24 [==============================] - 0s 8ms/step - loss: 0.4510 - binary_accuracy: 0.7845\n",
      "Epoch 16/30\n",
      "24/24 [==============================] - 0s 8ms/step - loss: 0.4499 - binary_accuracy: 0.7865\n",
      "Epoch 17/30\n",
      "24/24 [==============================] - 0s 7ms/step - loss: 0.4461 - binary_accuracy: 0.7871\n",
      "Epoch 18/30\n",
      "24/24 [==============================] - 0s 7ms/step - loss: 0.4462 - binary_accuracy: 0.7884\n",
      "Epoch 19/30\n",
      "24/24 [==============================] - 0s 7ms/step - loss: 0.4481 - binary_accuracy: 0.7876\n",
      "Epoch 20/30\n",
      "24/24 [==============================] - 0s 7ms/step - loss: 0.4453 - binary_accuracy: 0.7898\n",
      "Epoch 21/30\n",
      "24/24 [==============================] - 0s 7ms/step - loss: 0.4462 - binary_accuracy: 0.7908\n",
      "Epoch 22/30\n",
      "24/24 [==============================] - 0s 7ms/step - loss: 0.4412 - binary_accuracy: 0.7891\n",
      "Epoch 23/30\n",
      "24/24 [==============================] - 0s 7ms/step - loss: 0.4492 - binary_accuracy: 0.7874\n",
      "Epoch 24/30\n",
      "24/24 [==============================] - 0s 8ms/step - loss: 0.4490 - binary_accuracy: 0.7886\n",
      "Epoch 25/30\n",
      "24/24 [==============================] - 0s 8ms/step - loss: 0.4455 - binary_accuracy: 0.7854\n",
      "Epoch 26/30\n",
      "24/24 [==============================] - 0s 8ms/step - loss: 0.4451 - binary_accuracy: 0.7869\n",
      "Epoch 27/30\n",
      "24/24 [==============================] - 0s 8ms/step - loss: 0.4469 - binary_accuracy: 0.7825\n",
      "Epoch 28/30\n",
      "24/24 [==============================] - 0s 7ms/step - loss: 0.4466 - binary_accuracy: 0.7854\n",
      "Epoch 29/30\n",
      "24/24 [==============================] - 0s 7ms/step - loss: 0.4489 - binary_accuracy: 0.7822\n",
      "Epoch 30/30\n",
      "24/24 [==============================] - 0s 7ms/step - loss: 0.4592 - binary_accuracy: 0.7783\n"
     ]
    },
    {
     "data": {
      "text/plain": [
       "<tensorflow.python.keras.callbacks.History at 0x14bad7280>"
      ]
     },
     "execution_count": 283,
     "metadata": {},
     "output_type": "execute_result"
    }
   ],
   "source": [
    "from numpy.random import seed\n",
    "seed(1)\n",
    "tf.random.set_seed(1)\n",
    "nn_simple6.fit(keras_simple_6_train, y_simples_log_train, epochs=30, batch_size=512)"
   ]
  },
  {
   "cell_type": "code",
   "execution_count": 284,
   "metadata": {},
   "outputs": [
    {
     "name": "stdout",
     "output_type": "stream",
     "text": [
      "94/94 [==============================] - 0s 946us/step - loss: 0.4600 - binary_accuracy: 0.7720\n"
     ]
    }
   ],
   "source": [
    "results_simple6 = nn_simple6.evaluate(keras_simple_6_test, y_simples_log_test)"
   ]
  },
  {
   "cell_type": "code",
   "execution_count": 270,
   "metadata": {},
   "outputs": [],
   "source": [
    "keras_simple_7_train = np.array(X_simples_log_train[nn_simple[-1]]) \n",
    "keras_simple_7_test = np.array(X_simples_log_test[nn_simple[-1]])"
   ]
  },
  {
   "cell_type": "code",
   "execution_count": 271,
   "metadata": {},
   "outputs": [],
   "source": [
    "nn_simple7 = models.Sequential()"
   ]
  },
  {
   "cell_type": "code",
   "execution_count": 272,
   "metadata": {},
   "outputs": [],
   "source": [
    "nn_simple7.add(layers.Dense(512, activation='relu'))\n",
    "nn_simple7.add(layers.Dense(512, activation='relu'))\n",
    "nn_simple7.add(layers.Dense(256, activation='relu'))\n",
    "nn_simple7.add(layers.Dense(256, activation='relu'))\n",
    "nn_simple7.add(layers.Dense(256, activation='relu'))\n",
    "nn_simple7.add(layers.Dense(256, activation='relu'))\n",
    "nn_simple7.add(layers.Dense(128, activation='relu'))\n",
    "nn_simple7.add(layers.Dense(128, activation='relu'))\n",
    "nn_simple7.add(layers.Dense(128, activation='relu'))\n",
    "nn_simple7.add(layers.Dense(64, activation='relu'))\n",
    "nn_simple7.add(layers.Dense(1, activation='sigmoid'))"
   ]
  },
  {
   "cell_type": "code",
   "execution_count": 273,
   "metadata": {},
   "outputs": [],
   "source": [
    "nn_simple7.compile(optimizer='rmsprop', loss = 'binary_crossentropy', metrics=['binary_accuracy'])"
   ]
  },
  {
   "cell_type": "code",
   "execution_count": 274,
   "metadata": {},
   "outputs": [
    {
     "name": "stdout",
     "output_type": "stream",
     "text": [
      "Epoch 1/30\n",
      "24/24 [==============================] - 1s 19ms/step - loss: 0.6316 - binary_accuracy: 0.6134\n",
      "Epoch 2/30\n",
      "24/24 [==============================] - 0s 20ms/step - loss: 0.5013 - binary_accuracy: 0.7495\n",
      "Epoch 3/30\n",
      "24/24 [==============================] - 0s 21ms/step - loss: 0.5017 - binary_accuracy: 0.7536\n",
      "Epoch 4/30\n",
      "24/24 [==============================] - 0s 21ms/step - loss: 0.4828 - binary_accuracy: 0.7770\n",
      "Epoch 5/30\n",
      "24/24 [==============================] - 1s 21ms/step - loss: 0.4668 - binary_accuracy: 0.7764\n",
      "Epoch 6/30\n",
      "24/24 [==============================] - 0s 21ms/step - loss: 0.4667 - binary_accuracy: 0.7749\n",
      "Epoch 7/30\n",
      "24/24 [==============================] - 1s 21ms/step - loss: 0.4589 - binary_accuracy: 0.7867\n",
      "Epoch 8/30\n",
      "24/24 [==============================] - 1s 21ms/step - loss: 0.4633 - binary_accuracy: 0.7777\n",
      "Epoch 9/30\n",
      "24/24 [==============================] - 1s 21ms/step - loss: 0.4516 - binary_accuracy: 0.7867\n",
      "Epoch 10/30\n",
      "24/24 [==============================] - 1s 22ms/step - loss: 0.4493 - binary_accuracy: 0.7889\n",
      "Epoch 11/30\n",
      "24/24 [==============================] - 1s 22ms/step - loss: 0.4419 - binary_accuracy: 0.7959\n",
      "Epoch 12/30\n",
      "24/24 [==============================] - 1s 22ms/step - loss: 0.4629 - binary_accuracy: 0.7757\n",
      "Epoch 13/30\n",
      "24/24 [==============================] - 1s 22ms/step - loss: 0.4433 - binary_accuracy: 0.7960\n",
      "Epoch 14/30\n",
      "24/24 [==============================] - 1s 23ms/step - loss: 0.4442 - binary_accuracy: 0.7927\n",
      "Epoch 15/30\n",
      "24/24 [==============================] - 1s 23ms/step - loss: 0.4414 - binary_accuracy: 0.7925\n",
      "Epoch 16/30\n",
      "24/24 [==============================] - 1s 24ms/step - loss: 0.4379 - binary_accuracy: 0.7980\n",
      "Epoch 17/30\n",
      "24/24 [==============================] - 1s 24ms/step - loss: 0.4348 - binary_accuracy: 0.7985\n",
      "Epoch 18/30\n",
      "24/24 [==============================] - 1s 25ms/step - loss: 0.4378 - binary_accuracy: 0.7973\n",
      "Epoch 19/30\n",
      "24/24 [==============================] - 1s 24ms/step - loss: 0.4372 - binary_accuracy: 0.7945\n",
      "Epoch 20/30\n",
      "24/24 [==============================] - 1s 24ms/step - loss: 0.4343 - binary_accuracy: 0.7994\n",
      "Epoch 21/30\n",
      "24/24 [==============================] - 1s 24ms/step - loss: 0.4347 - binary_accuracy: 0.8011\n",
      "Epoch 22/30\n",
      "24/24 [==============================] - 1s 24ms/step - loss: 0.4268 - binary_accuracy: 0.8008\n",
      "Epoch 23/30\n",
      "24/24 [==============================] - 1s 24ms/step - loss: 0.4411 - binary_accuracy: 0.7946\n",
      "Epoch 24/30\n",
      "24/24 [==============================] - 1s 25ms/step - loss: 0.4369 - binary_accuracy: 0.7991\n",
      "Epoch 25/30\n",
      "24/24 [==============================] - 1s 25ms/step - loss: 0.4334 - binary_accuracy: 0.8003\n",
      "Epoch 26/30\n",
      "24/24 [==============================] - 1s 25ms/step - loss: 0.4303 - binary_accuracy: 0.7978\n",
      "Epoch 27/30\n",
      "24/24 [==============================] - 1s 26ms/step - loss: 0.4291 - binary_accuracy: 0.8000\n",
      "Epoch 28/30\n",
      "24/24 [==============================] - 1s 26ms/step - loss: 0.4260 - binary_accuracy: 0.7966\n",
      "Epoch 29/30\n",
      "24/24 [==============================] - 1s 26ms/step - loss: 0.4403 - binary_accuracy: 0.7963\n",
      "Epoch 30/30\n",
      "24/24 [==============================] - 1s 26ms/step - loss: 0.4546 - binary_accuracy: 0.7921\n"
     ]
    },
    {
     "data": {
      "text/plain": [
       "<tensorflow.python.keras.callbacks.History at 0x14b54f220>"
      ]
     },
     "execution_count": 274,
     "metadata": {},
     "output_type": "execute_result"
    }
   ],
   "source": [
    "from numpy.random import seed\n",
    "seed(1)\n",
    "tf.random.set_seed(1)\n",
    "nn_simple7.fit(keras_simple_7_train, y_simples_log_train, epochs=30, batch_size=512)"
   ]
  },
  {
   "cell_type": "code",
   "execution_count": 338,
   "metadata": {},
   "outputs": [
    {
     "name": "stdout",
     "output_type": "stream",
     "text": [
      "94/94 [==============================] - 1s 3ms/step - loss: 0.4591 - binary_accuracy: 0.7847\n"
     ]
    }
   ],
   "source": [
    "results_simple7 = nn_simple7.evaluate(keras_simple_7_test, y_simples_log_test)"
   ]
  },
  {
   "cell_type": "code",
   "execution_count": null,
   "metadata": {},
   "outputs": [],
   "source": []
  }
 ],
 "metadata": {
  "kernelspec": {
   "display_name": "Python 3",
   "language": "python",
   "name": "python3"
  },
  "language_info": {
   "codemirror_mode": {
    "name": "ipython",
    "version": 3
   },
   "file_extension": ".py",
   "mimetype": "text/x-python",
   "name": "python",
   "nbconvert_exporter": "python",
   "pygments_lexer": "ipython3",
   "version": "3.8.2"
  }
 },
 "nbformat": 4,
 "nbformat_minor": 4
}
