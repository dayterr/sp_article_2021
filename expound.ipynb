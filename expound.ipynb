{
 "cells": [
  {
   "cell_type": "code",
   "execution_count": 1,
   "metadata": {},
   "outputs": [],
   "source": [
    "import pandas as pd\n",
    "import numpy as np"
   ]
  },
  {
   "cell_type": "code",
   "execution_count": 590,
   "metadata": {},
   "outputs": [],
   "source": [
    "from sklearn.linear_model import LogisticRegression\n",
    "from sklearn.ensemble import ExtraTreesClassifier, RandomForestClassifier\n",
    "from sklearn.linear_model import LogisticRegression\n",
    "from sklearn.model_selection import RandomizedSearchCV, StratifiedKFold, train_test_split"
   ]
  },
  {
   "cell_type": "code",
   "execution_count": 3,
   "metadata": {},
   "outputs": [],
   "source": [
    "from sklearn.metrics import balanced_accuracy_score, accuracy_score"
   ]
  },
  {
   "cell_type": "code",
   "execution_count": 1265,
   "metadata": {},
   "outputs": [],
   "source": [
    "import tensorflow as tf\n",
    "from tensorflow.keras import layers, models"
   ]
  },
  {
   "cell_type": "code",
   "execution_count": 259,
   "metadata": {},
   "outputs": [],
   "source": [
    "def map_feature_importance(alg, data):\n",
    "    try:\n",
    "        imp_list = list(alg.feature_importances_)\n",
    "    except AttributeError:\n",
    "        imp_list = list(alg.coef_)\n",
    "        imp_list = imp_list[0]\n",
    "    feat_list = data.columns.to_list()\n",
    "    to_sort = list(zip(feat_list, imp_list))\n",
    "    sorted_list = sorted(to_sort, key=lambda x: x[1], reverse=True)\n",
    "    return sorted_list"
   ]
  },
  {
   "cell_type": "code",
   "execution_count": 205,
   "metadata": {},
   "outputs": [],
   "source": [
    "def pick_overthreshold(seq, thresh):\n",
    "    if len(seq) == 1:\n",
    "        seq = seq[0]\n",
    "    picked = [i[0] for i in seq if i[1] > thresh]\n",
    "    return picked"
   ]
  },
  {
   "cell_type": "code",
   "execution_count": 194,
   "metadata": {},
   "outputs": [],
   "source": [
    "def choose_best_feats(algo, X_train, X_test, y_train, y_test):\n",
    "    best_feats = []\n",
    "    best_ba = 0\n",
    "    best_acc = 0\n",
    "    algo.fit(X_train, y_train)\n",
    "    #preds = random_forest_simples.predict(X_test)\n",
    "    mapped = map_feature_importance(algo, X_train)\n",
    "    for i in np.linspace(0.01, 0.1, 10):\n",
    "        feats = pick_overthreshold(mapped, i)\n",
    "        algo.fit(X_train[feats], y_train)\n",
    "        pr = algo.predict(X_test[feats])\n",
    "        ba = balanced_accuracy_score(y_test, pr)\n",
    "        acc = accuracy_score(y_test, pr)\n",
    "        if ba > best_ba:\n",
    "            best_feats = feats\n",
    "            best_ba = ba\n",
    "            best_acc = acc\n",
    "    print(f'features are: {best_feats}')\n",
    "    print(f'balanced accuracy is {best_ba}')\n",
    "    print(f'accuracy is {best_acc}')\n",
    "    print()"
   ]
  },
  {
   "cell_type": "code",
   "execution_count": 888,
   "metadata": {},
   "outputs": [],
   "source": [
    "def map_coefs(dataset, logit):\n",
    "    for pair in list(zip(dataset.columns, logit.coef_[0])):\n",
    "        print(pair)"
   ]
  },
  {
   "cell_type": "code",
   "execution_count": 4,
   "metadata": {},
   "outputs": [],
   "source": [
    "data = pd.read_csv('dataset_exp.csv', encoding = 'mac_cyrillic', sep=';')"
   ]
  },
  {
   "cell_type": "code",
   "execution_count": 271,
   "metadata": {},
   "outputs": [
    {
     "data": {
      "text/html": [
       "<div>\n",
       "<style scoped>\n",
       "    .dataframe tbody tr th:only-of-type {\n",
       "        vertical-align: middle;\n",
       "    }\n",
       "\n",
       "    .dataframe tbody tr th {\n",
       "        vertical-align: top;\n",
       "    }\n",
       "\n",
       "    .dataframe thead th {\n",
       "        text-align: right;\n",
       "    }\n",
       "</style>\n",
       "<table border=\"1\" class=\"dataframe\">\n",
       "  <thead>\n",
       "    <tr style=\"text-align: right;\">\n",
       "      <th></th>\n",
       "      <th>Syllables</th>\n",
       "      <th>frequency</th>\n",
       "      <th>IPM</th>\n",
       "      <th>TF</th>\n",
       "      <th>isPr</th>\n",
       "      <th>Type</th>\n",
       "      <th>is_compound</th>\n",
       "      <th>Reduced</th>\n",
       "      <th>is_noun</th>\n",
       "      <th>is_verb</th>\n",
       "      <th>...</th>\n",
       "      <th>is_pr_adj</th>\n",
       "      <th>is_deepr</th>\n",
       "      <th>is_particle</th>\n",
       "      <th>is_pr_adv</th>\n",
       "      <th>is_stat</th>\n",
       "      <th>is_numer</th>\n",
       "      <th>is_inter</th>\n",
       "      <th>is_vvod</th>\n",
       "      <th>is_pr_noun</th>\n",
       "      <th>is_pr_num</th>\n",
       "    </tr>\n",
       "  </thead>\n",
       "  <tbody>\n",
       "    <tr>\n",
       "      <th>0</th>\n",
       "      <td>2</td>\n",
       "      <td>2817</td>\n",
       "      <td>216.670000</td>\n",
       "      <td>1</td>\n",
       "      <td>0</td>\n",
       "      <td>2</td>\n",
       "      <td>0</td>\n",
       "      <td>0</td>\n",
       "      <td>0</td>\n",
       "      <td>1</td>\n",
       "      <td>...</td>\n",
       "      <td>0</td>\n",
       "      <td>0</td>\n",
       "      <td>0</td>\n",
       "      <td>0</td>\n",
       "      <td>0</td>\n",
       "      <td>0</td>\n",
       "      <td>0</td>\n",
       "      <td>0</td>\n",
       "      <td>0</td>\n",
       "      <td>0</td>\n",
       "    </tr>\n",
       "    <tr>\n",
       "      <th>1</th>\n",
       "      <td>1</td>\n",
       "      <td>49301</td>\n",
       "      <td>3792.010000</td>\n",
       "      <td>7</td>\n",
       "      <td>0</td>\n",
       "      <td>2</td>\n",
       "      <td>0</td>\n",
       "      <td>0</td>\n",
       "      <td>0</td>\n",
       "      <td>0</td>\n",
       "      <td>...</td>\n",
       "      <td>1</td>\n",
       "      <td>0</td>\n",
       "      <td>0</td>\n",
       "      <td>0</td>\n",
       "      <td>0</td>\n",
       "      <td>0</td>\n",
       "      <td>0</td>\n",
       "      <td>0</td>\n",
       "      <td>0</td>\n",
       "      <td>0</td>\n",
       "    </tr>\n",
       "    <tr>\n",
       "      <th>2</th>\n",
       "      <td>2</td>\n",
       "      <td>2599</td>\n",
       "      <td>199.900000</td>\n",
       "      <td>1</td>\n",
       "      <td>0</td>\n",
       "      <td>2</td>\n",
       "      <td>0</td>\n",
       "      <td>0</td>\n",
       "      <td>1</td>\n",
       "      <td>0</td>\n",
       "      <td>...</td>\n",
       "      <td>0</td>\n",
       "      <td>0</td>\n",
       "      <td>0</td>\n",
       "      <td>0</td>\n",
       "      <td>0</td>\n",
       "      <td>0</td>\n",
       "      <td>0</td>\n",
       "      <td>0</td>\n",
       "      <td>0</td>\n",
       "      <td>0</td>\n",
       "    </tr>\n",
       "    <tr>\n",
       "      <th>3</th>\n",
       "      <td>3</td>\n",
       "      <td>11</td>\n",
       "      <td>0.850000</td>\n",
       "      <td>1</td>\n",
       "      <td>0</td>\n",
       "      <td>2</td>\n",
       "      <td>0</td>\n",
       "      <td>0</td>\n",
       "      <td>0</td>\n",
       "      <td>0</td>\n",
       "      <td>...</td>\n",
       "      <td>0</td>\n",
       "      <td>0</td>\n",
       "      <td>0</td>\n",
       "      <td>0</td>\n",
       "      <td>0</td>\n",
       "      <td>0</td>\n",
       "      <td>0</td>\n",
       "      <td>0</td>\n",
       "      <td>0</td>\n",
       "      <td>0</td>\n",
       "    </tr>\n",
       "    <tr>\n",
       "      <th>4</th>\n",
       "      <td>3</td>\n",
       "      <td>7185</td>\n",
       "      <td>552.640000</td>\n",
       "      <td>2</td>\n",
       "      <td>0</td>\n",
       "      <td>2</td>\n",
       "      <td>0</td>\n",
       "      <td>1</td>\n",
       "      <td>0</td>\n",
       "      <td>1</td>\n",
       "      <td>...</td>\n",
       "      <td>0</td>\n",
       "      <td>0</td>\n",
       "      <td>0</td>\n",
       "      <td>0</td>\n",
       "      <td>0</td>\n",
       "      <td>0</td>\n",
       "      <td>0</td>\n",
       "      <td>0</td>\n",
       "      <td>0</td>\n",
       "      <td>0</td>\n",
       "    </tr>\n",
       "    <tr>\n",
       "      <th>...</th>\n",
       "      <td>...</td>\n",
       "      <td>...</td>\n",
       "      <td>...</td>\n",
       "      <td>...</td>\n",
       "      <td>...</td>\n",
       "      <td>...</td>\n",
       "      <td>...</td>\n",
       "      <td>...</td>\n",
       "      <td>...</td>\n",
       "      <td>...</td>\n",
       "      <td>...</td>\n",
       "      <td>...</td>\n",
       "      <td>...</td>\n",
       "      <td>...</td>\n",
       "      <td>...</td>\n",
       "      <td>...</td>\n",
       "      <td>...</td>\n",
       "      <td>...</td>\n",
       "      <td>...</td>\n",
       "      <td>...</td>\n",
       "      <td>...</td>\n",
       "    </tr>\n",
       "    <tr>\n",
       "      <th>15356</th>\n",
       "      <td>2</td>\n",
       "      <td>8146</td>\n",
       "      <td>626.550000</td>\n",
       "      <td>1</td>\n",
       "      <td>0</td>\n",
       "      <td>2</td>\n",
       "      <td>0</td>\n",
       "      <td>0</td>\n",
       "      <td>0</td>\n",
       "      <td>0</td>\n",
       "      <td>...</td>\n",
       "      <td>1</td>\n",
       "      <td>0</td>\n",
       "      <td>0</td>\n",
       "      <td>0</td>\n",
       "      <td>0</td>\n",
       "      <td>0</td>\n",
       "      <td>0</td>\n",
       "      <td>0</td>\n",
       "      <td>0</td>\n",
       "      <td>0</td>\n",
       "    </tr>\n",
       "    <tr>\n",
       "      <th>15357</th>\n",
       "      <td>3</td>\n",
       "      <td>540</td>\n",
       "      <td>41.534391</td>\n",
       "      <td>1</td>\n",
       "      <td>0</td>\n",
       "      <td>2</td>\n",
       "      <td>0</td>\n",
       "      <td>0</td>\n",
       "      <td>0</td>\n",
       "      <td>1</td>\n",
       "      <td>...</td>\n",
       "      <td>0</td>\n",
       "      <td>0</td>\n",
       "      <td>0</td>\n",
       "      <td>0</td>\n",
       "      <td>0</td>\n",
       "      <td>0</td>\n",
       "      <td>0</td>\n",
       "      <td>0</td>\n",
       "      <td>0</td>\n",
       "      <td>0</td>\n",
       "    </tr>\n",
       "    <tr>\n",
       "      <th>15358</th>\n",
       "      <td>5</td>\n",
       "      <td>0</td>\n",
       "      <td>0.000000</td>\n",
       "      <td>1</td>\n",
       "      <td>0</td>\n",
       "      <td>2</td>\n",
       "      <td>0</td>\n",
       "      <td>1</td>\n",
       "      <td>1</td>\n",
       "      <td>0</td>\n",
       "      <td>...</td>\n",
       "      <td>0</td>\n",
       "      <td>0</td>\n",
       "      <td>0</td>\n",
       "      <td>0</td>\n",
       "      <td>0</td>\n",
       "      <td>0</td>\n",
       "      <td>0</td>\n",
       "      <td>0</td>\n",
       "      <td>0</td>\n",
       "      <td>0</td>\n",
       "    </tr>\n",
       "    <tr>\n",
       "      <th>15359</th>\n",
       "      <td>1</td>\n",
       "      <td>332602</td>\n",
       "      <td>25582.270000</td>\n",
       "      <td>49</td>\n",
       "      <td>1</td>\n",
       "      <td>2</td>\n",
       "      <td>0</td>\n",
       "      <td>0</td>\n",
       "      <td>0</td>\n",
       "      <td>0</td>\n",
       "      <td>...</td>\n",
       "      <td>0</td>\n",
       "      <td>0</td>\n",
       "      <td>0</td>\n",
       "      <td>0</td>\n",
       "      <td>0</td>\n",
       "      <td>0</td>\n",
       "      <td>0</td>\n",
       "      <td>0</td>\n",
       "      <td>0</td>\n",
       "      <td>0</td>\n",
       "    </tr>\n",
       "    <tr>\n",
       "      <th>15360</th>\n",
       "      <td>4</td>\n",
       "      <td>3</td>\n",
       "      <td>0.230747</td>\n",
       "      <td>1</td>\n",
       "      <td>0</td>\n",
       "      <td>2</td>\n",
       "      <td>0</td>\n",
       "      <td>0</td>\n",
       "      <td>1</td>\n",
       "      <td>0</td>\n",
       "      <td>...</td>\n",
       "      <td>0</td>\n",
       "      <td>0</td>\n",
       "      <td>0</td>\n",
       "      <td>0</td>\n",
       "      <td>0</td>\n",
       "      <td>0</td>\n",
       "      <td>0</td>\n",
       "      <td>0</td>\n",
       "      <td>0</td>\n",
       "      <td>0</td>\n",
       "    </tr>\n",
       "  </tbody>\n",
       "</table>\n",
       "<p>15361 rows × 26 columns</p>\n",
       "</div>"
      ],
      "text/plain": [
       "       Syllables frequency           IPM  TF  isPr Type  is_compound  Reduced  \\\n",
       "0              2      2817    216.670000   1     0    2            0        0   \n",
       "1              1     49301   3792.010000   7     0    2            0        0   \n",
       "2              2      2599    199.900000   1     0    2            0        0   \n",
       "3              3        11      0.850000   1     0    2            0        0   \n",
       "4              3      7185    552.640000   2     0    2            0        1   \n",
       "...          ...       ...           ...  ..   ...  ...          ...      ...   \n",
       "15356          2      8146    626.550000   1     0    2            0        0   \n",
       "15357          3       540     41.534391   1     0    2            0        0   \n",
       "15358          5         0      0.000000   1     0    2            0        1   \n",
       "15359          1    332602  25582.270000  49     1    2            0        0   \n",
       "15360          4         3      0.230747   1     0    2            0        0   \n",
       "\n",
       "       is_noun  is_verb  ...  is_pr_adj  is_deepr  is_particle  is_pr_adv  \\\n",
       "0            0        1  ...          0         0            0          0   \n",
       "1            0        0  ...          1         0            0          0   \n",
       "2            1        0  ...          0         0            0          0   \n",
       "3            0        0  ...          0         0            0          0   \n",
       "4            0        1  ...          0         0            0          0   \n",
       "...        ...      ...  ...        ...       ...          ...        ...   \n",
       "15356        0        0  ...          1         0            0          0   \n",
       "15357        0        1  ...          0         0            0          0   \n",
       "15358        1        0  ...          0         0            0          0   \n",
       "15359        0        0  ...          0         0            0          0   \n",
       "15360        1        0  ...          0         0            0          0   \n",
       "\n",
       "       is_stat  is_numer  is_inter  is_vvod  is_pr_noun  is_pr_num  \n",
       "0            0         0         0        0           0          0  \n",
       "1            0         0         0        0           0          0  \n",
       "2            0         0         0        0           0          0  \n",
       "3            0         0         0        0           0          0  \n",
       "4            0         0         0        0           0          0  \n",
       "...        ...       ...       ...      ...         ...        ...  \n",
       "15356        0         0         0        0           0          0  \n",
       "15357        0         0         0        0           0          0  \n",
       "15358        0         0         0        0           0          0  \n",
       "15359        0         0         0        0           0          0  \n",
       "15360        0         0         0        0           0          0  \n",
       "\n",
       "[15361 rows x 26 columns]"
      ]
     },
     "execution_count": 271,
     "metadata": {},
     "output_type": "execute_result"
    }
   ],
   "source": [
    "data"
   ]
  },
  {
   "cell_type": "code",
   "execution_count": 6,
   "metadata": {},
   "outputs": [],
   "source": [
    "data['PoS'] = data['PoS'].astype('category')\n",
    "data['Type'] = data['Type'].astype('category')"
   ]
  },
  {
   "cell_type": "code",
   "execution_count": 7,
   "metadata": {},
   "outputs": [],
   "source": [
    "data['IPM'] = data['IPM'].astype('float')"
   ]
  },
  {
   "cell_type": "code",
   "execution_count": 8,
   "metadata": {},
   "outputs": [],
   "source": [
    "parts_of_speech = {1: 'is_noun', 2: 'is_verb', 3: 'is_adj', 4: 'is_adv', 5: 'is_part', 6: 'is_pronoun', 7: 'is_prep',\n",
    "                  8: 'is_conj', 9: 'is_pr_adj', 10: 'is_deepr', 11: 'is_particle', 12: 'is_pr_adv', 13: 'is_stat', 14: 'is_numer',\n",
    "                  15: 'is_inter', 16: 'is_vvod', 17: 'is_pr_noun', 18: 'is_pr_num'}"
   ]
  },
  {
   "cell_type": "code",
   "execution_count": 9,
   "metadata": {},
   "outputs": [],
   "source": [
    "for i in parts_of_speech:\n",
    "    data[parts_of_speech[i]] = np.where(data['PoS'] == i, 1, 0)"
   ]
  },
  {
   "cell_type": "code",
   "execution_count": 10,
   "metadata": {},
   "outputs": [],
   "source": [
    "data = data.drop('PoS', axis=1)"
   ]
  },
  {
   "cell_type": "code",
   "execution_count": 11,
   "metadata": {},
   "outputs": [],
   "source": [
    "data = data.drop('Word', axis=1)\n",
    "data = data.drop('Transcription', axis=1)"
   ]
  },
  {
   "cell_type": "code",
   "execution_count": 14,
   "metadata": {},
   "outputs": [],
   "source": [
    "simples = data[data['is_compound']==0]"
   ]
  },
  {
   "cell_type": "code",
   "execution_count": 15,
   "metadata": {},
   "outputs": [],
   "source": [
    "simples_y = simples['Reduced']"
   ]
  },
  {
   "cell_type": "code",
   "execution_count": 16,
   "metadata": {},
   "outputs": [],
   "source": [
    "simples_X = simples.drop('Reduced', axis=1)"
   ]
  },
  {
   "cell_type": "code",
   "execution_count": 17,
   "metadata": {},
   "outputs": [],
   "source": [
    "simples_X = simples_X.drop('is_compound', axis=1)"
   ]
  },
  {
   "cell_type": "code",
   "execution_count": 18,
   "metadata": {},
   "outputs": [],
   "source": [
    "simples_X = simples_X.drop('frequency', axis=1)"
   ]
  },
  {
   "cell_type": "code",
   "execution_count": 19,
   "metadata": {},
   "outputs": [],
   "source": [
    "compounds = data[data['is_compound']==1]"
   ]
  },
  {
   "cell_type": "code",
   "execution_count": 20,
   "metadata": {},
   "outputs": [],
   "source": [
    "compounds_y = compounds['Reduced']"
   ]
  },
  {
   "cell_type": "code",
   "execution_count": 21,
   "metadata": {},
   "outputs": [],
   "source": [
    "compounds_X = compounds.drop('Reduced', axis=1)"
   ]
  },
  {
   "cell_type": "code",
   "execution_count": 22,
   "metadata": {},
   "outputs": [],
   "source": [
    "compounds_X = compounds_X.drop('is_compound', axis=1)"
   ]
  },
  {
   "cell_type": "code",
   "execution_count": 23,
   "metadata": {},
   "outputs": [],
   "source": [
    "compounds_X = compounds_X.drop('frequency', axis=1)"
   ]
  },
  {
   "cell_type": "code",
   "execution_count": 24,
   "metadata": {},
   "outputs": [],
   "source": [
    "X_simples_train, X_simples_test, y_simples_train, y_simples_test = train_test_split(simples_X, \n",
    "                                                                                    simples_y, test_size = 0.2, \n",
    "                                                                                    random_state = 0)"
   ]
  },
  {
   "cell_type": "code",
   "execution_count": 26,
   "metadata": {},
   "outputs": [],
   "source": [
    "X_compound_train, X_compound_test, y_compound_train, y_compound_test = train_test_split(compounds_X, \n",
    "                                                                                        compounds_y, test_size = 0.2, \n",
    "                                                                                        random_state = 0)"
   ]
  },
  {
   "cell_type": "code",
   "execution_count": 311,
   "metadata": {},
   "outputs": [],
   "source": [
    "data_normalized = data.copy()"
   ]
  },
  {
   "cell_type": "code",
   "execution_count": 313,
   "metadata": {},
   "outputs": [],
   "source": [
    "mean_IPM = data_normalized['IPM'].mean()"
   ]
  },
  {
   "cell_type": "code",
   "execution_count": 314,
   "metadata": {},
   "outputs": [],
   "source": [
    "std_IPM = data_normalized['IPM'].std()"
   ]
  },
  {
   "cell_type": "code",
   "execution_count": 315,
   "metadata": {},
   "outputs": [],
   "source": [
    "data_normalized['IPM'] -= mean_IPM\n",
    "data_normalized['IPM'] /= std_IPM"
   ]
  },
  {
   "cell_type": "code",
   "execution_count": 316,
   "metadata": {},
   "outputs": [],
   "source": [
    "mean_TF = data_normalized['TF'].mean()\n",
    "std_TF = data_normalized['TF'].std()"
   ]
  },
  {
   "cell_type": "code",
   "execution_count": 317,
   "metadata": {},
   "outputs": [],
   "source": [
    "data_normalized['TF'] -= mean_TF\n",
    "data_normalized['TF'] /= std_TF"
   ]
  },
  {
   "cell_type": "code",
   "execution_count": 318,
   "metadata": {},
   "outputs": [],
   "source": [
    "data_normalized = data_normalized.drop('frequency', axis=1)"
   ]
  },
  {
   "cell_type": "code",
   "execution_count": 319,
   "metadata": {},
   "outputs": [],
   "source": [
    "simple_norm = data_normalized[data_normalized['is_compound']==0]"
   ]
  },
  {
   "cell_type": "code",
   "execution_count": 320,
   "metadata": {},
   "outputs": [],
   "source": [
    "simple_norm_y = simple_norm['Reduced']"
   ]
  },
  {
   "cell_type": "code",
   "execution_count": 321,
   "metadata": {},
   "outputs": [],
   "source": [
    "simple_norm = simple_norm.drop('Reduced', axis=1)"
   ]
  },
  {
   "cell_type": "code",
   "execution_count": 322,
   "metadata": {},
   "outputs": [],
   "source": [
    "simple_norm = simple_norm.drop('is_compound', axis=1)"
   ]
  },
  {
   "cell_type": "code",
   "execution_count": 323,
   "metadata": {},
   "outputs": [],
   "source": [
    "compounds_norm = data_normalized[data_normalized['is_compound']==1]"
   ]
  },
  {
   "cell_type": "code",
   "execution_count": 324,
   "metadata": {},
   "outputs": [],
   "source": [
    "compounds_norm_y = compounds_norm['Reduced']"
   ]
  },
  {
   "cell_type": "code",
   "execution_count": 325,
   "metadata": {},
   "outputs": [],
   "source": [
    "compounds_norm = compounds_norm.drop('Reduced', axis=1)"
   ]
  },
  {
   "cell_type": "code",
   "execution_count": 326,
   "metadata": {},
   "outputs": [],
   "source": [
    "compounds_norm = compounds_norm.drop('is_compound', axis=1)"
   ]
  },
  {
   "cell_type": "code",
   "execution_count": 327,
   "metadata": {},
   "outputs": [],
   "source": [
    "X_simples_norm_train, X_simples_norm_test, y_simples_norm_train, y_simples_norm_test = train_test_split(simple_norm, \n",
    "                                                                                    simple_norm_y, test_size = 0.2, \n",
    "                                                                                    random_state = 0)"
   ]
  },
  {
   "cell_type": "code",
   "execution_count": 328,
   "metadata": {},
   "outputs": [],
   "source": [
    "X_compound_norm_train, X_compound_norm_test, y_compound_norm_train, y_compound_norm_test = train_test_split(\n",
    "    compounds_norm, compounds_norm_y, test_size = 0.2, random_state = 0)"
   ]
  },
  {
   "cell_type": "code",
   "execution_count": 832,
   "metadata": {},
   "outputs": [],
   "source": [
    "data_log = data.copy()"
   ]
  },
  {
   "cell_type": "code",
   "execution_count": 833,
   "metadata": {},
   "outputs": [
    {
     "name": "stderr",
     "output_type": "stream",
     "text": [
      "/Users/ruth/coding/env/lib/python3.8/site-packages/pandas/core/series.py:726: RuntimeWarning: divide by zero encountered in log\n",
      "  result = getattr(ufunc, method)(*inputs, **kwargs)\n"
     ]
    }
   ],
   "source": [
    "data_log['IPM'] = np.log(data_log['IPM'])\n",
    "data_log['TF'] = np.log(data_log['TF'])"
   ]
  },
  {
   "cell_type": "code",
   "execution_count": 834,
   "metadata": {},
   "outputs": [
    {
     "data": {
      "text/plain": [
       "211"
      ]
     },
     "execution_count": 834,
     "metadata": {},
     "output_type": "execute_result"
    }
   ],
   "source": [
    "data['TF'].max()"
   ]
  },
  {
   "cell_type": "code",
   "execution_count": 835,
   "metadata": {},
   "outputs": [],
   "source": [
    "data_log = data_log.drop('frequency', axis=1)"
   ]
  },
  {
   "cell_type": "code",
   "execution_count": 836,
   "metadata": {},
   "outputs": [],
   "source": [
    "simple_log = data_log[data_log['is_compound']==0]"
   ]
  },
  {
   "cell_type": "code",
   "execution_count": 838,
   "metadata": {},
   "outputs": [],
   "source": [
    "simple_log_y = simple_log['Reduced']"
   ]
  },
  {
   "cell_type": "code",
   "execution_count": 839,
   "metadata": {},
   "outputs": [],
   "source": [
    "simple_log = simple_log.drop('Reduced', axis=1)"
   ]
  },
  {
   "cell_type": "code",
   "execution_count": 840,
   "metadata": {},
   "outputs": [],
   "source": [
    "simple_log = simple_log.drop('is_compound', axis=1)"
   ]
  },
  {
   "cell_type": "code",
   "execution_count": 841,
   "metadata": {},
   "outputs": [],
   "source": [
    "simple_log['IPM'] = np.where(simple_log['IPM'] == -np.inf, 0, simple_log['IPM'])"
   ]
  },
  {
   "cell_type": "code",
   "execution_count": 842,
   "metadata": {},
   "outputs": [],
   "source": [
    "X_simples_log_train, X_simples_log_test, y_simples_log_train, y_simples_log_test = train_test_split(simple_log, \n",
    "                                                                                    simple_log_y, test_size = 0.2, \n",
    "                                                                                    random_state = 0)"
   ]
  },
  {
   "cell_type": "code",
   "execution_count": 1001,
   "metadata": {},
   "outputs": [],
   "source": [
    "compound_log = data_log[data_log['is_compound']==1]"
   ]
  },
  {
   "cell_type": "code",
   "execution_count": 1002,
   "metadata": {},
   "outputs": [],
   "source": [
    "compound_log_y = compound_log['Reduced']"
   ]
  },
  {
   "cell_type": "code",
   "execution_count": 1003,
   "metadata": {},
   "outputs": [],
   "source": [
    "compound_log = compound_log.drop('Reduced', axis=1)"
   ]
  },
  {
   "cell_type": "code",
   "execution_count": 1004,
   "metadata": {},
   "outputs": [],
   "source": [
    "compound_log = compound_log.drop('is_compound', axis=1)"
   ]
  },
  {
   "cell_type": "code",
   "execution_count": 1005,
   "metadata": {},
   "outputs": [],
   "source": [
    "compound_log['IPM'] = np.where(compound_log['IPM'] == -np.inf, 0, compound_log['IPM'])"
   ]
  },
  {
   "cell_type": "code",
   "execution_count": 1006,
   "metadata": {},
   "outputs": [],
   "source": [
    "X_compound_log_train, X_compound_log_test, y_compound_log_train, y_compound_log_test = train_test_split(compound_log, \n",
    "                                                                                    compound_log_y, test_size = 0.2, \n",
    "                                                                                    random_state = 0)"
   ]
  },
  {
   "cell_type": "code",
   "execution_count": 843,
   "metadata": {},
   "outputs": [
    {
     "data": {
      "text/plain": [
       "-2.5650473526598505"
      ]
     },
     "execution_count": 843,
     "metadata": {},
     "output_type": "execute_result"
    }
   ],
   "source": [
    "simple_log['IPM'].min()"
   ]
  },
  {
   "cell_type": "code",
   "execution_count": 816,
   "metadata": {},
   "outputs": [],
   "source": [
    "kf = StratifiedKFold(n_splits=10, shuffle=True, random_state=0)"
   ]
  },
  {
   "cell_type": "markdown",
   "metadata": {},
   "source": [
    "# compound"
   ]
  },
  {
   "cell_type": "code",
   "execution_count": 49,
   "metadata": {},
   "outputs": [],
   "source": [
    "random_forest_compounds = RandomForestClassifier(n_estimators=300, random_state=0)"
   ]
  },
  {
   "cell_type": "code",
   "execution_count": 1086,
   "metadata": {},
   "outputs": [
    {
     "data": {
      "text/plain": [
       "['is_vvod',\n",
       " 'isPr',\n",
       " 'Type',\n",
       " 'is_adj',\n",
       " 'Syllables',\n",
       " 'TF',\n",
       " 'is_prep',\n",
       " 'IPM',\n",
       " 'is_conj',\n",
       " 'is_verb',\n",
       " 'is_pr_adv',\n",
       " 'is_pronoun',\n",
       " 'is_adv',\n",
       " 'is_particle']"
      ]
     },
     "execution_count": 1086,
     "metadata": {},
     "output_type": "execute_result"
    }
   ],
   "source": [
    "nn_compound[1]"
   ]
  },
  {
   "cell_type": "code",
   "execution_count": 1089,
   "metadata": {},
   "outputs": [
    {
     "name": "stdout",
     "output_type": "stream",
     "text": [
      "is_vvod False\n",
      "isPr True\n",
      "Type True\n",
      "is_adj True\n",
      "Syllables True\n",
      "TF True\n",
      "is_prep True\n",
      "IPM True\n",
      "is_conj True\n",
      "is_verb False\n",
      "is_pr_adv False\n",
      "is_pronoun True\n",
      "is_adv False\n",
      "is_particle True\n"
     ]
    }
   ],
   "source": [
    "for i in nn_compound[1]:\n",
    "    print(i, i in nn_simple[1])"
   ]
  },
  {
   "cell_type": "code",
   "execution_count": 50,
   "metadata": {},
   "outputs": [
    {
     "data": {
      "text/plain": [
       "RandomForestClassifier(n_estimators=300, random_state=0)"
      ]
     },
     "execution_count": 50,
     "metadata": {},
     "output_type": "execute_result"
    }
   ],
   "source": [
    "random_forest_compounds.fit(X_compound_train, y_compound_train)"
   ]
  },
  {
   "cell_type": "code",
   "execution_count": 51,
   "metadata": {},
   "outputs": [],
   "source": [
    "random_forest_compounds_preds = random_forest_compounds.predict(X_compound_test)"
   ]
  },
  {
   "cell_type": "code",
   "execution_count": 52,
   "metadata": {},
   "outputs": [
    {
     "name": "stdout",
     "output_type": "stream",
     "text": [
      "features are: ['IPM', 'Syllables', 'TF', 'is_vvod']\n",
      "balanced accuracy is 0.8364130434782608\n",
      "accuracy is 0.8372093023255814\n",
      "\n"
     ]
    }
   ],
   "source": [
    "choose_best_feats(random_forest_compounds, X_compound_train, X_compound_test, \n",
    "                  y_compound_train, y_compound_test)"
   ]
  },
  {
   "cell_type": "code",
   "execution_count": 1007,
   "metadata": {},
   "outputs": [],
   "source": [
    "list_of_lists = []\n",
    "for i in c:\n",
    "    log_sn = LogisticRegression(penalty='l1', solver='liblinear', random_state=0, C=i)\n",
    "    log_sn.fit(X_compound_log_train, y_compound_log_train)\n",
    "    preds = log_sn.predict(X_compound_log_test)\n",
    "    list_feats = sorted(map_feature_importance(log_sn, X_compound_log_train), key=lambda x: x[1], reverse=True)\n",
    "    feats = [i[0] for i in list_feats if i[1] != 0]\n",
    "    if feats:\n",
    "        list_of_lists.append(feats)\n"
   ]
  },
  {
   "cell_type": "code",
   "execution_count": 1009,
   "metadata": {},
   "outputs": [
    {
     "name": "stdout",
     "output_type": "stream",
     "text": [
      "C is 0.0001\n",
      "Features are ['is_vvod', 'Syllables', 'TF', 'Type', 'IPM', 'is_adv']\n",
      "ba is 0.45217391304347826\n",
      "0.47674418604651164\n",
      "\n",
      "C is 0.001\n",
      "Features are ['is_vvod', 'Syllables', 'TF', 'Type', 'IPM', 'is_adv']\n",
      "ba is 0.7103260869565218\n",
      "0.7093023255813954\n",
      "\n",
      "C is 1\n",
      "Features are ['is_vvod', 'Syllables', 'TF', 'Type', 'IPM', 'is_adv']\n",
      "ba is 0.7152173913043478\n",
      "0.7093023255813954\n",
      "\n",
      "C is 1\n",
      "Features are ['is_vvod', 'isPr', 'Type', 'is_adj', 'Syllables', 'TF', 'is_prep', 'IPM', 'is_conj', 'is_verb', 'is_pr_adv', 'is_pronoun', 'is_adv', 'is_particle']\n",
      "ba is 0.7369565217391305\n",
      "0.7325581395348837\n",
      "\n",
      "C is 10\n",
      "Features are ['is_vvod', 'isPr', 'Type', 'is_adj', 'Syllables', 'TF', 'is_prep', 'IPM', 'is_conj', 'is_verb', 'is_pr_adv', 'is_pronoun', 'is_adv', 'is_particle']\n",
      "ba is 0.7869565217391304\n",
      "0.7790697674418605\n",
      "\n"
     ]
    }
   ],
   "source": [
    "max_ba = 0\n",
    "for feats in list_of_lists:\n",
    "    for i in c:\n",
    "        log = LogisticRegression(random_state=0, C=i, max_iter=300)\n",
    "        log.fit(X_compound_log_train[feats], y_compound_log_train)\n",
    "        preds = log.predict(X_compound_log_test[feats])\n",
    "        ba = balanced_accuracy_score(y_compound_log_test, preds)\n",
    "        if ba > max_ba:\n",
    "            max_ba = ba\n",
    "            print(f'C is {i}')\n",
    "            print(f'Features are {feats}')\n",
    "            print(f'ba is {ba}')\n",
    "            print(accuracy_score(y_compound_log_test, preds))\n",
    "            print()"
   ]
  },
  {
   "cell_type": "code",
   "execution_count": 383,
   "metadata": {},
   "outputs": [],
   "source": [
    "gb_compound = GradientBoostingClassifier(random_state=0, n_estimators=300)"
   ]
  },
  {
   "cell_type": "code",
   "execution_count": 384,
   "metadata": {},
   "outputs": [
    {
     "data": {
      "text/plain": [
       "GradientBoostingClassifier(n_estimators=300, random_state=0)"
      ]
     },
     "execution_count": 384,
     "metadata": {},
     "output_type": "execute_result"
    }
   ],
   "source": [
    "gb_compound.fit(X_compound_train, y_compound_train)"
   ]
  },
  {
   "cell_type": "code",
   "execution_count": 385,
   "metadata": {},
   "outputs": [
    {
     "name": "stdout",
     "output_type": "stream",
     "text": [
      "features are: ['IPM', 'Syllables', 'TF']\n",
      "balanced accuracy is 0.8130434782608695\n",
      "accuracy is 0.813953488372093\n",
      "\n"
     ]
    }
   ],
   "source": [
    "choose_best_feats(gb_compound, X_compound_train, X_compound_test, y_compound_train, y_compound_test)"
   ]
  },
  {
   "cell_type": "code",
   "execution_count": 1010,
   "metadata": {},
   "outputs": [],
   "source": [
    "nn_compound = [['IPM', 'Syllables', 'TF', 'is_vvod'],\n",
    "['is_vvod', 'isPr', 'Type', 'is_adj', 'Syllables', 'TF', \n",
    " 'is_prep', 'IPM', 'is_conj', 'is_verb', 'is_pr_adv', 'is_pronoun', \n",
    " 'is_adv', 'is_particle'],\n",
    "['IPM', 'Syllables', 'TF']]"
   ]
  },
  {
   "cell_type": "code",
   "execution_count": 1013,
   "metadata": {},
   "outputs": [],
   "source": [
    "parameters_grid = {\n",
    "    'fit_intercept': [True, False],\n",
    "    'max_iter': np.linspace(100, 900, num=17, dtype=int),\n",
    "    'penalty': ['l1', 'l2'],   \n",
    "    'solver': ['liblinear', 'saga']\n",
    "}"
   ]
  },
  {
   "cell_type": "code",
   "execution_count": 1014,
   "metadata": {},
   "outputs": [],
   "source": [
    "log_compound = LogisticRegression(random_state=0)"
   ]
  },
  {
   "cell_type": "code",
   "execution_count": 1015,
   "metadata": {},
   "outputs": [],
   "source": [
    "grid_compound = RandomizedSearchCV(log_compound, parameters_grid, scoring = 'balanced_accuracy', cv = kf, random_state=0)"
   ]
  },
  {
   "cell_type": "code",
   "execution_count": 1038,
   "metadata": {},
   "outputs": [],
   "source": [
    "X_compound_4_train = X_compound_log_train[nn_compound[0]]\n",
    "X_compound_4_test = X_compound_log_test[nn_compound[0]]"
   ]
  },
  {
   "cell_type": "code",
   "execution_count": 1055,
   "metadata": {},
   "outputs": [
    {
     "data": {
      "text/plain": [
       "RandomizedSearchCV(cv=StratifiedKFold(n_splits=10, random_state=0, shuffle=True),\n",
       "                   estimator=LogisticRegression(random_state=0),\n",
       "                   param_distributions={'fit_intercept': [True, False],\n",
       "                                        'max_iter': array([100, 150, 200, 250, 300, 350, 400, 450, 500, 550, 600, 650, 700,\n",
       "       750, 800, 850, 900]),\n",
       "                                        'penalty': ['l1', 'l2'],\n",
       "                                        'solver': ['liblinear', 'saga']},\n",
       "                   random_state=0, scoring='balanced_accuracy')"
      ]
     },
     "execution_count": 1055,
     "metadata": {},
     "output_type": "execute_result"
    }
   ],
   "source": [
    "grid_compound.fit(X_compound_4_train, y_compound_log_train)"
   ]
  },
  {
   "cell_type": "code",
   "execution_count": 1056,
   "metadata": {},
   "outputs": [
    {
     "data": {
      "text/plain": [
       "{'solver': 'saga', 'penalty': 'l2', 'max_iter': 600, 'fit_intercept': True}"
      ]
     },
     "execution_count": 1056,
     "metadata": {},
     "output_type": "execute_result"
    }
   ],
   "source": [
    "grid_compound.best_params_"
   ]
  },
  {
   "cell_type": "code",
   "execution_count": 1057,
   "metadata": {},
   "outputs": [],
   "source": [
    "log_compound4 = LogisticRegression(random_state=0, solver='saga', penalty='l2', max_iter=600, fit_intercept=True)"
   ]
  },
  {
   "cell_type": "code",
   "execution_count": 1058,
   "metadata": {},
   "outputs": [
    {
     "data": {
      "text/plain": [
       "LogisticRegression(max_iter=600, random_state=0, solver='saga')"
      ]
     },
     "execution_count": 1058,
     "metadata": {},
     "output_type": "execute_result"
    }
   ],
   "source": [
    "log_compound4.fit(X_compound_4_train, y_compound_log_train)"
   ]
  },
  {
   "cell_type": "code",
   "execution_count": 1059,
   "metadata": {},
   "outputs": [],
   "source": [
    "preds_compound_4 = log_compound4.predict(X_compound_4_test)"
   ]
  },
  {
   "cell_type": "code",
   "execution_count": 1082,
   "metadata": {},
   "outputs": [
    {
     "name": "stdout",
     "output_type": "stream",
     "text": [
      "('IPM', 0.022740270009378737)\n",
      "('Syllables', 0.4391103111404314)\n",
      "('TF', 0.19110694451125598)\n",
      "('is_vvod', 1.3236324574467557)\n"
     ]
    }
   ],
   "source": [
    "map_coefs(X_compound_4_train, log_compound4)"
   ]
  },
  {
   "cell_type": "code",
   "execution_count": 1060,
   "metadata": {},
   "outputs": [
    {
     "data": {
      "text/plain": [
       "0.6777173913043478"
      ]
     },
     "execution_count": 1060,
     "metadata": {},
     "output_type": "execute_result"
    }
   ],
   "source": [
    "balanced_accuracy_score(y_compound_log_test, preds_compound_4)"
   ]
  },
  {
   "cell_type": "code",
   "execution_count": 1061,
   "metadata": {},
   "outputs": [
    {
     "data": {
      "text/plain": [
       "0.6744186046511628"
      ]
     },
     "execution_count": 1061,
     "metadata": {},
     "output_type": "execute_result"
    }
   ],
   "source": [
    "accuracy_score(y_compound_log_test, preds_compound_4)"
   ]
  },
  {
   "cell_type": "code",
   "execution_count": 1064,
   "metadata": {},
   "outputs": [],
   "source": [
    "X_compound_14_train = X_compound_log_train[nn_compound[1]]\n",
    "X_compound_14_test = X_compound_log_test[nn_compound[1]]"
   ]
  },
  {
   "cell_type": "code",
   "execution_count": 1065,
   "metadata": {},
   "outputs": [
    {
     "data": {
      "text/plain": [
       "RandomizedSearchCV(cv=StratifiedKFold(n_splits=10, random_state=0, shuffle=True),\n",
       "                   estimator=LogisticRegression(random_state=0),\n",
       "                   param_distributions={'fit_intercept': [True, False],\n",
       "                                        'max_iter': array([100, 150, 200, 250, 300, 350, 400, 450, 500, 550, 600, 650, 700,\n",
       "       750, 800, 850, 900]),\n",
       "                                        'penalty': ['l1', 'l2'],\n",
       "                                        'solver': ['liblinear', 'saga']},\n",
       "                   random_state=0, scoring='balanced_accuracy')"
      ]
     },
     "execution_count": 1065,
     "metadata": {},
     "output_type": "execute_result"
    }
   ],
   "source": [
    "grid_compound.fit(X_compound_14_train, y_compound_log_train)"
   ]
  },
  {
   "cell_type": "code",
   "execution_count": 1066,
   "metadata": {},
   "outputs": [
    {
     "data": {
      "text/plain": [
       "{'solver': 'saga', 'penalty': 'l1', 'max_iter': 650, 'fit_intercept': True}"
      ]
     },
     "execution_count": 1066,
     "metadata": {},
     "output_type": "execute_result"
    }
   ],
   "source": [
    "grid_compound.best_params_"
   ]
  },
  {
   "cell_type": "code",
   "execution_count": 1067,
   "metadata": {},
   "outputs": [],
   "source": [
    "log_compound14 = LogisticRegression(random_state=0, solver='saga', penalty='l1', max_iter=650, fit_intercept=True)"
   ]
  },
  {
   "cell_type": "code",
   "execution_count": 1068,
   "metadata": {},
   "outputs": [
    {
     "data": {
      "text/plain": [
       "LogisticRegression(max_iter=650, penalty='l1', random_state=0, solver='saga')"
      ]
     },
     "execution_count": 1068,
     "metadata": {},
     "output_type": "execute_result"
    }
   ],
   "source": [
    "log_compound14.fit(X_compound_14_train, y_compound_log_train)"
   ]
  },
  {
   "cell_type": "code",
   "execution_count": 1070,
   "metadata": {},
   "outputs": [],
   "source": [
    "preds_compound_14 = log_compound14.predict(X_compound_14_test)"
   ]
  },
  {
   "cell_type": "code",
   "execution_count": 1083,
   "metadata": {},
   "outputs": [
    {
     "name": "stdout",
     "output_type": "stream",
     "text": [
      "('is_vvod', 0.9308100252281979)\n",
      "('isPr', 0.49843764452878175)\n",
      "('Type', 0.7503354254223632)\n",
      "('is_adj', 0.4015642253538559)\n",
      "('Syllables', 0.41775720400960425)\n",
      "('TF', 0.2793932094226036)\n",
      "('is_prep', 0.10237928061116898)\n",
      "('IPM', 0.044219717238296714)\n",
      "('is_conj', -0.4380931919672399)\n",
      "('is_verb', -0.2857364513390623)\n",
      "('is_pr_adv', -0.2514322354202692)\n",
      "('is_pronoun', -0.5368004405388007)\n",
      "('is_adv', -0.643736083610058)\n",
      "('is_particle', -1.6943554007665185)\n"
     ]
    }
   ],
   "source": [
    "map_coefs(X_compound_14_train, log_compound14)"
   ]
  },
  {
   "cell_type": "code",
   "execution_count": 1071,
   "metadata": {},
   "outputs": [
    {
     "data": {
      "text/plain": [
       "0.7260869565217392"
      ]
     },
     "execution_count": 1071,
     "metadata": {},
     "output_type": "execute_result"
    }
   ],
   "source": [
    "balanced_accuracy_score(y_compound_log_test, preds_compound_14)"
   ]
  },
  {
   "cell_type": "code",
   "execution_count": 1072,
   "metadata": {},
   "outputs": [
    {
     "data": {
      "text/plain": [
       "0.7209302325581395"
      ]
     },
     "execution_count": 1072,
     "metadata": {},
     "output_type": "execute_result"
    }
   ],
   "source": [
    "accuracy_score(y_compound_log_test, preds_compound_14)"
   ]
  },
  {
   "cell_type": "code",
   "execution_count": 1073,
   "metadata": {},
   "outputs": [],
   "source": [
    "X_compound_3_train = X_compound_log_train[nn_compound[-1]]\n",
    "X_compound_3_test = X_compound_log_test[nn_compound[-1]]"
   ]
  },
  {
   "cell_type": "code",
   "execution_count": 1074,
   "metadata": {},
   "outputs": [
    {
     "data": {
      "text/plain": [
       "RandomizedSearchCV(cv=StratifiedKFold(n_splits=10, random_state=0, shuffle=True),\n",
       "                   estimator=LogisticRegression(random_state=0),\n",
       "                   param_distributions={'fit_intercept': [True, False],\n",
       "                                        'max_iter': array([100, 150, 200, 250, 300, 350, 400, 450, 500, 550, 600, 650, 700,\n",
       "       750, 800, 850, 900]),\n",
       "                                        'penalty': ['l1', 'l2'],\n",
       "                                        'solver': ['liblinear', 'saga']},\n",
       "                   random_state=0, scoring='balanced_accuracy')"
      ]
     },
     "execution_count": 1074,
     "metadata": {},
     "output_type": "execute_result"
    }
   ],
   "source": [
    "grid_compound.fit(X_compound_3_train, y_compound_log_train)"
   ]
  },
  {
   "cell_type": "code",
   "execution_count": 1075,
   "metadata": {},
   "outputs": [
    {
     "data": {
      "text/plain": [
       "{'solver': 'saga', 'penalty': 'l1', 'max_iter': 650, 'fit_intercept': True}"
      ]
     },
     "execution_count": 1075,
     "metadata": {},
     "output_type": "execute_result"
    }
   ],
   "source": [
    "grid_compound.best_params_"
   ]
  },
  {
   "cell_type": "code",
   "execution_count": 1076,
   "metadata": {},
   "outputs": [],
   "source": [
    "log_compound3 = LogisticRegression(random_state=0, solver='saga', penalty='l1', max_iter=650, fit_intercept=True)"
   ]
  },
  {
   "cell_type": "code",
   "execution_count": 1077,
   "metadata": {},
   "outputs": [
    {
     "data": {
      "text/plain": [
       "LogisticRegression(max_iter=650, penalty='l1', random_state=0, solver='saga')"
      ]
     },
     "execution_count": 1077,
     "metadata": {},
     "output_type": "execute_result"
    }
   ],
   "source": [
    "log_compound3.fit(X_compound_3_train, y_compound_log_train)"
   ]
  },
  {
   "cell_type": "code",
   "execution_count": 1079,
   "metadata": {},
   "outputs": [],
   "source": [
    "preds_compound_3 = log_compound3.predict(X_compound_3_test)"
   ]
  },
  {
   "cell_type": "code",
   "execution_count": 1084,
   "metadata": {},
   "outputs": [
    {
     "name": "stdout",
     "output_type": "stream",
     "text": [
      "('IPM', 0.048932854581450955)\n",
      "('Syllables', 0.4537047709860716)\n",
      "('TF', 0.27394140753881496)\n"
     ]
    }
   ],
   "source": [
    "map_coefs(X_compound_3_train, log_compound3)"
   ]
  },
  {
   "cell_type": "code",
   "execution_count": 1080,
   "metadata": {},
   "outputs": [
    {
     "data": {
      "text/plain": [
       "0.6309782608695653"
      ]
     },
     "execution_count": 1080,
     "metadata": {},
     "output_type": "execute_result"
    }
   ],
   "source": [
    "balanced_accuracy_score(y_compound_log_test, preds_compound_3)"
   ]
  },
  {
   "cell_type": "code",
   "execution_count": 1081,
   "metadata": {},
   "outputs": [
    {
     "data": {
      "text/plain": [
       "0.627906976744186"
      ]
     },
     "execution_count": 1081,
     "metadata": {},
     "output_type": "execute_result"
    }
   ],
   "source": [
    "accuracy_score(y_compound_log_test, preds_compound_3)"
   ]
  },
  {
   "cell_type": "code",
   "execution_count": 1281,
   "metadata": {},
   "outputs": [],
   "source": [
    "from numpy.random import seed\n",
    "seed(1)\n",
    "tf.random.set_seed(1)"
   ]
  },
  {
   "cell_type": "code",
   "execution_count": 1299,
   "metadata": {},
   "outputs": [],
   "source": [
    "keras_compound_4_train = np.array(X_compound_log_train[nn_compound[0]]) \n",
    "keras_compound_4_test = np.array(X_compound_log_test[nn_compound[0]])"
   ]
  },
  {
   "cell_type": "code",
   "execution_count": 1306,
   "metadata": {},
   "outputs": [],
   "source": [
    "nn_compound_4 = models.Sequential()"
   ]
  },
  {
   "cell_type": "code",
   "execution_count": 1307,
   "metadata": {},
   "outputs": [],
   "source": [
    "nn_compound_4.add(layers.Dense(256, activation='relu'))\n",
    "nn_compound_4.add(layers.Dense(256, activation='relu'))\n",
    "nn_compound_4.add(layers.Dense(256, activation='relu'))\n",
    "nn_compound_4.add(layers.Dense(128, activation='relu'))\n",
    "nn_compound_4.add(layers.Dense(128, activation='relu'))\n",
    "nn_compound_4.add(layers.Dense(128, activation='relu'))\n",
    "nn_compound_4.add(layers.Dense(64, activation='relu'))\n",
    "nn_compound_4.add(layers.Dense(1, activation='sigmoid'))"
   ]
  },
  {
   "cell_type": "code",
   "execution_count": 1308,
   "metadata": {},
   "outputs": [],
   "source": [
    "nn_compound_4.compile(optimizer='rmsprop', loss = 'binary_crossentropy', metrics=['binary_accuracy'])"
   ]
  },
  {
   "cell_type": "code",
   "execution_count": 1309,
   "metadata": {},
   "outputs": [
    {
     "name": "stdout",
     "output_type": "stream",
     "text": [
      "Epoch 1/50\n",
      "1/1 [==============================] - 1s 1s/step - loss: 0.6913 - binary_accuracy: 0.4971\n",
      "Epoch 2/50\n",
      "1/1 [==============================] - 0s 7ms/step - loss: 0.6832 - binary_accuracy: 0.6374\n",
      "Epoch 3/50\n",
      "1/1 [==============================] - 0s 6ms/step - loss: 0.6713 - binary_accuracy: 0.5409\n",
      "Epoch 4/50\n",
      "1/1 [==============================] - 0s 5ms/step - loss: 0.7863 - binary_accuracy: 0.5029\n",
      "Epoch 5/50\n",
      "1/1 [==============================] - 0s 5ms/step - loss: 0.6743 - binary_accuracy: 0.5029\n",
      "Epoch 6/50\n",
      "1/1 [==============================] - 0s 5ms/step - loss: 0.6729 - binary_accuracy: 0.6871\n",
      "Epoch 7/50\n",
      "1/1 [==============================] - 0s 5ms/step - loss: 0.6884 - binary_accuracy: 0.5088\n",
      "Epoch 8/50\n",
      "1/1 [==============================] - 0s 5ms/step - loss: 0.6859 - binary_accuracy: 0.5322\n",
      "Epoch 9/50\n",
      "1/1 [==============================] - 0s 5ms/step - loss: 0.6645 - binary_accuracy: 0.5819\n",
      "Epoch 10/50\n",
      "1/1 [==============================] - 0s 5ms/step - loss: 0.6477 - binary_accuracy: 0.6374\n",
      "Epoch 11/50\n",
      "1/1 [==============================] - 0s 6ms/step - loss: 0.6338 - binary_accuracy: 0.6959\n",
      "Epoch 12/50\n",
      "1/1 [==============================] - 0s 6ms/step - loss: 0.6561 - binary_accuracy: 0.5877\n",
      "Epoch 13/50\n",
      "1/1 [==============================] - 0s 6ms/step - loss: 0.6806 - binary_accuracy: 0.5497\n",
      "Epoch 14/50\n",
      "1/1 [==============================] - 0s 9ms/step - loss: 0.6353 - binary_accuracy: 0.6754\n",
      "Epoch 15/50\n",
      "1/1 [==============================] - 0s 7ms/step - loss: 0.6184 - binary_accuracy: 0.6784\n",
      "Epoch 16/50\n",
      "1/1 [==============================] - 0s 7ms/step - loss: 0.6074 - binary_accuracy: 0.6433\n",
      "Epoch 17/50\n",
      "1/1 [==============================] - 0s 6ms/step - loss: 0.6013 - binary_accuracy: 0.6784\n",
      "Epoch 18/50\n",
      "1/1 [==============================] - 0s 6ms/step - loss: 0.6358 - binary_accuracy: 0.6053\n",
      "Epoch 19/50\n",
      "1/1 [==============================] - 0s 6ms/step - loss: 0.6848 - binary_accuracy: 0.5702\n",
      "Epoch 20/50\n",
      "1/1 [==============================] - 0s 6ms/step - loss: 0.6498 - binary_accuracy: 0.6520\n",
      "Epoch 21/50\n",
      "1/1 [==============================] - 0s 5ms/step - loss: 0.6154 - binary_accuracy: 0.6404\n",
      "Epoch 22/50\n",
      "1/1 [==============================] - 0s 5ms/step - loss: 0.5947 - binary_accuracy: 0.6433\n",
      "Epoch 23/50\n",
      "1/1 [==============================] - 0s 5ms/step - loss: 0.5799 - binary_accuracy: 0.7018\n",
      "Epoch 24/50\n",
      "1/1 [==============================] - 0s 5ms/step - loss: 0.5684 - binary_accuracy: 0.7018\n",
      "Epoch 25/50\n",
      "1/1 [==============================] - 0s 6ms/step - loss: 0.5697 - binary_accuracy: 0.7105\n",
      "Epoch 26/50\n",
      "1/1 [==============================] - 0s 6ms/step - loss: 0.7117 - binary_accuracy: 0.5643\n",
      "Epoch 27/50\n",
      "1/1 [==============================] - 0s 10ms/step - loss: 0.6549 - binary_accuracy: 0.6111\n",
      "Epoch 28/50\n",
      "1/1 [==============================] - 0s 8ms/step - loss: 0.6086 - binary_accuracy: 0.6550\n",
      "Epoch 29/50\n",
      "1/1 [==============================] - 0s 7ms/step - loss: 0.5768 - binary_accuracy: 0.7047\n",
      "Epoch 30/50\n",
      "1/1 [==============================] - 0s 7ms/step - loss: 0.5616 - binary_accuracy: 0.7105\n",
      "Epoch 31/50\n",
      "1/1 [==============================] - 0s 7ms/step - loss: 0.5511 - binary_accuracy: 0.7105\n",
      "Epoch 32/50\n",
      "1/1 [==============================] - 0s 8ms/step - loss: 0.5436 - binary_accuracy: 0.7164\n",
      "Epoch 33/50\n",
      "1/1 [==============================] - 0s 8ms/step - loss: 0.5405 - binary_accuracy: 0.7135\n",
      "Epoch 34/50\n",
      "1/1 [==============================] - 0s 7ms/step - loss: 0.5528 - binary_accuracy: 0.7135\n",
      "Epoch 35/50\n",
      "1/1 [==============================] - 0s 7ms/step - loss: 0.6250 - binary_accuracy: 0.6550\n",
      "Epoch 36/50\n",
      "1/1 [==============================] - 0s 8ms/step - loss: 0.7442 - binary_accuracy: 0.5439\n",
      "Epoch 37/50\n",
      "1/1 [==============================] - 0s 10ms/step - loss: 0.5815 - binary_accuracy: 0.7251\n",
      "Epoch 38/50\n",
      "1/1 [==============================] - 0s 9ms/step - loss: 0.5555 - binary_accuracy: 0.7164\n",
      "Epoch 39/50\n",
      "1/1 [==============================] - 0s 7ms/step - loss: 0.5424 - binary_accuracy: 0.7222\n",
      "Epoch 40/50\n",
      "1/1 [==============================] - 0s 7ms/step - loss: 0.5324 - binary_accuracy: 0.7076\n",
      "Epoch 41/50\n",
      "1/1 [==============================] - 0s 7ms/step - loss: 0.5269 - binary_accuracy: 0.7135\n",
      "Epoch 42/50\n",
      "1/1 [==============================] - 0s 8ms/step - loss: 0.5328 - binary_accuracy: 0.7222\n",
      "Epoch 43/50\n",
      "1/1 [==============================] - 0s 6ms/step - loss: 0.5513 - binary_accuracy: 0.6813\n",
      "Epoch 44/50\n",
      "1/1 [==============================] - 0s 6ms/step - loss: 0.5855 - binary_accuracy: 0.7135\n",
      "Epoch 45/50\n",
      "1/1 [==============================] - 0s 8ms/step - loss: 0.5769 - binary_accuracy: 0.6725\n",
      "Epoch 46/50\n",
      "1/1 [==============================] - 0s 8ms/step - loss: 0.5660 - binary_accuracy: 0.7164\n",
      "Epoch 47/50\n",
      "1/1 [==============================] - 0s 9ms/step - loss: 0.5237 - binary_accuracy: 0.7222\n",
      "Epoch 48/50\n",
      "1/1 [==============================] - 0s 10ms/step - loss: 0.5132 - binary_accuracy: 0.7251\n",
      "Epoch 49/50\n",
      "1/1 [==============================] - 0s 9ms/step - loss: 0.5068 - binary_accuracy: 0.7281\n",
      "Epoch 50/50\n",
      "1/1 [==============================] - 0s 7ms/step - loss: 0.5068 - binary_accuracy: 0.7690\n"
     ]
    },
    {
     "data": {
      "text/plain": [
       "<tensorflow.python.keras.callbacks.History at 0x1605fc1c0>"
      ]
     },
     "execution_count": 1309,
     "metadata": {},
     "output_type": "execute_result"
    }
   ],
   "source": [
    "from numpy.random import seed\n",
    "seed(1)\n",
    "tf.random.set_seed(1)\n",
    "nn_compound_4.fit(keras_compound_4_train, y_compound_log_train, epochs=50, batch_size=512)"
   ]
  },
  {
   "cell_type": "code",
   "execution_count": 1310,
   "metadata": {},
   "outputs": [
    {
     "name": "stdout",
     "output_type": "stream",
     "text": [
      "WARNING:tensorflow:5 out of the last 13 calls to <function Model.make_test_function.<locals>.test_function at 0x160384f70> triggered tf.function retracing. Tracing is expensive and the excessive number of tracings could be due to (1) creating @tf.function repeatedly in a loop, (2) passing tensors with different shapes, (3) passing Python objects instead of tensors. For (1), please define your @tf.function outside of the loop. For (2), @tf.function has experimental_relax_shapes=True option that relaxes argument shapes that can avoid unnecessary retracing. For (3), please refer to https://www.tensorflow.org/guide/function#controlling_retracing and https://www.tensorflow.org/api_docs/python/tf/function for  more details.\n",
      "3/3 [==============================] - 0s 1ms/step - loss: 0.5086 - binary_accuracy: 0.7442\n"
     ]
    }
   ],
   "source": [
    "results_compound4 = nn_compound_4.evaluate(keras_compound_4_test, y_compound_log_test)"
   ]
  },
  {
   "cell_type": "code",
   "execution_count": 1311,
   "metadata": {},
   "outputs": [],
   "source": [
    "keras_compound_14_train = np.array(X_compound_log_train[nn_compound[1]]) \n",
    "keras_compound_14_test = np.array(X_compound_log_test[nn_compound[1]])"
   ]
  },
  {
   "cell_type": "code",
   "execution_count": 1337,
   "metadata": {},
   "outputs": [],
   "source": [
    "nn_compound_14 = models.Sequential()"
   ]
  },
  {
   "cell_type": "code",
   "execution_count": 1338,
   "metadata": {},
   "outputs": [],
   "source": [
    "nn_compound_14.add(layers.Dense(128, activation='relu'))\n",
    "nn_compound_14.add(layers.Dense(128, activation='relu'))\n",
    "nn_compound_14.add(layers.Dense(128, activation='relu'))\n",
    "nn_compound_14.add(layers.Dense(128, activation='relu'))\n",
    "nn_compound_14.add(layers.Dense(128, activation='relu'))\n",
    "nn_compound_14.add(layers.Dense(128, activation='relu'))\n",
    "nn_compound_14.add(layers.Dense(64, activation='relu'))\n",
    "nn_compound_14.add(layers.Dense(1, activation='sigmoid'))"
   ]
  },
  {
   "cell_type": "code",
   "execution_count": 1339,
   "metadata": {},
   "outputs": [],
   "source": [
    "nn_compound_14.compile(optimizer='rmsprop', loss = 'binary_crossentropy', metrics=['binary_accuracy'])"
   ]
  },
  {
   "cell_type": "code",
   "execution_count": 1340,
   "metadata": {},
   "outputs": [
    {
     "name": "stdout",
     "output_type": "stream",
     "text": [
      "Epoch 1/50\n",
      "1/1 [==============================] - 1s 829ms/step - loss: 0.6941 - binary_accuracy: 0.4971\n",
      "Epoch 2/50\n",
      "1/1 [==============================] - 0s 4ms/step - loss: 0.6875 - binary_accuracy: 0.5439\n",
      "Epoch 3/50\n",
      "1/1 [==============================] - 0s 4ms/step - loss: 0.6887 - binary_accuracy: 0.4971\n",
      "Epoch 4/50\n",
      "1/1 [==============================] - 0s 4ms/step - loss: 0.6922 - binary_accuracy: 0.5029\n",
      "Epoch 5/50\n",
      "1/1 [==============================] - 0s 4ms/step - loss: 0.6861 - binary_accuracy: 0.5146\n",
      "Epoch 6/50\n",
      "1/1 [==============================] - 0s 4ms/step - loss: 0.6687 - binary_accuracy: 0.5877\n",
      "Epoch 7/50\n",
      "1/1 [==============================] - 0s 4ms/step - loss: 0.6490 - binary_accuracy: 0.6579\n",
      "Epoch 8/50\n",
      "1/1 [==============================] - 0s 5ms/step - loss: 0.6318 - binary_accuracy: 0.7164\n",
      "Epoch 9/50\n",
      "1/1 [==============================] - 0s 6ms/step - loss: 0.6466 - binary_accuracy: 0.6199\n",
      "Epoch 10/50\n",
      "1/1 [==============================] - 0s 6ms/step - loss: 0.7209 - binary_accuracy: 0.5585\n",
      "Epoch 11/50\n",
      "1/1 [==============================] - 0s 5ms/step - loss: 0.7260 - binary_accuracy: 0.5205\n",
      "Epoch 12/50\n",
      "1/1 [==============================] - 0s 5ms/step - loss: 0.6294 - binary_accuracy: 0.6725\n",
      "Epoch 13/50\n",
      "1/1 [==============================] - 0s 5ms/step - loss: 0.6059 - binary_accuracy: 0.7047\n",
      "Epoch 14/50\n",
      "1/1 [==============================] - 0s 4ms/step - loss: 0.5880 - binary_accuracy: 0.7076\n",
      "Epoch 15/50\n",
      "1/1 [==============================] - 0s 4ms/step - loss: 0.5712 - binary_accuracy: 0.7193\n",
      "Epoch 16/50\n",
      "1/1 [==============================] - 0s 5ms/step - loss: 0.5616 - binary_accuracy: 0.7368\n",
      "Epoch 17/50\n",
      "1/1 [==============================] - 0s 5ms/step - loss: 0.6199 - binary_accuracy: 0.6433\n",
      "Epoch 18/50\n",
      "1/1 [==============================] - 0s 4ms/step - loss: 0.6639 - binary_accuracy: 0.5585\n",
      "Epoch 19/50\n",
      "1/1 [==============================] - 0s 5ms/step - loss: 0.5640 - binary_accuracy: 0.7164\n",
      "Epoch 20/50\n",
      "1/1 [==============================] - 0s 5ms/step - loss: 0.5404 - binary_accuracy: 0.7544\n",
      "Epoch 21/50\n",
      "1/1 [==============================] - 0s 5ms/step - loss: 0.5248 - binary_accuracy: 0.7427\n",
      "Epoch 22/50\n",
      "1/1 [==============================] - 0s 5ms/step - loss: 0.5240 - binary_accuracy: 0.7456\n",
      "Epoch 23/50\n",
      "1/1 [==============================] - 0s 6ms/step - loss: 0.6118 - binary_accuracy: 0.7105\n",
      "Epoch 24/50\n",
      "1/1 [==============================] - 0s 5ms/step - loss: 0.6692 - binary_accuracy: 0.5556\n",
      "Epoch 25/50\n",
      "1/1 [==============================] - 0s 5ms/step - loss: 0.5368 - binary_accuracy: 0.7661\n",
      "Epoch 26/50\n",
      "1/1 [==============================] - 0s 4ms/step - loss: 0.5106 - binary_accuracy: 0.7544\n",
      "Epoch 27/50\n",
      "1/1 [==============================] - 0s 4ms/step - loss: 0.4944 - binary_accuracy: 0.7690\n",
      "Epoch 28/50\n",
      "1/1 [==============================] - 0s 4ms/step - loss: 0.4824 - binary_accuracy: 0.7632\n",
      "Epoch 29/50\n",
      "1/1 [==============================] - 0s 5ms/step - loss: 0.4783 - binary_accuracy: 0.7719\n",
      "Epoch 30/50\n",
      "1/1 [==============================] - 0s 5ms/step - loss: 0.4966 - binary_accuracy: 0.7310\n",
      "Epoch 31/50\n",
      "1/1 [==============================] - 0s 4ms/step - loss: 0.5902 - binary_accuracy: 0.7310\n",
      "Epoch 32/50\n",
      "1/1 [==============================] - 0s 5ms/step - loss: 0.5405 - binary_accuracy: 0.6784\n",
      "Epoch 33/50\n",
      "1/1 [==============================] - 0s 4ms/step - loss: 0.5230 - binary_accuracy: 0.7485\n",
      "Epoch 34/50\n",
      "1/1 [==============================] - 0s 4ms/step - loss: 0.5469 - binary_accuracy: 0.6930\n",
      "Epoch 35/50\n",
      "1/1 [==============================] - 0s 4ms/step - loss: 0.5019 - binary_accuracy: 0.7456\n",
      "Epoch 36/50\n",
      "1/1 [==============================] - 0s 5ms/step - loss: 0.4649 - binary_accuracy: 0.7749\n",
      "Epoch 37/50\n",
      "1/1 [==============================] - 0s 7ms/step - loss: 0.4550 - binary_accuracy: 0.7807\n",
      "Epoch 38/50\n",
      "1/1 [==============================] - 0s 5ms/step - loss: 0.4494 - binary_accuracy: 0.7807\n",
      "Epoch 39/50\n",
      "1/1 [==============================] - 0s 6ms/step - loss: 0.4560 - binary_accuracy: 0.7895\n",
      "Epoch 40/50\n",
      "1/1 [==============================] - 0s 4ms/step - loss: 0.4855 - binary_accuracy: 0.7661\n",
      "Epoch 41/50\n",
      "1/1 [==============================] - 0s 4ms/step - loss: 0.5107 - binary_accuracy: 0.7690\n",
      "Epoch 42/50\n",
      "1/1 [==============================] - 0s 5ms/step - loss: 0.5221 - binary_accuracy: 0.7135\n",
      "Epoch 43/50\n",
      "1/1 [==============================] - 0s 5ms/step - loss: 0.4559 - binary_accuracy: 0.8012\n",
      "Epoch 44/50\n",
      "1/1 [==============================] - 0s 6ms/step - loss: 0.4357 - binary_accuracy: 0.7836\n",
      "Epoch 45/50\n",
      "1/1 [==============================] - 0s 5ms/step - loss: 0.4266 - binary_accuracy: 0.7836\n",
      "Epoch 46/50\n",
      "1/1 [==============================] - 0s 5ms/step - loss: 0.4197 - binary_accuracy: 0.7982\n",
      "Epoch 47/50\n",
      "1/1 [==============================] - 0s 4ms/step - loss: 0.4154 - binary_accuracy: 0.8070\n",
      "Epoch 48/50\n",
      "1/1 [==============================] - 0s 5ms/step - loss: 0.4164 - binary_accuracy: 0.8129\n",
      "Epoch 49/50\n",
      "1/1 [==============================] - 0s 4ms/step - loss: 0.4432 - binary_accuracy: 0.8070\n",
      "Epoch 50/50\n",
      "1/1 [==============================] - 0s 5ms/step - loss: 0.5586 - binary_accuracy: 0.6871\n"
     ]
    },
    {
     "data": {
      "text/plain": [
       "<tensorflow.python.keras.callbacks.History at 0x1611a61f0>"
      ]
     },
     "execution_count": 1340,
     "metadata": {},
     "output_type": "execute_result"
    }
   ],
   "source": [
    "from numpy.random import seed\n",
    "seed(1)\n",
    "tf.random.set_seed(1)\n",
    "nn_compound_14.fit(keras_compound_13_train, y_compound_log_train, epochs=50, batch_size=512)"
   ]
  },
  {
   "cell_type": "code",
   "execution_count": 1341,
   "metadata": {},
   "outputs": [
    {
     "name": "stdout",
     "output_type": "stream",
     "text": [
      "3/3 [==============================] - 0s 2ms/step - loss: 0.5162 - binary_accuracy: 0.7674\n"
     ]
    }
   ],
   "source": [
    "results_compound14 = nn_compound_14.evaluate(keras_compound_14_test, y_compound_log_test)"
   ]
  },
  {
   "cell_type": "code",
   "execution_count": 1348,
   "metadata": {},
   "outputs": [],
   "source": [
    "keras_compound_3_train = np.array(X_compound_log_train[nn_compound[-1]]) \n",
    "keras_compound_3_test = np.array(X_compound_log_test[nn_compound[-1]])"
   ]
  },
  {
   "cell_type": "code",
   "execution_count": 1349,
   "metadata": {},
   "outputs": [],
   "source": [
    "nn_compound_3 = models.Sequential()"
   ]
  },
  {
   "cell_type": "code",
   "execution_count": 1350,
   "metadata": {},
   "outputs": [],
   "source": [
    "nn_compound_3.add(layers.Dense(256, activation='relu'))\n",
    "nn_compound_3.add(layers.Dense(256, activation='relu'))\n",
    "nn_compound_3.add(layers.Dense(256, activation='relu'))\n",
    "nn_compound_3.add(layers.Dense(256, activation='relu'))\n",
    "nn_compound_3.add(layers.Dense(128, activation='relu'))\n",
    "nn_compound_3.add(layers.Dense(128, activation='relu'))\n",
    "nn_compound_3.add(layers.Dense(128, activation='relu'))\n",
    "nn_compound_3.add(layers.Dense(128, activation='relu'))\n",
    "nn_compound_3.add(layers.Dense(128, activation='relu'))\n",
    "nn_compound_3.add(layers.Dense(64, activation='relu'))\n",
    "nn_compound_3.add(layers.Dense(1, activation='sigmoid'))"
   ]
  },
  {
   "cell_type": "code",
   "execution_count": 1351,
   "metadata": {},
   "outputs": [],
   "source": [
    "nn_compound_3.compile(optimizer='rmsprop', loss = 'binary_crossentropy', metrics=['binary_accuracy'])"
   ]
  },
  {
   "cell_type": "code",
   "execution_count": 1352,
   "metadata": {},
   "outputs": [
    {
     "name": "stdout",
     "output_type": "stream",
     "text": [
      "Epoch 1/50\n",
      "1/1 [==============================] - 1s 1s/step - loss: 0.6930 - binary_accuracy: 0.5117\n",
      "Epoch 2/50\n",
      "1/1 [==============================] - 0s 9ms/step - loss: 0.6905 - binary_accuracy: 0.4971\n",
      "Epoch 3/50\n",
      "1/1 [==============================] - 0s 7ms/step - loss: 0.6923 - binary_accuracy: 0.5380\n",
      "Epoch 4/50\n",
      "1/1 [==============================] - 0s 8ms/step - loss: 0.7059 - binary_accuracy: 0.4971\n",
      "Epoch 5/50\n",
      "1/1 [==============================] - 0s 7ms/step - loss: 0.6908 - binary_accuracy: 0.5556\n",
      "Epoch 6/50\n",
      "1/1 [==============================] - 0s 7ms/step - loss: 0.6854 - binary_accuracy: 0.5965\n",
      "Epoch 7/50\n",
      "1/1 [==============================] - 0s 7ms/step - loss: 0.6788 - binary_accuracy: 0.5409\n",
      "Epoch 8/50\n",
      "1/1 [==============================] - 0s 7ms/step - loss: 0.6805 - binary_accuracy: 0.5292\n",
      "Epoch 9/50\n",
      "1/1 [==============================] - 0s 8ms/step - loss: 0.6714 - binary_accuracy: 0.5877\n",
      "Epoch 10/50\n",
      "1/1 [==============================] - 0s 7ms/step - loss: 0.6585 - binary_accuracy: 0.6550\n",
      "Epoch 11/50\n",
      "1/1 [==============================] - 0s 8ms/step - loss: 0.6744 - binary_accuracy: 0.5994\n",
      "Epoch 12/50\n",
      "1/1 [==============================] - 0s 9ms/step - loss: 0.8774 - binary_accuracy: 0.5029\n",
      "Epoch 13/50\n",
      "1/1 [==============================] - 0s 8ms/step - loss: 0.6757 - binary_accuracy: 0.5497\n",
      "Epoch 14/50\n",
      "1/1 [==============================] - 0s 8ms/step - loss: 0.6641 - binary_accuracy: 0.6228\n",
      "Epoch 15/50\n",
      "1/1 [==============================] - 0s 8ms/step - loss: 0.6522 - binary_accuracy: 0.6491\n",
      "Epoch 16/50\n",
      "1/1 [==============================] - 0s 7ms/step - loss: 0.6411 - binary_accuracy: 0.6637\n",
      "Epoch 17/50\n",
      "1/1 [==============================] - 0s 8ms/step - loss: 0.6436 - binary_accuracy: 0.6287\n",
      "Epoch 18/50\n",
      "1/1 [==============================] - 0s 7ms/step - loss: 0.6532 - binary_accuracy: 0.6228\n",
      "Epoch 19/50\n",
      "1/1 [==============================] - 0s 7ms/step - loss: 0.6339 - binary_accuracy: 0.6374\n",
      "Epoch 20/50\n",
      "1/1 [==============================] - 0s 7ms/step - loss: 0.6282 - binary_accuracy: 0.6520\n",
      "Epoch 21/50\n",
      "1/1 [==============================] - 0s 8ms/step - loss: 0.6336 - binary_accuracy: 0.6170\n",
      "Epoch 22/50\n",
      "1/1 [==============================] - 0s 11ms/step - loss: 0.6627 - binary_accuracy: 0.5673\n",
      "Epoch 23/50\n",
      "1/1 [==============================] - 0s 10ms/step - loss: 0.6360 - binary_accuracy: 0.6462\n",
      "Epoch 24/50\n",
      "1/1 [==============================] - 0s 8ms/step - loss: 0.6208 - binary_accuracy: 0.6725\n",
      "Epoch 25/50\n",
      "1/1 [==============================] - 0s 8ms/step - loss: 0.6148 - binary_accuracy: 0.6637\n",
      "Epoch 26/50\n",
      "1/1 [==============================] - 0s 9ms/step - loss: 0.6231 - binary_accuracy: 0.6696\n",
      "Epoch 27/50\n",
      "1/1 [==============================] - 0s 9ms/step - loss: 0.6310 - binary_accuracy: 0.6491\n",
      "Epoch 28/50\n",
      "1/1 [==============================] - 0s 9ms/step - loss: 0.6449 - binary_accuracy: 0.6053\n",
      "Epoch 29/50\n",
      "1/1 [==============================] - 0s 7ms/step - loss: 0.6218 - binary_accuracy: 0.6637\n",
      "Epoch 30/50\n",
      "1/1 [==============================] - 0s 7ms/step - loss: 0.6131 - binary_accuracy: 0.6754\n",
      "Epoch 31/50\n",
      "1/1 [==============================] - 0s 7ms/step - loss: 0.6193 - binary_accuracy: 0.6374\n",
      "Epoch 32/50\n",
      "1/1 [==============================] - 0s 7ms/step - loss: 0.6425 - binary_accuracy: 0.6082\n",
      "Epoch 33/50\n",
      "1/1 [==============================] - 0s 7ms/step - loss: 0.6254 - binary_accuracy: 0.6667\n",
      "Epoch 34/50\n",
      "1/1 [==============================] - 0s 7ms/step - loss: 0.6186 - binary_accuracy: 0.6754\n",
      "Epoch 35/50\n",
      "1/1 [==============================] - 0s 8ms/step - loss: 0.6113 - binary_accuracy: 0.6959\n",
      "Epoch 36/50\n",
      "1/1 [==============================] - 0s 8ms/step - loss: 0.6320 - binary_accuracy: 0.6667\n",
      "Epoch 37/50\n",
      "1/1 [==============================] - 0s 8ms/step - loss: 0.6308 - binary_accuracy: 0.6579\n",
      "Epoch 38/50\n",
      "1/1 [==============================] - 0s 8ms/step - loss: 0.6203 - binary_accuracy: 0.6696\n",
      "Epoch 39/50\n",
      "1/1 [==============================] - 0s 8ms/step - loss: 0.6118 - binary_accuracy: 0.6550\n",
      "Epoch 40/50\n",
      "1/1 [==============================] - 0s 8ms/step - loss: 0.6145 - binary_accuracy: 0.6667\n",
      "Epoch 41/50\n",
      "1/1 [==============================] - 0s 8ms/step - loss: 0.6518 - binary_accuracy: 0.5994\n",
      "Epoch 42/50\n",
      "1/1 [==============================] - 0s 8ms/step - loss: 0.6469 - binary_accuracy: 0.5936\n",
      "Epoch 43/50\n",
      "1/1 [==============================] - 0s 10ms/step - loss: 0.6189 - binary_accuracy: 0.6784\n",
      "Epoch 44/50\n",
      "1/1 [==============================] - 0s 9ms/step - loss: 0.6045 - binary_accuracy: 0.6696\n",
      "Epoch 45/50\n",
      "1/1 [==============================] - 0s 9ms/step - loss: 0.6013 - binary_accuracy: 0.6725\n",
      "Epoch 46/50\n",
      "1/1 [==============================] - 0s 10ms/step - loss: 0.6119 - binary_accuracy: 0.6725\n",
      "Epoch 47/50\n",
      "1/1 [==============================] - 0s 9ms/step - loss: 0.6177 - binary_accuracy: 0.6871\n",
      "Epoch 48/50\n",
      "1/1 [==============================] - 0s 12ms/step - loss: 0.6219 - binary_accuracy: 0.6550\n",
      "Epoch 49/50\n",
      "1/1 [==============================] - 0s 9ms/step - loss: 0.6253 - binary_accuracy: 0.7135\n",
      "Epoch 50/50\n",
      "1/1 [==============================] - 0s 10ms/step - loss: 0.6129 - binary_accuracy: 0.6725\n"
     ]
    },
    {
     "data": {
      "text/plain": [
       "<tensorflow.python.keras.callbacks.History at 0x1616ca370>"
      ]
     },
     "execution_count": 1352,
     "metadata": {},
     "output_type": "execute_result"
    }
   ],
   "source": [
    "from numpy.random import seed\n",
    "seed(1)\n",
    "tf.random.set_seed(1)\n",
    "nn_compound_3.fit(keras_compound_3_train, y_compound_log_train, epochs=50, batch_size=512)"
   ]
  },
  {
   "cell_type": "code",
   "execution_count": 1353,
   "metadata": {},
   "outputs": [
    {
     "name": "stdout",
     "output_type": "stream",
     "text": [
      "WARNING:tensorflow:5 out of the last 16 calls to <function Model.make_test_function.<locals>.test_function at 0x1616dab80> triggered tf.function retracing. Tracing is expensive and the excessive number of tracings could be due to (1) creating @tf.function repeatedly in a loop, (2) passing tensors with different shapes, (3) passing Python objects instead of tensors. For (1), please define your @tf.function outside of the loop. For (2), @tf.function has experimental_relax_shapes=True option that relaxes argument shapes that can avoid unnecessary retracing. For (3), please refer to https://www.tensorflow.org/guide/function#controlling_retracing and https://www.tensorflow.org/api_docs/python/tf/function for  more details.\n",
      "3/3 [==============================] - 0s 2ms/step - loss: 0.6005 - binary_accuracy: 0.6744\n"
     ]
    }
   ],
   "source": [
    "results_compound3 = nn_compound_3.evaluate(keras_compound_3_test, y_compound_log_test)\n"
   ]
  },
  {
   "cell_type": "markdown",
   "metadata": {},
   "source": [
    "# Simple"
   ]
  },
  {
   "cell_type": "code",
   "execution_count": 53,
   "metadata": {},
   "outputs": [],
   "source": [
    "random_forest_simples = RandomForestClassifier(n_estimators=300, random_state=0)"
   ]
  },
  {
   "cell_type": "code",
   "execution_count": 54,
   "metadata": {},
   "outputs": [
    {
     "data": {
      "text/plain": [
       "RandomForestClassifier(n_estimators=300, random_state=0)"
      ]
     },
     "execution_count": 54,
     "metadata": {},
     "output_type": "execute_result"
    }
   ],
   "source": [
    "random_forest_simples.fit(X_simples_train, y_simples_train)"
   ]
  },
  {
   "cell_type": "code",
   "execution_count": 55,
   "metadata": {},
   "outputs": [],
   "source": [
    "random_forest_simples_preds = random_forest_simples.predict(X_simples_test)"
   ]
  },
  {
   "cell_type": "code",
   "execution_count": 58,
   "metadata": {},
   "outputs": [
    {
     "name": "stdout",
     "output_type": "stream",
     "text": [
      "features are: ['IPM', 'Syllables', 'TF', 'is_adj']\n",
      "balanced accuracy is 0.7606779515941013\n",
      "accuracy is 0.7984599933043187\n",
      "\n"
     ]
    }
   ],
   "source": [
    "choose_best_feats(random_forest_simples, X_simples_train, X_simples_test, y_simples_train, y_simples_test)"
   ]
  },
  {
   "cell_type": "code",
   "execution_count": 847,
   "metadata": {},
   "outputs": [],
   "source": [
    "c = [0.0001, 0.001, 0.01, 0.1, 1, 10]"
   ]
  },
  {
   "cell_type": "code",
   "execution_count": 848,
   "metadata": {},
   "outputs": [],
   "source": [
    "list_of_lists = []\n",
    "for i in c:\n",
    "    log_sn = LogisticRegression(penalty='l1', solver='liblinear', random_state=0, C=i)\n",
    "    log_sn.fit(X_simples_log_train, y_simples_log_train)\n",
    "    preds = log_sn.predict(X_simples_log_test)\n",
    "    list_feats = sorted(map_feature_importance(log_sn, X_simples_norm_train), key=lambda x: x[1], reverse=True)\n",
    "    feats = [i[0] for i in list_feats if i[1] != 0]\n",
    "    if feats:\n",
    "        list_of_lists.append(feats)\n"
   ]
  },
  {
   "cell_type": "code",
   "execution_count": 1039,
   "metadata": {},
   "outputs": [
    {
     "name": "stdout",
     "output_type": "stream",
     "text": [
      "C is 0.0001\n",
      "Features are ['is_vvod', 'Syllables', 'TF', 'Type', 'IPM', 'is_adv']\n",
      "ba is 0.5785752643249016\n",
      "0.7084030800133914\n",
      "\n",
      "C is 0.001\n",
      "Features are ['is_vvod', 'Syllables', 'TF', 'Type', 'IPM', 'is_adv']\n",
      "ba is 0.6797597843010981\n",
      "0.7626380984265149\n",
      "\n",
      "C is 0.01\n",
      "Features are ['is_vvod', 'Syllables', 'TF', 'Type', 'IPM', 'is_adv']\n",
      "ba is 0.6800234468619315\n",
      "0.7626380984265149\n",
      "\n",
      "C is 0.1\n",
      "Features are ['is_vvod', 'Syllables', 'TF', 'Type', 'IPM', 'is_adv']\n",
      "ba is 0.6824264699888319\n",
      "0.7619685302979579\n",
      "\n",
      "C is 0.001\n",
      "Features are ['is_vvod', 'isPr', 'Type', 'is_adj', 'Syllables', 'TF', 'is_prep', 'IPM', 'is_conj', 'is_verb', 'is_pr_adv', 'is_pronoun', 'is_adv', 'is_particle']\n",
      "ba is 0.6851614277213033\n",
      "0.7656511550050218\n",
      "\n",
      "C is 0.01\n",
      "Features are ['is_vvod', 'isPr', 'Type', 'is_adj', 'Syllables', 'TF', 'is_prep', 'IPM', 'is_conj', 'is_verb', 'is_pr_adv', 'is_pronoun', 'is_adv', 'is_particle']\n",
      "ba is 0.7071068141614563\n",
      "0.7760294609976565\n",
      "\n",
      "C is 0.1\n",
      "Features are ['is_vvod', 'isPr', 'Type', 'is_adj', 'Syllables', 'TF', 'is_prep', 'IPM', 'is_conj', 'is_verb', 'is_pr_adv', 'is_pronoun', 'is_adv', 'is_particle']\n",
      "ba is 0.7123650353384255\n",
      "0.776364245061935\n",
      "\n",
      "C is 1\n",
      "Features are ['is_vvod', 'isPr', 'Type', 'is_adj', 'Syllables', 'TF', 'is_prep', 'IPM', 'is_conj', 'is_verb', 'is_pr_adv', 'is_pronoun', 'is_adv', 'is_particle']\n",
      "ba is 0.7139921008225253\n",
      "0.7753598928690995\n",
      "\n",
      "C is 0.01\n",
      "Features are ['is_adj', 'is_numer', 'Type', 'is_vvod', 'isPr', 'is_inter', 'Syllables', 'TF', 'is_prep', 'IPM', 'is_noun', 'is_pr_adj', 'is_verb', 'is_conj', 'is_adv', 'is_particle', 'is_pr_adv', 'is_pronoun']\n",
      "ba is 0.7237257073799024\n",
      "0.7817207900903917\n",
      "\n",
      "C is 0.1\n",
      "Features are ['is_adj', 'is_numer', 'Type', 'is_vvod', 'isPr', 'is_inter', 'Syllables', 'TF', 'is_prep', 'IPM', 'is_noun', 'is_pr_adj', 'is_verb', 'is_conj', 'is_adv', 'is_particle', 'is_pr_adv', 'is_pronoun']\n",
      "ba is 0.7276505857130047\n",
      "0.7823903582189488\n",
      "\n",
      "C is 1\n",
      "Features are ['is_adj', 'is_numer', 'Type', 'is_vvod', 'isPr', 'is_inter', 'Syllables', 'TF', 'is_prep', 'IPM', 'is_noun', 'is_pr_adj', 'is_verb', 'is_conj', 'is_adv', 'is_particle', 'is_pr_adv', 'is_pronoun']\n",
      "ba is 0.7276956758321038\n",
      "0.7813860060261132\n",
      "\n",
      "C is 10\n",
      "Features are ['is_adj', 'is_numer', 'Type', 'is_vvod', 'isPr', 'is_inter', 'Syllables', 'TF', 'is_prep', 'IPM', 'is_noun', 'is_pr_adj', 'is_verb', 'is_conj', 'is_adv', 'is_particle', 'is_pr_adv', 'is_pronoun']\n",
      "ba is 0.728207970914071\n",
      "0.7817207900903917\n",
      "\n"
     ]
    }
   ],
   "source": [
    "max_ba = 0\n",
    "for feats in list_of_lists:\n",
    "    for i in c:\n",
    "        log = LogisticRegression(random_state=0, C=i, max_iter=300)\n",
    "        log.fit(X_simples_log_train[feats], y_simples_log_train)\n",
    "        preds = log.predict(X_simples_log_test[feats])\n",
    "        ba = balanced_accuracy_score(y_simples_log_test, preds)\n",
    "        if ba > max_ba:\n",
    "            max_ba = ba\n",
    "            print(f'C is {i}')\n",
    "            print(f'Features are {feats}')\n",
    "            print(f'ba is {ba}')\n",
    "            print(accuracy_score(y_simples_log_test, preds))\n",
    "            print()"
   ]
  },
  {
   "cell_type": "code",
   "execution_count": 387,
   "metadata": {},
   "outputs": [],
   "source": [
    "gb_simples = GradientBoostingClassifier(random_state=0, n_estimators=300)"
   ]
  },
  {
   "cell_type": "code",
   "execution_count": 378,
   "metadata": {},
   "outputs": [
    {
     "data": {
      "text/plain": [
       "GradientBoostingClassifier(n_estimators=500, random_state=0)"
      ]
     },
     "execution_count": 378,
     "metadata": {},
     "output_type": "execute_result"
    }
   ],
   "source": [
    "gb_simples.fit(X_simples_train, y_simples_train)"
   ]
  },
  {
   "cell_type": "code",
   "execution_count": 366,
   "metadata": {},
   "outputs": [],
   "source": [
    "px = x.predict(X_simples_test)"
   ]
  },
  {
   "cell_type": "code",
   "execution_count": 388,
   "metadata": {},
   "outputs": [
    {
     "name": "stdout",
     "output_type": "stream",
     "text": [
      "features are: ['Syllables', 'IPM', 'is_adj', 'is_noun', 'TF', 'is_pr_adj', 'is_adv']\n",
      "balanced accuracy is 0.7620044162842073\n",
      "accuracy is 0.8041513223970539\n",
      "\n"
     ]
    }
   ],
   "source": [
    "choose_best_feats(gb_simples, X_simples_train, X_simples_test, y_simples_train, y_simples_test)"
   ]
  },
  {
   "cell_type": "code",
   "execution_count": 850,
   "metadata": {},
   "outputs": [],
   "source": [
    "nn_simple = [['IPM', 'Syllables', 'TF', 'is_adj'],\n",
    "             ['is_adj', 'Syllables', 'is_pr_adj', 'isPr', 'is_pronoun', 'IPM', 'TF', \n",
    "              'is_particle', 'Type', 'is_conj', 'is_pr_noun', 'is_noun', 'is_prep'],\n",
    "             ['Syllables', 'IPM', 'is_adj', 'is_noun', 'TF', 'is_pr_adj', 'is_adv'],\n",
    "            ]"
   ]
  },
  {
   "cell_type": "code",
   "execution_count": 851,
   "metadata": {},
   "outputs": [],
   "source": [
    "keras_simple_4_train = np.array(X_simples_train[nn_simple[0]]) \n",
    "keras_simple_4_test = np.array(X_simples_test[nn_simple[0]])"
   ]
  },
  {
   "cell_type": "code",
   "execution_count": 1016,
   "metadata": {},
   "outputs": [],
   "source": [
    "log_simple = LogisticRegression(random_state=0)"
   ]
  },
  {
   "cell_type": "code",
   "execution_count": 1017,
   "metadata": {},
   "outputs": [],
   "source": [
    "grid_simple = RandomizedSearchCV(log_simple, parameters_grid, scoring = 'balanced_accuracy', cv = kf, random_state=0)"
   ]
  },
  {
   "cell_type": "code",
   "execution_count": 855,
   "metadata": {},
   "outputs": [],
   "source": [
    "X_simples_4_train = X_simples_log_train[nn_simple[0]]\n",
    "X_simples_4_test = X_simples_log_test[nn_simple[0]]"
   ]
  },
  {
   "cell_type": "code",
   "execution_count": 1040,
   "metadata": {},
   "outputs": [
    {
     "data": {
      "text/plain": [
       "RandomizedSearchCV(cv=StratifiedKFold(n_splits=10, random_state=0, shuffle=True),\n",
       "                   estimator=LogisticRegression(random_state=0),\n",
       "                   param_distributions={'fit_intercept': [True, False],\n",
       "                                        'max_iter': array([100, 150, 200, 250, 300, 350, 400, 450, 500, 550, 600, 650, 700,\n",
       "       750, 800, 850, 900]),\n",
       "                                        'penalty': ['l1', 'l2'],\n",
       "                                        'solver': ['liblinear', 'saga']},\n",
       "                   random_state=0, scoring='balanced_accuracy')"
      ]
     },
     "execution_count": 1040,
     "metadata": {},
     "output_type": "execute_result"
    }
   ],
   "source": [
    "grid_simple.fit(X_simples_4_train, y_simples_log_train)"
   ]
  },
  {
   "cell_type": "code",
   "execution_count": 1041,
   "metadata": {},
   "outputs": [
    {
     "data": {
      "text/plain": [
       "{'solver': 'liblinear',\n",
       " 'penalty': 'l2',\n",
       " 'max_iter': 400,\n",
       " 'fit_intercept': True}"
      ]
     },
     "execution_count": 1041,
     "metadata": {},
     "output_type": "execute_result"
    }
   ],
   "source": [
    "grid_simple.best_params_"
   ]
  },
  {
   "cell_type": "code",
   "execution_count": 1042,
   "metadata": {},
   "outputs": [],
   "source": [
    "log_simple4 = LogisticRegression(random_state=0, solver='liblinear', penalty='l2', max_iter=400, fit_intercept=True)"
   ]
  },
  {
   "cell_type": "code",
   "execution_count": 1043,
   "metadata": {},
   "outputs": [
    {
     "data": {
      "text/plain": [
       "LogisticRegression(max_iter=400, random_state=0, solver='liblinear')"
      ]
     },
     "execution_count": 1043,
     "metadata": {},
     "output_type": "execute_result"
    }
   ],
   "source": [
    "log_simple4.fit(X_simples_4_train, y_simples_log_train)"
   ]
  },
  {
   "cell_type": "code",
   "execution_count": 1044,
   "metadata": {},
   "outputs": [],
   "source": [
    "preds_simple_4 = log_compound4.predict(X_simples_4_test)"
   ]
  },
  {
   "cell_type": "code",
   "execution_count": 1045,
   "metadata": {},
   "outputs": [
    {
     "data": {
      "text/plain": [
       "0.7053363264341206"
      ]
     },
     "execution_count": 1045,
     "metadata": {},
     "output_type": "execute_result"
    }
   ],
   "source": [
    "balanced_accuracy_score(y_simples_log_test, preds_simple_4)"
   ]
  },
  {
   "cell_type": "code",
   "execution_count": 1046,
   "metadata": {},
   "outputs": [
    {
     "data": {
      "text/plain": [
       "0.7743555406762638"
      ]
     },
     "execution_count": 1046,
     "metadata": {},
     "output_type": "execute_result"
    }
   ],
   "source": [
    "accuracy_score(y_simples_log_test, preds_simple_4)"
   ]
  },
  {
   "cell_type": "code",
   "execution_count": 1024,
   "metadata": {},
   "outputs": [
    {
     "name": "stdout",
     "output_type": "stream",
     "text": [
      "('IPM', 0.039612047814128)\n",
      "('Syllables', 1.003815207422286)\n",
      "('TF', -0.04374507388958202)\n",
      "('is_adj', 1.3650194537794238)\n"
     ]
    }
   ],
   "source": [
    "map_coefs(X_simples_4_train, log_simple4)"
   ]
  },
  {
   "cell_type": "code",
   "execution_count": 1047,
   "metadata": {},
   "outputs": [],
   "source": [
    "X_simples_13_train = X_simples_log_train[nn_simple[1]]\n",
    "X_simples_13_test = X_simples_log_test[nn_simple[1]]"
   ]
  },
  {
   "cell_type": "code",
   "execution_count": 1048,
   "metadata": {},
   "outputs": [
    {
     "data": {
      "text/plain": [
       "RandomizedSearchCV(cv=StratifiedKFold(n_splits=10, random_state=0, shuffle=True),\n",
       "                   estimator=LogisticRegression(random_state=0),\n",
       "                   param_distributions={'fit_intercept': [True, False],\n",
       "                                        'max_iter': array([100, 150, 200, 250, 300, 350, 400, 450, 500, 550, 600, 650, 700,\n",
       "       750, 800, 850, 900]),\n",
       "                                        'penalty': ['l1', 'l2'],\n",
       "                                        'solver': ['liblinear', 'saga']},\n",
       "                   random_state=0, scoring='balanced_accuracy')"
      ]
     },
     "execution_count": 1048,
     "metadata": {},
     "output_type": "execute_result"
    }
   ],
   "source": [
    "grid_simple.fit(X_simples_13_train, y_simples_log_train)"
   ]
  },
  {
   "cell_type": "code",
   "execution_count": 1049,
   "metadata": {},
   "outputs": [
    {
     "data": {
      "text/plain": [
       "{'solver': 'saga', 'penalty': 'l1', 'max_iter': 650, 'fit_intercept': True}"
      ]
     },
     "execution_count": 1049,
     "metadata": {},
     "output_type": "execute_result"
    }
   ],
   "source": [
    "grid_simple.best_params_"
   ]
  },
  {
   "cell_type": "code",
   "execution_count": 1050,
   "metadata": {},
   "outputs": [],
   "source": [
    "log_simple13 = LogisticRegression(random_state=0, solver='saga', penalty='l1', max_iter=650, fit_intercept=True)"
   ]
  },
  {
   "cell_type": "code",
   "execution_count": 1051,
   "metadata": {},
   "outputs": [
    {
     "data": {
      "text/plain": [
       "LogisticRegression(max_iter=650, penalty='l1', random_state=0, solver='saga')"
      ]
     },
     "execution_count": 1051,
     "metadata": {},
     "output_type": "execute_result"
    }
   ],
   "source": [
    "log_simple13.fit(X_simples_13_train, y_simples_log_train)"
   ]
  },
  {
   "cell_type": "code",
   "execution_count": 1052,
   "metadata": {},
   "outputs": [],
   "source": [
    "preds_simple_13 = log_simple13.predict(X_simples_13_test)"
   ]
  },
  {
   "cell_type": "code",
   "execution_count": 1053,
   "metadata": {},
   "outputs": [
    {
     "data": {
      "text/plain": [
       "0.7292025009986061"
      ]
     },
     "execution_count": 1053,
     "metadata": {},
     "output_type": "execute_result"
    }
   ],
   "source": [
    "balanced_accuracy_score(y_simples_log_test, preds_simple_13)"
   ]
  },
  {
   "cell_type": "code",
   "execution_count": 1054,
   "metadata": {},
   "outputs": [
    {
     "data": {
      "text/plain": [
       "0.7830599263475059"
      ]
     },
     "execution_count": 1054,
     "metadata": {},
     "output_type": "execute_result"
    }
   ],
   "source": [
    "accuracy_score(y_simples_log_test, preds_simple_13)"
   ]
  },
  {
   "cell_type": "code",
   "execution_count": 1030,
   "metadata": {},
   "outputs": [
    {
     "name": "stdout",
     "output_type": "stream",
     "text": [
      "('is_adj', 1.1130119782553187)\n",
      "('Syllables', 1.0132764183741574)\n",
      "('is_pr_adj', 0.47894315191003073)\n",
      "('isPr', 0.3015228514456572)\n",
      "('is_pronoun', 0.20203417684255437)\n",
      "('IPM', 0.021423893036178275)\n",
      "('TF', -0.04326815439048015)\n",
      "('is_particle', -0.28858046195632364)\n",
      "('Type', -0.07612787589178838)\n",
      "('is_conj', -0.3282557238152318)\n",
      "('is_pr_noun', -1.0411153234527935)\n",
      "('is_noun', -0.640908262053397)\n",
      "('is_prep', -1.480138177559162)\n"
     ]
    }
   ],
   "source": [
    "map_coefs(X_simples_13_train, log_simple13)"
   ]
  },
  {
   "cell_type": "code",
   "execution_count": 914,
   "metadata": {},
   "outputs": [],
   "source": [
    "X_simples_7_train = X_simples_log_train[nn_simple[-1]]\n",
    "X_simples_7_test = X_simples_log_test[nn_simple[-1]]"
   ]
  },
  {
   "cell_type": "code",
   "execution_count": 915,
   "metadata": {},
   "outputs": [
    {
     "data": {
      "text/plain": [
       "RandomizedSearchCV(cv=StratifiedKFold(n_splits=10, random_state=0, shuffle=True),\n",
       "                   estimator=LogisticRegression(random_state=0),\n",
       "                   param_distributions={'fit_intercept': [True, False],\n",
       "                                        'max_iter': array([100, 150, 200, 250, 300, 350, 400, 450, 500, 550, 600, 650, 700,\n",
       "       750, 800, 850, 900]),\n",
       "                                        'penalty': ['l1', 'l2'],\n",
       "                                        'solver': ['liblinear', 'saga']},\n",
       "                   random_state=0, scoring='balanced_accuracy')"
      ]
     },
     "execution_count": 915,
     "metadata": {},
     "output_type": "execute_result"
    }
   ],
   "source": [
    "grid_simple.fit(X_simples_7_train, y_simples_log_train)"
   ]
  },
  {
   "cell_type": "code",
   "execution_count": 916,
   "metadata": {},
   "outputs": [
    {
     "data": {
      "text/plain": [
       "{'solver': 'liblinear',\n",
       " 'penalty': 'l2',\n",
       " 'max_iter': 400,\n",
       " 'fit_intercept': True}"
      ]
     },
     "execution_count": 916,
     "metadata": {},
     "output_type": "execute_result"
    }
   ],
   "source": [
    "grid_simple.best_params_"
   ]
  },
  {
   "cell_type": "code",
   "execution_count": 1031,
   "metadata": {},
   "outputs": [],
   "source": [
    "log_simple7 = LogisticRegression(random_state=0, solver='liblinear', penalty='l2', max_iter=400, fit_intercept=True)"
   ]
  },
  {
   "cell_type": "code",
   "execution_count": 1032,
   "metadata": {},
   "outputs": [
    {
     "data": {
      "text/plain": [
       "LogisticRegression(max_iter=400, random_state=0, solver='liblinear')"
      ]
     },
     "execution_count": 1032,
     "metadata": {},
     "output_type": "execute_result"
    }
   ],
   "source": [
    "log_simple7.fit(X_simples_7_train, y_simples_log_train)"
   ]
  },
  {
   "cell_type": "code",
   "execution_count": 1033,
   "metadata": {},
   "outputs": [],
   "source": [
    "preds_simple_7 = log_simple7.predict(X_simples_7_test)"
   ]
  },
  {
   "cell_type": "code",
   "execution_count": 1391,
   "metadata": {},
   "outputs": [
    {
     "data": {
      "text/plain": [
       "0.7210590216921685"
      ]
     },
     "execution_count": 1391,
     "metadata": {},
     "output_type": "execute_result"
    }
   ],
   "source": [
    "balanced_accuracy_score(y_simples_log_test, preds_simple_7)"
   ]
  },
  {
   "cell_type": "code",
   "execution_count": 1392,
   "metadata": {},
   "outputs": [
    {
     "data": {
      "text/plain": [
       "0.7823903582189488"
      ]
     },
     "execution_count": 1392,
     "metadata": {},
     "output_type": "execute_result"
    }
   ],
   "source": [
    "accuracy_score(y_simples_log_test, preds_simple_7)"
   ]
  },
  {
   "cell_type": "code",
   "execution_count": 1036,
   "metadata": {},
   "outputs": [
    {
     "name": "stdout",
     "output_type": "stream",
     "text": [
      "('Syllables', 1.0478415767755507)\n",
      "('IPM', 0.019027723605323083)\n",
      "('is_adj', 1.1897246495478506)\n",
      "('is_noun', -0.5234576888383744)\n",
      "('TF', -0.05754683319937606)\n",
      "('is_pr_adj', 0.6017864645725379)\n",
      "('is_adv', 0.10468109836332803)\n"
     ]
    }
   ],
   "source": [
    "map_coefs(X_simples_7_train, log_simple7)"
   ]
  },
  {
   "cell_type": "code",
   "execution_count": 937,
   "metadata": {},
   "outputs": [],
   "source": [
    "keras_simple_4_train = np.array(X_simples_log_train[nn_simple[0]]) \n",
    "keras_simple_4_test = np.array(X_simples_log_test[nn_simple[0]])"
   ]
  },
  {
   "cell_type": "code",
   "execution_count": 1369,
   "metadata": {},
   "outputs": [],
   "source": [
    "nn_simple4 = models.Sequential()"
   ]
  },
  {
   "cell_type": "code",
   "execution_count": 1370,
   "metadata": {},
   "outputs": [],
   "source": [
    "nn_simple4.add(layers.Dense(256, activation='relu'))\n",
    "nn_simple4.add(layers.Dense(256, activation='relu'))\n",
    "nn_simple4.add(layers.Dense(256, activation='relu'))\n",
    "nn_simple4.add(layers.Dense(256, activation='relu'))\n",
    "nn_simple4.add(layers.Dense(128, activation='relu'))\n",
    "nn_simple4.add(layers.Dense(128, activation='relu'))\n",
    "nn_simple4.add(layers.Dense(128, activation='relu'))\n",
    "nn_simple4.add(layers.Dense(64, activation='relu'))\n",
    "nn_simple4.add(layers.Dense(1, activation='sigmoid'))"
   ]
  },
  {
   "cell_type": "code",
   "execution_count": 1371,
   "metadata": {},
   "outputs": [],
   "source": [
    "nn_simple4.compile(optimizer='rmsprop', loss = 'binary_crossentropy', metrics=['binary_accuracy'])"
   ]
  },
  {
   "cell_type": "code",
   "execution_count": 1372,
   "metadata": {},
   "outputs": [
    {
     "name": "stdout",
     "output_type": "stream",
     "text": [
      "Epoch 1/30\n",
      "24/24 [==============================] - 1s 10ms/step - loss: 0.5999 - binary_accuracy: 0.6825\n",
      "Epoch 2/30\n",
      "24/24 [==============================] - 0s 12ms/step - loss: 0.5168 - binary_accuracy: 0.7245\n",
      "Epoch 3/30\n",
      "24/24 [==============================] - 0s 12ms/step - loss: 0.4997 - binary_accuracy: 0.7490\n",
      "Epoch 4/30\n",
      "24/24 [==============================] - 0s 12ms/step - loss: 0.4885 - binary_accuracy: 0.7680\n",
      "Epoch 5/30\n",
      "24/24 [==============================] - 0s 12ms/step - loss: 0.4629 - binary_accuracy: 0.7802\n",
      "Epoch 6/30\n",
      "24/24 [==============================] - 0s 13ms/step - loss: 0.4686 - binary_accuracy: 0.7708\n",
      "Epoch 7/30\n",
      "24/24 [==============================] - 0s 13ms/step - loss: 0.4665 - binary_accuracy: 0.7736\n",
      "Epoch 8/30\n",
      "24/24 [==============================] - 0s 12ms/step - loss: 0.4597 - binary_accuracy: 0.7767\n",
      "Epoch 9/30\n",
      "24/24 [==============================] - 0s 12ms/step - loss: 0.4572 - binary_accuracy: 0.7831\n",
      "Epoch 10/30\n",
      "24/24 [==============================] - 0s 13ms/step - loss: 0.4516 - binary_accuracy: 0.7852\n",
      "Epoch 11/30\n",
      "24/24 [==============================] - 0s 13ms/step - loss: 0.4472 - binary_accuracy: 0.7914\n",
      "Epoch 12/30\n",
      "24/24 [==============================] - 0s 13ms/step - loss: 0.4537 - binary_accuracy: 0.7810\n",
      "Epoch 13/30\n",
      "24/24 [==============================] - 0s 13ms/step - loss: 0.4514 - binary_accuracy: 0.7877\n",
      "Epoch 14/30\n",
      "24/24 [==============================] - 0s 12ms/step - loss: 0.4519 - binary_accuracy: 0.7823\n",
      "Epoch 15/30\n",
      "24/24 [==============================] - 0s 13ms/step - loss: 0.4517 - binary_accuracy: 0.7865\n",
      "Epoch 16/30\n",
      "24/24 [==============================] - 0s 13ms/step - loss: 0.4445 - binary_accuracy: 0.7890\n",
      "Epoch 17/30\n",
      "24/24 [==============================] - 0s 12ms/step - loss: 0.4437 - binary_accuracy: 0.7881\n",
      "Epoch 18/30\n",
      "24/24 [==============================] - 0s 13ms/step - loss: 0.4464 - binary_accuracy: 0.7921\n",
      "Epoch 19/30\n",
      "24/24 [==============================] - 0s 13ms/step - loss: 0.4456 - binary_accuracy: 0.7876\n",
      "Epoch 20/30\n",
      "24/24 [==============================] - 0s 14ms/step - loss: 0.4452 - binary_accuracy: 0.7904\n",
      "Epoch 21/30\n",
      "24/24 [==============================] - 0s 13ms/step - loss: 0.4446 - binary_accuracy: 0.7941\n",
      "Epoch 22/30\n",
      "24/24 [==============================] - 0s 14ms/step - loss: 0.4353 - binary_accuracy: 0.7940\n",
      "Epoch 23/30\n",
      "24/24 [==============================] - 0s 14ms/step - loss: 0.4468 - binary_accuracy: 0.7880\n",
      "Epoch 24/30\n",
      "24/24 [==============================] - 0s 13ms/step - loss: 0.4460 - binary_accuracy: 0.7941\n",
      "Epoch 25/30\n",
      "24/24 [==============================] - 0s 13ms/step - loss: 0.4418 - binary_accuracy: 0.7952\n",
      "Epoch 26/30\n",
      "24/24 [==============================] - 0s 14ms/step - loss: 0.4398 - binary_accuracy: 0.7912\n",
      "Epoch 27/30\n",
      "24/24 [==============================] - 0s 14ms/step - loss: 0.4390 - binary_accuracy: 0.7932\n",
      "Epoch 28/30\n",
      "24/24 [==============================] - 0s 15ms/step - loss: 0.4378 - binary_accuracy: 0.7972\n",
      "Epoch 29/30\n",
      "24/24 [==============================] - 0s 15ms/step - loss: 0.4473 - binary_accuracy: 0.7918\n",
      "Epoch 30/30\n",
      "24/24 [==============================] - 0s 14ms/step - loss: 0.4604 - binary_accuracy: 0.7816\n"
     ]
    },
    {
     "data": {
      "text/plain": [
       "<tensorflow.python.keras.callbacks.History at 0x16212b3d0>"
      ]
     },
     "execution_count": 1372,
     "metadata": {},
     "output_type": "execute_result"
    }
   ],
   "source": [
    "from numpy.random import seed\n",
    "seed(1)\n",
    "tf.random.set_seed(1)\n",
    "nn_simple4.fit(keras_simple_4_train, y_simples_log_train, epochs=30, batch_size=512)"
   ]
  },
  {
   "cell_type": "code",
   "execution_count": 1373,
   "metadata": {},
   "outputs": [
    {
     "name": "stdout",
     "output_type": "stream",
     "text": [
      "94/94 [==============================] - 0s 1ms/step - loss: 0.4713 - binary_accuracy: 0.7874\n"
     ]
    }
   ],
   "source": [
    "results_simple4 = nn_simple4.evaluate(keras_simple_4_test, y_simples_log_test)"
   ]
  },
  {
   "cell_type": "code",
   "execution_count": 1374,
   "metadata": {},
   "outputs": [],
   "source": [
    "keras_simple_13_train = np.array(X_simples_log_train[nn_simple[1]]) \n",
    "keras_simple_13_test = np.array(X_simples_log_test[nn_simple[1]])"
   ]
  },
  {
   "cell_type": "code",
   "execution_count": 1380,
   "metadata": {},
   "outputs": [],
   "source": [
    "nn_simple13 = models.Sequential()"
   ]
  },
  {
   "cell_type": "code",
   "execution_count": 1381,
   "metadata": {},
   "outputs": [],
   "source": [
    "nn_simple13.add(layers.Dense(128, activation='relu'))\n",
    "nn_simple13.add(layers.Dense(128, activation='relu'))\n",
    "nn_simple13.add(layers.Dense(128, activation='relu'))\n",
    "nn_simple13.add(layers.Dense(64, activation='relu'))\n",
    "nn_simple13.add(layers.Dense(1, activation='sigmoid'))"
   ]
  },
  {
   "cell_type": "code",
   "execution_count": 1382,
   "metadata": {},
   "outputs": [],
   "source": [
    "nn_simple13.compile(optimizer='rmsprop', loss = 'binary_crossentropy', metrics=['binary_accuracy'])"
   ]
  },
  {
   "cell_type": "code",
   "execution_count": 1383,
   "metadata": {},
   "outputs": [
    {
     "name": "stdout",
     "output_type": "stream",
     "text": [
      "Epoch 1/30\n",
      "24/24 [==============================] - 1s 2ms/step - loss: 0.5549 - binary_accuracy: 0.6971\n",
      "Epoch 2/30\n",
      "24/24 [==============================] - 0s 3ms/step - loss: 0.4803 - binary_accuracy: 0.7627\n",
      "Epoch 3/30\n",
      "24/24 [==============================] - 0s 3ms/step - loss: 0.4729 - binary_accuracy: 0.7694\n",
      "Epoch 4/30\n",
      "24/24 [==============================] - 0s 3ms/step - loss: 0.4668 - binary_accuracy: 0.7754\n",
      "Epoch 5/30\n",
      "24/24 [==============================] - 0s 3ms/step - loss: 0.4542 - binary_accuracy: 0.7780\n",
      "Epoch 6/30\n",
      "24/24 [==============================] - 0s 3ms/step - loss: 0.4510 - binary_accuracy: 0.7810\n",
      "Epoch 7/30\n",
      "24/24 [==============================] - 0s 3ms/step - loss: 0.4527 - binary_accuracy: 0.7824\n",
      "Epoch 8/30\n",
      "24/24 [==============================] - 0s 4ms/step - loss: 0.4542 - binary_accuracy: 0.7765\n",
      "Epoch 9/30\n",
      "24/24 [==============================] - 0s 3ms/step - loss: 0.4453 - binary_accuracy: 0.7844\n",
      "Epoch 10/30\n",
      "24/24 [==============================] - 0s 3ms/step - loss: 0.4425 - binary_accuracy: 0.7870\n",
      "Epoch 11/30\n",
      "24/24 [==============================] - 0s 3ms/step - loss: 0.4343 - binary_accuracy: 0.7961\n",
      "Epoch 12/30\n",
      "24/24 [==============================] - 0s 3ms/step - loss: 0.4502 - binary_accuracy: 0.7770\n",
      "Epoch 13/30\n",
      "24/24 [==============================] - 0s 3ms/step - loss: 0.4394 - binary_accuracy: 0.7884\n",
      "Epoch 14/30\n",
      "24/24 [==============================] - 0s 3ms/step - loss: 0.4410 - binary_accuracy: 0.7864\n",
      "Epoch 15/30\n",
      "24/24 [==============================] - 0s 3ms/step - loss: 0.4353 - binary_accuracy: 0.7909\n",
      "Epoch 16/30\n",
      "24/24 [==============================] - 0s 3ms/step - loss: 0.4327 - binary_accuracy: 0.7895\n",
      "Epoch 17/30\n",
      "24/24 [==============================] - 0s 3ms/step - loss: 0.4264 - binary_accuracy: 0.7963\n",
      "Epoch 18/30\n",
      "24/24 [==============================] - 0s 3ms/step - loss: 0.4309 - binary_accuracy: 0.7948\n",
      "Epoch 19/30\n",
      "24/24 [==============================] - 0s 3ms/step - loss: 0.4327 - binary_accuracy: 0.7885\n",
      "Epoch 20/30\n",
      "24/24 [==============================] - 0s 3ms/step - loss: 0.4281 - binary_accuracy: 0.7942\n",
      "Epoch 21/30\n",
      "24/24 [==============================] - 0s 4ms/step - loss: 0.4281 - binary_accuracy: 0.8018\n",
      "Epoch 22/30\n",
      "24/24 [==============================] - 0s 3ms/step - loss: 0.4181 - binary_accuracy: 0.7968\n",
      "Epoch 23/30\n",
      "24/24 [==============================] - 0s 3ms/step - loss: 0.4289 - binary_accuracy: 0.7958\n",
      "Epoch 24/30\n",
      "24/24 [==============================] - 0s 4ms/step - loss: 0.4279 - binary_accuracy: 0.7982\n",
      "Epoch 25/30\n",
      "24/24 [==============================] - 0s 3ms/step - loss: 0.4211 - binary_accuracy: 0.7989\n",
      "Epoch 26/30\n",
      "24/24 [==============================] - 0s 4ms/step - loss: 0.4221 - binary_accuracy: 0.7945\n",
      "Epoch 27/30\n",
      "24/24 [==============================] - 0s 4ms/step - loss: 0.4197 - binary_accuracy: 0.7993\n",
      "Epoch 28/30\n",
      "24/24 [==============================] - 0s 4ms/step - loss: 0.4204 - binary_accuracy: 0.7997\n",
      "Epoch 29/30\n",
      "24/24 [==============================] - 0s 4ms/step - loss: 0.4231 - binary_accuracy: 0.7973\n",
      "Epoch 30/30\n",
      "24/24 [==============================] - 0s 4ms/step - loss: 0.4335 - binary_accuracy: 0.7912\n"
     ]
    },
    {
     "data": {
      "text/plain": [
       "<tensorflow.python.keras.callbacks.History at 0x1625879d0>"
      ]
     },
     "execution_count": 1383,
     "metadata": {},
     "output_type": "execute_result"
    }
   ],
   "source": [
    "from numpy.random import seed\n",
    "seed(1)\n",
    "tf.random.set_seed(1)\n",
    "nn_simple13.fit(keras_simple_13_train, y_simples_log_train, epochs=30, batch_size=512)"
   ]
  },
  {
   "cell_type": "code",
   "execution_count": 1384,
   "metadata": {},
   "outputs": [
    {
     "name": "stdout",
     "output_type": "stream",
     "text": [
      "94/94 [==============================] - 0s 1ms/step - loss: 0.4536 - binary_accuracy: 0.7814\n"
     ]
    }
   ],
   "source": [
    "results_simple13 = nn_simple13.evaluate(keras_simple_13_test, y_simples_log_test)"
   ]
  },
  {
   "cell_type": "code",
   "execution_count": 1385,
   "metadata": {},
   "outputs": [],
   "source": [
    "keras_simple_7_train = np.array(X_simples_log_train[nn_simple[-1]]) \n",
    "keras_simple_7_test = np.array(X_simples_log_test[nn_simple[-1]])"
   ]
  },
  {
   "cell_type": "code",
   "execution_count": 1386,
   "metadata": {},
   "outputs": [],
   "source": [
    "nn_simple7 = models.Sequential()"
   ]
  },
  {
   "cell_type": "code",
   "execution_count": 1387,
   "metadata": {},
   "outputs": [],
   "source": [
    "nn_simple7.add(layers.Dense(512, activation='relu'))\n",
    "nn_simple7.add(layers.Dense(512, activation='relu'))\n",
    "nn_simple7.add(layers.Dense(256, activation='relu'))\n",
    "nn_simple7.add(layers.Dense(256, activation='relu'))\n",
    "nn_simple7.add(layers.Dense(256, activation='relu'))\n",
    "nn_simple7.add(layers.Dense(256, activation='relu'))\n",
    "nn_simple7.add(layers.Dense(128, activation='relu'))\n",
    "nn_simple7.add(layers.Dense(128, activation='relu'))\n",
    "nn_simple7.add(layers.Dense(128, activation='relu'))\n",
    "nn_simple7.add(layers.Dense(64, activation='relu'))\n",
    "nn_simple7.add(layers.Dense(1, activation='sigmoid'))"
   ]
  },
  {
   "cell_type": "code",
   "execution_count": 1388,
   "metadata": {},
   "outputs": [],
   "source": [
    "nn_simple7.compile(optimizer='rmsprop', loss = 'binary_crossentropy', metrics=['binary_accuracy'])"
   ]
  },
  {
   "cell_type": "code",
   "execution_count": 1389,
   "metadata": {},
   "outputs": [
    {
     "name": "stdout",
     "output_type": "stream",
     "text": [
      "Epoch 1/30\n",
      "24/24 [==============================] - 2s 20ms/step - loss: 0.6316 - binary_accuracy: 0.6134\n",
      "Epoch 2/30\n",
      "24/24 [==============================] - 1s 23ms/step - loss: 0.5013 - binary_accuracy: 0.7495\n",
      "Epoch 3/30\n",
      "24/24 [==============================] - 1s 23ms/step - loss: 0.5017 - binary_accuracy: 0.7536\n",
      "Epoch 4/30\n",
      "24/24 [==============================] - 1s 23ms/step - loss: 0.4828 - binary_accuracy: 0.7770\n",
      "Epoch 5/30\n",
      "24/24 [==============================] - 1s 24ms/step - loss: 0.4668 - binary_accuracy: 0.7764\n",
      "Epoch 6/30\n",
      "24/24 [==============================] - 1s 25ms/step - loss: 0.4667 - binary_accuracy: 0.7749\n",
      "Epoch 7/30\n",
      "24/24 [==============================] - 1s 25ms/step - loss: 0.4589 - binary_accuracy: 0.7867\n",
      "Epoch 8/30\n",
      "24/24 [==============================] - 1s 26ms/step - loss: 0.4633 - binary_accuracy: 0.7777\n",
      "Epoch 9/30\n",
      "24/24 [==============================] - 1s 25ms/step - loss: 0.4516 - binary_accuracy: 0.7867\n",
      "Epoch 10/30\n",
      "24/24 [==============================] - 1s 26ms/step - loss: 0.4493 - binary_accuracy: 0.7889\n",
      "Epoch 11/30\n",
      "24/24 [==============================] - 1s 26ms/step - loss: 0.4419 - binary_accuracy: 0.7959\n",
      "Epoch 12/30\n",
      "24/24 [==============================] - 1s 26ms/step - loss: 0.4629 - binary_accuracy: 0.7757\n",
      "Epoch 13/30\n",
      "24/24 [==============================] - 1s 26ms/step - loss: 0.4433 - binary_accuracy: 0.7960\n",
      "Epoch 14/30\n",
      "24/24 [==============================] - 1s 26ms/step - loss: 0.4442 - binary_accuracy: 0.7927\n",
      "Epoch 15/30\n",
      "24/24 [==============================] - 1s 27ms/step - loss: 0.4414 - binary_accuracy: 0.7925\n",
      "Epoch 16/30\n",
      "24/24 [==============================] - 1s 27ms/step - loss: 0.4379 - binary_accuracy: 0.7980\n",
      "Epoch 17/30\n",
      "24/24 [==============================] - 1s 28ms/step - loss: 0.4348 - binary_accuracy: 0.7985\n",
      "Epoch 18/30\n",
      "24/24 [==============================] - 1s 27ms/step - loss: 0.4378 - binary_accuracy: 0.7973\n",
      "Epoch 19/30\n",
      "24/24 [==============================] - 1s 28ms/step - loss: 0.4372 - binary_accuracy: 0.7945\n",
      "Epoch 20/30\n",
      "24/24 [==============================] - 1s 27ms/step - loss: 0.4343 - binary_accuracy: 0.7994\n",
      "Epoch 21/30\n",
      "24/24 [==============================] - 1s 28ms/step - loss: 0.4347 - binary_accuracy: 0.8011\n",
      "Epoch 22/30\n",
      "24/24 [==============================] - 1s 28ms/step - loss: 0.4268 - binary_accuracy: 0.8008\n",
      "Epoch 23/30\n",
      "24/24 [==============================] - 1s 29ms/step - loss: 0.4411 - binary_accuracy: 0.7946\n",
      "Epoch 24/30\n",
      "24/24 [==============================] - 1s 28ms/step - loss: 0.4369 - binary_accuracy: 0.7991\n",
      "Epoch 25/30\n",
      "24/24 [==============================] - 1s 29ms/step - loss: 0.4334 - binary_accuracy: 0.8003\n",
      "Epoch 26/30\n",
      "24/24 [==============================] - 1s 28ms/step - loss: 0.4303 - binary_accuracy: 0.7978\n",
      "Epoch 27/30\n",
      "24/24 [==============================] - 1s 30ms/step - loss: 0.4291 - binary_accuracy: 0.8000\n",
      "Epoch 28/30\n",
      "24/24 [==============================] - 1s 29ms/step - loss: 0.4260 - binary_accuracy: 0.7966: 0s - loss: 0.4194 - binary_accurac\n",
      "Epoch 29/30\n",
      "24/24 [==============================] - 1s 30ms/step - loss: 0.4403 - binary_accuracy: 0.7963\n",
      "Epoch 30/30\n",
      "24/24 [==============================] - 1s 29ms/step - loss: 0.4546 - binary_accuracy: 0.7921\n"
     ]
    },
    {
     "data": {
      "text/plain": [
       "<tensorflow.python.keras.callbacks.History at 0x16275c370>"
      ]
     },
     "execution_count": 1389,
     "metadata": {},
     "output_type": "execute_result"
    }
   ],
   "source": [
    "from numpy.random import seed\n",
    "seed(1)\n",
    "tf.random.set_seed(1)\n",
    "nn_simple7.fit(keras_simple_7_train, y_simples_log_train, epochs=30, batch_size=512)"
   ]
  },
  {
   "cell_type": "code",
   "execution_count": 1390,
   "metadata": {},
   "outputs": [
    {
     "name": "stdout",
     "output_type": "stream",
     "text": [
      "94/94 [==============================] - 0s 2ms/step - loss: 0.4591 - binary_accuracy: 0.7847\n"
     ]
    }
   ],
   "source": [
    "results_simple7 = nn_simple7.evaluate(keras_simple_7_test, y_simples_log_test)"
   ]
  },
  {
   "cell_type": "code",
   "execution_count": null,
   "metadata": {},
   "outputs": [],
   "source": []
  }
 ],
 "metadata": {
  "kernelspec": {
   "display_name": "Python 3",
   "language": "python",
   "name": "python3"
  },
  "language_info": {
   "codemirror_mode": {
    "name": "ipython",
    "version": 3
   },
   "file_extension": ".py",
   "mimetype": "text/x-python",
   "name": "python",
   "nbconvert_exporter": "python",
   "pygments_lexer": "ipython3",
   "version": "3.8.2"
  }
 },
 "nbformat": 4,
 "nbformat_minor": 4
}
